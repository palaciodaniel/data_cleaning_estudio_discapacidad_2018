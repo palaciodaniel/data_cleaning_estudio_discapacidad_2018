{
 "cells": [
  {
   "cell_type": "markdown",
   "metadata": {},
   "source": [
    "# Proyecto de Data Cleaning / Limpieza de Datos - Estudio de Discapacidad 2018\n",
    "Por **Daniel Palacio** (github.com/palaciodaniel) - Diciembre de 2020\n",
    "\n",
    "- - -\n",
    "\n",
    "## 1. Carga de Dataset y Librerías Requeridas"
   ]
  },
  {
   "cell_type": "code",
   "execution_count": 1,
   "metadata": {},
   "outputs": [],
   "source": [
    "import pandas as pd\n",
    "import missingno as msno\n",
    "\n",
    "df = pd.read_csv(\"base_estudio_discapacidad_2018.csv\", sep = \";\", na_values= \" \")"
   ]
  },
  {
   "cell_type": "markdown",
   "metadata": {},
   "source": [
    "Este dataset fue obtenido del sitio oficial del [INDEC](https://www.indec.gob.ar/), el *Instituto Nacional de Estadística y Censos* de Argentina.\n",
    "\n",
    "La sección específica del estudio puede consultarse en el [siguiente enlace](https://www.indec.gob.ar/indec/web/Institucional-Indec-BasesDeDatos-7).\n",
    "\n",
    "Los materiales utilizados pueden visualizarse/descargarse de estos respectivos enlaces:\n",
    "\n",
    "- [Base de Datos (formato CSV)](https://www.indec.gob.ar/ftp/cuadros/menusuperior/enpd/base_estudio_discapacidad_2018.zip) \n",
    "- [Manual de Uso (formato PDF)](https://www.indec.gob.ar/ftp/cuadros/menusuperior/enpd/estudio_discapacidad_manual_base_datos_usuario.pdf)\n",
    "\n",
    "Aunque no es absolutamente imprescindible, **se recomienda abrir el Manual de Uso en la página 9 y tenerlo presente antes de continuar con el resto de esta Notebook**.\n",
    "\n",
    "- - -\n",
    "\n",
    "## 2. Análisis Exploratorio de Datos\n",
    "\n",
    "El atributo _shape_ se interpreta como (número de casos/observaciones, número de columnas/especificaciones)."
   ]
  },
  {
   "cell_type": "code",
   "execution_count": 2,
   "metadata": {},
   "outputs": [
    {
     "data": {
      "text/plain": [
       "(82327, 35)"
      ]
     },
     "execution_count": 2,
     "metadata": {},
     "output_type": "execute_result"
    }
   ],
   "source": [
    "df.shape"
   ]
  },
  {
   "cell_type": "markdown",
   "metadata": {},
   "source": [
    "Dado que son 35 columnas, si queremos visualizar sus valores no entrarían en la pantalla por ser demasiadas, por lo que vamos a dividir este proceso en un par de celdas así se posibilita una fácil primera lectura de los datos.\n",
    "\n",
    "\":15\" hace referencia a que nos limitaremos a los 15 primeros casos. \":11\" indica que visualizaremos en este primer bloque las primeras 10 columnas (la 11 no se cuenta).\n",
    "\n",
    "Si en el contenido de una columna apareciera el valor \"NaN\", esto significa que está vacía."
   ]
  },
  {
   "cell_type": "code",
   "execution_count": 3,
   "metadata": {},
   "outputs": [
    {
     "data": {
      "text/html": [
       "<div>\n",
       "<style scoped>\n",
       "    .dataframe tbody tr th:only-of-type {\n",
       "        vertical-align: middle;\n",
       "    }\n",
       "\n",
       "    .dataframe tbody tr th {\n",
       "        vertical-align: top;\n",
       "    }\n",
       "\n",
       "    .dataframe thead th {\n",
       "        text-align: right;\n",
       "    }\n",
       "</style>\n",
       "<table border=\"1\" class=\"dataframe\">\n",
       "  <thead>\n",
       "    <tr style=\"text-align: right;\">\n",
       "      <th></th>\n",
       "      <th>ID</th>\n",
       "      <th>pondera</th>\n",
       "      <th>personas_hogar</th>\n",
       "      <th>hogar_dificultad</th>\n",
       "      <th>personas_dificultad_hogar</th>\n",
       "      <th>tipo_hogar</th>\n",
       "      <th>pa01</th>\n",
       "      <th>pa03</th>\n",
       "      <th>pa04</th>\n",
       "      <th>edad_grandes_grupos</th>\n",
       "      <th>edad_agrupada</th>\n",
       "    </tr>\n",
       "  </thead>\n",
       "  <tbody>\n",
       "    <tr>\n",
       "      <th>0</th>\n",
       "      <td>1</td>\n",
       "      <td>413</td>\n",
       "      <td>4</td>\n",
       "      <td>0</td>\n",
       "      <td>NaN</td>\n",
       "      <td>2</td>\n",
       "      <td>1</td>\n",
       "      <td>1</td>\n",
       "      <td>1</td>\n",
       "      <td>2</td>\n",
       "      <td>3</td>\n",
       "    </tr>\n",
       "    <tr>\n",
       "      <th>1</th>\n",
       "      <td>2</td>\n",
       "      <td>473</td>\n",
       "      <td>5</td>\n",
       "      <td>0</td>\n",
       "      <td>NaN</td>\n",
       "      <td>2</td>\n",
       "      <td>3</td>\n",
       "      <td>3</td>\n",
       "      <td>1</td>\n",
       "      <td>2</td>\n",
       "      <td>3</td>\n",
       "    </tr>\n",
       "    <tr>\n",
       "      <th>2</th>\n",
       "      <td>3</td>\n",
       "      <td>473</td>\n",
       "      <td>5</td>\n",
       "      <td>0</td>\n",
       "      <td>NaN</td>\n",
       "      <td>2</td>\n",
       "      <td>4</td>\n",
       "      <td>3</td>\n",
       "      <td>1</td>\n",
       "      <td>2</td>\n",
       "      <td>3</td>\n",
       "    </tr>\n",
       "    <tr>\n",
       "      <th>3</th>\n",
       "      <td>4</td>\n",
       "      <td>473</td>\n",
       "      <td>5</td>\n",
       "      <td>0</td>\n",
       "      <td>NaN</td>\n",
       "      <td>2</td>\n",
       "      <td>5</td>\n",
       "      <td>3</td>\n",
       "      <td>1</td>\n",
       "      <td>1</td>\n",
       "      <td>2</td>\n",
       "    </tr>\n",
       "    <tr>\n",
       "      <th>4</th>\n",
       "      <td>5</td>\n",
       "      <td>409</td>\n",
       "      <td>3</td>\n",
       "      <td>1</td>\n",
       "      <td>1.0</td>\n",
       "      <td>3</td>\n",
       "      <td>1</td>\n",
       "      <td>1</td>\n",
       "      <td>2</td>\n",
       "      <td>2</td>\n",
       "      <td>4</td>\n",
       "    </tr>\n",
       "    <tr>\n",
       "      <th>5</th>\n",
       "      <td>6</td>\n",
       "      <td>409</td>\n",
       "      <td>3</td>\n",
       "      <td>1</td>\n",
       "      <td>1.0</td>\n",
       "      <td>3</td>\n",
       "      <td>2</td>\n",
       "      <td>5</td>\n",
       "      <td>2</td>\n",
       "      <td>3</td>\n",
       "      <td>5</td>\n",
       "    </tr>\n",
       "    <tr>\n",
       "      <th>6</th>\n",
       "      <td>7</td>\n",
       "      <td>409</td>\n",
       "      <td>3</td>\n",
       "      <td>1</td>\n",
       "      <td>1.0</td>\n",
       "      <td>3</td>\n",
       "      <td>3</td>\n",
       "      <td>6</td>\n",
       "      <td>2</td>\n",
       "      <td>2</td>\n",
       "      <td>3</td>\n",
       "    </tr>\n",
       "    <tr>\n",
       "      <th>7</th>\n",
       "      <td>8</td>\n",
       "      <td>394</td>\n",
       "      <td>2</td>\n",
       "      <td>0</td>\n",
       "      <td>NaN</td>\n",
       "      <td>2</td>\n",
       "      <td>1</td>\n",
       "      <td>1</td>\n",
       "      <td>1</td>\n",
       "      <td>3</td>\n",
       "      <td>5</td>\n",
       "    </tr>\n",
       "    <tr>\n",
       "      <th>8</th>\n",
       "      <td>9</td>\n",
       "      <td>394</td>\n",
       "      <td>2</td>\n",
       "      <td>0</td>\n",
       "      <td>NaN</td>\n",
       "      <td>2</td>\n",
       "      <td>2</td>\n",
       "      <td>2</td>\n",
       "      <td>2</td>\n",
       "      <td>3</td>\n",
       "      <td>5</td>\n",
       "    </tr>\n",
       "    <tr>\n",
       "      <th>9</th>\n",
       "      <td>10</td>\n",
       "      <td>560</td>\n",
       "      <td>3</td>\n",
       "      <td>0</td>\n",
       "      <td>NaN</td>\n",
       "      <td>2</td>\n",
       "      <td>1</td>\n",
       "      <td>1</td>\n",
       "      <td>1</td>\n",
       "      <td>2</td>\n",
       "      <td>4</td>\n",
       "    </tr>\n",
       "    <tr>\n",
       "      <th>10</th>\n",
       "      <td>11</td>\n",
       "      <td>560</td>\n",
       "      <td>3</td>\n",
       "      <td>0</td>\n",
       "      <td>NaN</td>\n",
       "      <td>2</td>\n",
       "      <td>2</td>\n",
       "      <td>2</td>\n",
       "      <td>2</td>\n",
       "      <td>2</td>\n",
       "      <td>3</td>\n",
       "    </tr>\n",
       "    <tr>\n",
       "      <th>11</th>\n",
       "      <td>12</td>\n",
       "      <td>560</td>\n",
       "      <td>3</td>\n",
       "      <td>0</td>\n",
       "      <td>NaN</td>\n",
       "      <td>2</td>\n",
       "      <td>3</td>\n",
       "      <td>3</td>\n",
       "      <td>1</td>\n",
       "      <td>1</td>\n",
       "      <td>1</td>\n",
       "    </tr>\n",
       "    <tr>\n",
       "      <th>12</th>\n",
       "      <td>13</td>\n",
       "      <td>262</td>\n",
       "      <td>1</td>\n",
       "      <td>0</td>\n",
       "      <td>NaN</td>\n",
       "      <td>1</td>\n",
       "      <td>1</td>\n",
       "      <td>1</td>\n",
       "      <td>1</td>\n",
       "      <td>2</td>\n",
       "      <td>3</td>\n",
       "    </tr>\n",
       "    <tr>\n",
       "      <th>13</th>\n",
       "      <td>14</td>\n",
       "      <td>269</td>\n",
       "      <td>2</td>\n",
       "      <td>1</td>\n",
       "      <td>1.0</td>\n",
       "      <td>3</td>\n",
       "      <td>1</td>\n",
       "      <td>1</td>\n",
       "      <td>1</td>\n",
       "      <td>2</td>\n",
       "      <td>4</td>\n",
       "    </tr>\n",
       "    <tr>\n",
       "      <th>14</th>\n",
       "      <td>15</td>\n",
       "      <td>269</td>\n",
       "      <td>2</td>\n",
       "      <td>1</td>\n",
       "      <td>1.0</td>\n",
       "      <td>3</td>\n",
       "      <td>2</td>\n",
       "      <td>6</td>\n",
       "      <td>2</td>\n",
       "      <td>2</td>\n",
       "      <td>4</td>\n",
       "    </tr>\n",
       "  </tbody>\n",
       "</table>\n",
       "</div>"
      ],
      "text/plain": [
       "    ID  pondera  personas_hogar  hogar_dificultad  personas_dificultad_hogar  \\\n",
       "0    1      413               4                 0                        NaN   \n",
       "1    2      473               5                 0                        NaN   \n",
       "2    3      473               5                 0                        NaN   \n",
       "3    4      473               5                 0                        NaN   \n",
       "4    5      409               3                 1                        1.0   \n",
       "5    6      409               3                 1                        1.0   \n",
       "6    7      409               3                 1                        1.0   \n",
       "7    8      394               2                 0                        NaN   \n",
       "8    9      394               2                 0                        NaN   \n",
       "9   10      560               3                 0                        NaN   \n",
       "10  11      560               3                 0                        NaN   \n",
       "11  12      560               3                 0                        NaN   \n",
       "12  13      262               1                 0                        NaN   \n",
       "13  14      269               2                 1                        1.0   \n",
       "14  15      269               2                 1                        1.0   \n",
       "\n",
       "    tipo_hogar  pa01  pa03  pa04  edad_grandes_grupos  edad_agrupada  \n",
       "0            2     1     1     1                    2              3  \n",
       "1            2     3     3     1                    2              3  \n",
       "2            2     4     3     1                    2              3  \n",
       "3            2     5     3     1                    1              2  \n",
       "4            3     1     1     2                    2              4  \n",
       "5            3     2     5     2                    3              5  \n",
       "6            3     3     6     2                    2              3  \n",
       "7            2     1     1     1                    3              5  \n",
       "8            2     2     2     2                    3              5  \n",
       "9            2     1     1     1                    2              4  \n",
       "10           2     2     2     2                    2              3  \n",
       "11           2     3     3     1                    1              1  \n",
       "12           1     1     1     1                    2              3  \n",
       "13           3     1     1     1                    2              4  \n",
       "14           3     2     6     2                    2              4  "
      ]
     },
     "execution_count": 3,
     "metadata": {},
     "output_type": "execute_result"
    }
   ],
   "source": [
    "df.iloc[:15, :11]"
   ]
  },
  {
   "cell_type": "markdown",
   "metadata": {},
   "source": [
    "En esta segunda parte visualizaremos desde las columnas 11 hasta la 22.\n",
    "\n",
    "Téngase en cuenta que no existe una columna llamada \"imputadoA\", no se está omitiendo ninguna."
   ]
  },
  {
   "cell_type": "code",
   "execution_count": 4,
   "metadata": {},
   "outputs": [
    {
     "data": {
      "text/html": [
       "<div>\n",
       "<style scoped>\n",
       "    .dataframe tbody tr th:only-of-type {\n",
       "        vertical-align: middle;\n",
       "    }\n",
       "\n",
       "    .dataframe tbody tr th {\n",
       "        vertical-align: top;\n",
       "    }\n",
       "\n",
       "    .dataframe thead th {\n",
       "        text-align: right;\n",
       "    }\n",
       "</style>\n",
       "<table border=\"1\" class=\"dataframe\">\n",
       "  <thead>\n",
       "    <tr style=\"text-align: right;\">\n",
       "      <th></th>\n",
       "      <th>imputadoB</th>\n",
       "      <th>imputadoC</th>\n",
       "      <th>imputadoD</th>\n",
       "      <th>dificultad_6ymas</th>\n",
       "      <th>dificultad_total</th>\n",
       "      <th>dificultades</th>\n",
       "      <th>tipo_dificultad</th>\n",
       "      <th>certificado</th>\n",
       "      <th>PC01</th>\n",
       "      <th>edad_inicio</th>\n",
       "      <th>pc03</th>\n",
       "      <th>pc04</th>\n",
       "    </tr>\n",
       "  </thead>\n",
       "  <tbody>\n",
       "    <tr>\n",
       "      <th>0</th>\n",
       "      <td>0</td>\n",
       "      <td>0</td>\n",
       "      <td>0</td>\n",
       "      <td>0.0</td>\n",
       "      <td>0</td>\n",
       "      <td>NaN</td>\n",
       "      <td>NaN</td>\n",
       "      <td>2</td>\n",
       "      <td>NaN</td>\n",
       "      <td>NaN</td>\n",
       "      <td>NaN</td>\n",
       "      <td>NaN</td>\n",
       "    </tr>\n",
       "    <tr>\n",
       "      <th>1</th>\n",
       "      <td>1</td>\n",
       "      <td>0</td>\n",
       "      <td>0</td>\n",
       "      <td>0.0</td>\n",
       "      <td>0</td>\n",
       "      <td>NaN</td>\n",
       "      <td>NaN</td>\n",
       "      <td>2</td>\n",
       "      <td>NaN</td>\n",
       "      <td>NaN</td>\n",
       "      <td>NaN</td>\n",
       "      <td>NaN</td>\n",
       "    </tr>\n",
       "    <tr>\n",
       "      <th>2</th>\n",
       "      <td>1</td>\n",
       "      <td>0</td>\n",
       "      <td>0</td>\n",
       "      <td>0.0</td>\n",
       "      <td>0</td>\n",
       "      <td>NaN</td>\n",
       "      <td>NaN</td>\n",
       "      <td>2</td>\n",
       "      <td>NaN</td>\n",
       "      <td>NaN</td>\n",
       "      <td>NaN</td>\n",
       "      <td>NaN</td>\n",
       "    </tr>\n",
       "    <tr>\n",
       "      <th>3</th>\n",
       "      <td>1</td>\n",
       "      <td>0</td>\n",
       "      <td>0</td>\n",
       "      <td>0.0</td>\n",
       "      <td>0</td>\n",
       "      <td>NaN</td>\n",
       "      <td>NaN</td>\n",
       "      <td>2</td>\n",
       "      <td>NaN</td>\n",
       "      <td>NaN</td>\n",
       "      <td>NaN</td>\n",
       "      <td>NaN</td>\n",
       "    </tr>\n",
       "    <tr>\n",
       "      <th>4</th>\n",
       "      <td>0</td>\n",
       "      <td>0</td>\n",
       "      <td>0</td>\n",
       "      <td>0.0</td>\n",
       "      <td>0</td>\n",
       "      <td>NaN</td>\n",
       "      <td>NaN</td>\n",
       "      <td>2</td>\n",
       "      <td>NaN</td>\n",
       "      <td>NaN</td>\n",
       "      <td>NaN</td>\n",
       "      <td>NaN</td>\n",
       "    </tr>\n",
       "    <tr>\n",
       "      <th>5</th>\n",
       "      <td>0</td>\n",
       "      <td>0</td>\n",
       "      <td>0</td>\n",
       "      <td>1.0</td>\n",
       "      <td>1</td>\n",
       "      <td>1.0</td>\n",
       "      <td>1.0</td>\n",
       "      <td>2</td>\n",
       "      <td>2.0</td>\n",
       "      <td>3.0</td>\n",
       "      <td>4.0</td>\n",
       "      <td>1.0</td>\n",
       "    </tr>\n",
       "    <tr>\n",
       "      <th>6</th>\n",
       "      <td>0</td>\n",
       "      <td>0</td>\n",
       "      <td>0</td>\n",
       "      <td>0.0</td>\n",
       "      <td>0</td>\n",
       "      <td>NaN</td>\n",
       "      <td>NaN</td>\n",
       "      <td>2</td>\n",
       "      <td>NaN</td>\n",
       "      <td>NaN</td>\n",
       "      <td>NaN</td>\n",
       "      <td>NaN</td>\n",
       "    </tr>\n",
       "    <tr>\n",
       "      <th>7</th>\n",
       "      <td>0</td>\n",
       "      <td>0</td>\n",
       "      <td>0</td>\n",
       "      <td>0.0</td>\n",
       "      <td>0</td>\n",
       "      <td>NaN</td>\n",
       "      <td>NaN</td>\n",
       "      <td>2</td>\n",
       "      <td>NaN</td>\n",
       "      <td>NaN</td>\n",
       "      <td>NaN</td>\n",
       "      <td>NaN</td>\n",
       "    </tr>\n",
       "    <tr>\n",
       "      <th>8</th>\n",
       "      <td>0</td>\n",
       "      <td>0</td>\n",
       "      <td>0</td>\n",
       "      <td>0.0</td>\n",
       "      <td>0</td>\n",
       "      <td>NaN</td>\n",
       "      <td>NaN</td>\n",
       "      <td>2</td>\n",
       "      <td>NaN</td>\n",
       "      <td>NaN</td>\n",
       "      <td>NaN</td>\n",
       "      <td>NaN</td>\n",
       "    </tr>\n",
       "    <tr>\n",
       "      <th>9</th>\n",
       "      <td>0</td>\n",
       "      <td>0</td>\n",
       "      <td>0</td>\n",
       "      <td>0.0</td>\n",
       "      <td>0</td>\n",
       "      <td>NaN</td>\n",
       "      <td>NaN</td>\n",
       "      <td>2</td>\n",
       "      <td>NaN</td>\n",
       "      <td>NaN</td>\n",
       "      <td>NaN</td>\n",
       "      <td>NaN</td>\n",
       "    </tr>\n",
       "    <tr>\n",
       "      <th>10</th>\n",
       "      <td>0</td>\n",
       "      <td>0</td>\n",
       "      <td>0</td>\n",
       "      <td>0.0</td>\n",
       "      <td>0</td>\n",
       "      <td>NaN</td>\n",
       "      <td>NaN</td>\n",
       "      <td>2</td>\n",
       "      <td>NaN</td>\n",
       "      <td>NaN</td>\n",
       "      <td>NaN</td>\n",
       "      <td>NaN</td>\n",
       "    </tr>\n",
       "    <tr>\n",
       "      <th>11</th>\n",
       "      <td>0</td>\n",
       "      <td>0</td>\n",
       "      <td>0</td>\n",
       "      <td>NaN</td>\n",
       "      <td>0</td>\n",
       "      <td>NaN</td>\n",
       "      <td>NaN</td>\n",
       "      <td>2</td>\n",
       "      <td>NaN</td>\n",
       "      <td>NaN</td>\n",
       "      <td>NaN</td>\n",
       "      <td>NaN</td>\n",
       "    </tr>\n",
       "    <tr>\n",
       "      <th>12</th>\n",
       "      <td>0</td>\n",
       "      <td>0</td>\n",
       "      <td>0</td>\n",
       "      <td>0.0</td>\n",
       "      <td>0</td>\n",
       "      <td>NaN</td>\n",
       "      <td>NaN</td>\n",
       "      <td>2</td>\n",
       "      <td>NaN</td>\n",
       "      <td>NaN</td>\n",
       "      <td>NaN</td>\n",
       "      <td>NaN</td>\n",
       "    </tr>\n",
       "    <tr>\n",
       "      <th>13</th>\n",
       "      <td>0</td>\n",
       "      <td>0</td>\n",
       "      <td>0</td>\n",
       "      <td>1.0</td>\n",
       "      <td>1</td>\n",
       "      <td>4.0</td>\n",
       "      <td>9.0</td>\n",
       "      <td>1</td>\n",
       "      <td>2.0</td>\n",
       "      <td>3.0</td>\n",
       "      <td>4.0</td>\n",
       "      <td>1.0</td>\n",
       "    </tr>\n",
       "    <tr>\n",
       "      <th>14</th>\n",
       "      <td>0</td>\n",
       "      <td>0</td>\n",
       "      <td>0</td>\n",
       "      <td>0.0</td>\n",
       "      <td>0</td>\n",
       "      <td>NaN</td>\n",
       "      <td>NaN</td>\n",
       "      <td>2</td>\n",
       "      <td>NaN</td>\n",
       "      <td>NaN</td>\n",
       "      <td>NaN</td>\n",
       "      <td>NaN</td>\n",
       "    </tr>\n",
       "  </tbody>\n",
       "</table>\n",
       "</div>"
      ],
      "text/plain": [
       "    imputadoB  imputadoC  imputadoD  dificultad_6ymas  dificultad_total  \\\n",
       "0           0          0          0               0.0                 0   \n",
       "1           1          0          0               0.0                 0   \n",
       "2           1          0          0               0.0                 0   \n",
       "3           1          0          0               0.0                 0   \n",
       "4           0          0          0               0.0                 0   \n",
       "5           0          0          0               1.0                 1   \n",
       "6           0          0          0               0.0                 0   \n",
       "7           0          0          0               0.0                 0   \n",
       "8           0          0          0               0.0                 0   \n",
       "9           0          0          0               0.0                 0   \n",
       "10          0          0          0               0.0                 0   \n",
       "11          0          0          0               NaN                 0   \n",
       "12          0          0          0               0.0                 0   \n",
       "13          0          0          0               1.0                 1   \n",
       "14          0          0          0               0.0                 0   \n",
       "\n",
       "    dificultades  tipo_dificultad  certificado  PC01  edad_inicio  pc03  pc04  \n",
       "0            NaN              NaN            2   NaN          NaN   NaN   NaN  \n",
       "1            NaN              NaN            2   NaN          NaN   NaN   NaN  \n",
       "2            NaN              NaN            2   NaN          NaN   NaN   NaN  \n",
       "3            NaN              NaN            2   NaN          NaN   NaN   NaN  \n",
       "4            NaN              NaN            2   NaN          NaN   NaN   NaN  \n",
       "5            1.0              1.0            2   2.0          3.0   4.0   1.0  \n",
       "6            NaN              NaN            2   NaN          NaN   NaN   NaN  \n",
       "7            NaN              NaN            2   NaN          NaN   NaN   NaN  \n",
       "8            NaN              NaN            2   NaN          NaN   NaN   NaN  \n",
       "9            NaN              NaN            2   NaN          NaN   NaN   NaN  \n",
       "10           NaN              NaN            2   NaN          NaN   NaN   NaN  \n",
       "11           NaN              NaN            2   NaN          NaN   NaN   NaN  \n",
       "12           NaN              NaN            2   NaN          NaN   NaN   NaN  \n",
       "13           4.0              9.0            1   2.0          3.0   4.0   1.0  \n",
       "14           NaN              NaN            2   NaN          NaN   NaN   NaN  "
      ]
     },
     "execution_count": 4,
     "metadata": {},
     "output_type": "execute_result"
    }
   ],
   "source": [
    "df.iloc[:15, 11:23]"
   ]
  },
  {
   "cell_type": "code",
   "execution_count": 5,
   "metadata": {},
   "outputs": [
    {
     "data": {
      "text/html": [
       "<div>\n",
       "<style scoped>\n",
       "    .dataframe tbody tr th:only-of-type {\n",
       "        vertical-align: middle;\n",
       "    }\n",
       "\n",
       "    .dataframe tbody tr th {\n",
       "        vertical-align: top;\n",
       "    }\n",
       "\n",
       "    .dataframe thead th {\n",
       "        text-align: right;\n",
       "    }\n",
       "</style>\n",
       "<table border=\"1\" class=\"dataframe\">\n",
       "  <thead>\n",
       "    <tr style=\"text-align: right;\">\n",
       "      <th></th>\n",
       "      <th>PC05</th>\n",
       "      <th>PC06</th>\n",
       "      <th>PC07</th>\n",
       "      <th>PC08</th>\n",
       "      <th>mod_edu</th>\n",
       "      <th>MNEA</th>\n",
       "      <th>PC19</th>\n",
       "      <th>PC20</th>\n",
       "      <th>PC21</th>\n",
       "      <th>PC26</th>\n",
       "      <th>Estado_ocup</th>\n",
       "      <th>cat_ocup</th>\n",
       "    </tr>\n",
       "  </thead>\n",
       "  <tbody>\n",
       "    <tr>\n",
       "      <th>0</th>\n",
       "      <td>NaN</td>\n",
       "      <td>NaN</td>\n",
       "      <td>NaN</td>\n",
       "      <td>NaN</td>\n",
       "      <td>NaN</td>\n",
       "      <td>NaN</td>\n",
       "      <td>NaN</td>\n",
       "      <td>NaN</td>\n",
       "      <td>NaN</td>\n",
       "      <td>NaN</td>\n",
       "      <td>NaN</td>\n",
       "      <td>NaN</td>\n",
       "    </tr>\n",
       "    <tr>\n",
       "      <th>1</th>\n",
       "      <td>NaN</td>\n",
       "      <td>NaN</td>\n",
       "      <td>NaN</td>\n",
       "      <td>NaN</td>\n",
       "      <td>NaN</td>\n",
       "      <td>NaN</td>\n",
       "      <td>NaN</td>\n",
       "      <td>NaN</td>\n",
       "      <td>NaN</td>\n",
       "      <td>NaN</td>\n",
       "      <td>NaN</td>\n",
       "      <td>NaN</td>\n",
       "    </tr>\n",
       "    <tr>\n",
       "      <th>2</th>\n",
       "      <td>NaN</td>\n",
       "      <td>NaN</td>\n",
       "      <td>NaN</td>\n",
       "      <td>NaN</td>\n",
       "      <td>NaN</td>\n",
       "      <td>NaN</td>\n",
       "      <td>NaN</td>\n",
       "      <td>NaN</td>\n",
       "      <td>NaN</td>\n",
       "      <td>NaN</td>\n",
       "      <td>NaN</td>\n",
       "      <td>NaN</td>\n",
       "    </tr>\n",
       "    <tr>\n",
       "      <th>3</th>\n",
       "      <td>NaN</td>\n",
       "      <td>NaN</td>\n",
       "      <td>NaN</td>\n",
       "      <td>NaN</td>\n",
       "      <td>NaN</td>\n",
       "      <td>NaN</td>\n",
       "      <td>NaN</td>\n",
       "      <td>NaN</td>\n",
       "      <td>NaN</td>\n",
       "      <td>NaN</td>\n",
       "      <td>NaN</td>\n",
       "      <td>NaN</td>\n",
       "    </tr>\n",
       "    <tr>\n",
       "      <th>4</th>\n",
       "      <td>NaN</td>\n",
       "      <td>NaN</td>\n",
       "      <td>NaN</td>\n",
       "      <td>NaN</td>\n",
       "      <td>NaN</td>\n",
       "      <td>NaN</td>\n",
       "      <td>NaN</td>\n",
       "      <td>NaN</td>\n",
       "      <td>NaN</td>\n",
       "      <td>NaN</td>\n",
       "      <td>NaN</td>\n",
       "      <td>NaN</td>\n",
       "    </tr>\n",
       "    <tr>\n",
       "      <th>5</th>\n",
       "      <td>1.0</td>\n",
       "      <td>1.0</td>\n",
       "      <td>1.0</td>\n",
       "      <td>2.0</td>\n",
       "      <td>1.0</td>\n",
       "      <td>1.0</td>\n",
       "      <td>7.0</td>\n",
       "      <td>2.0</td>\n",
       "      <td>1.0</td>\n",
       "      <td>7.0</td>\n",
       "      <td>3.0</td>\n",
       "      <td>NaN</td>\n",
       "    </tr>\n",
       "    <tr>\n",
       "      <th>6</th>\n",
       "      <td>NaN</td>\n",
       "      <td>NaN</td>\n",
       "      <td>NaN</td>\n",
       "      <td>NaN</td>\n",
       "      <td>NaN</td>\n",
       "      <td>NaN</td>\n",
       "      <td>NaN</td>\n",
       "      <td>NaN</td>\n",
       "      <td>NaN</td>\n",
       "      <td>NaN</td>\n",
       "      <td>NaN</td>\n",
       "      <td>NaN</td>\n",
       "    </tr>\n",
       "    <tr>\n",
       "      <th>7</th>\n",
       "      <td>NaN</td>\n",
       "      <td>NaN</td>\n",
       "      <td>NaN</td>\n",
       "      <td>NaN</td>\n",
       "      <td>NaN</td>\n",
       "      <td>NaN</td>\n",
       "      <td>NaN</td>\n",
       "      <td>NaN</td>\n",
       "      <td>NaN</td>\n",
       "      <td>NaN</td>\n",
       "      <td>NaN</td>\n",
       "      <td>NaN</td>\n",
       "    </tr>\n",
       "    <tr>\n",
       "      <th>8</th>\n",
       "      <td>NaN</td>\n",
       "      <td>NaN</td>\n",
       "      <td>NaN</td>\n",
       "      <td>NaN</td>\n",
       "      <td>NaN</td>\n",
       "      <td>NaN</td>\n",
       "      <td>NaN</td>\n",
       "      <td>NaN</td>\n",
       "      <td>NaN</td>\n",
       "      <td>NaN</td>\n",
       "      <td>NaN</td>\n",
       "      <td>NaN</td>\n",
       "    </tr>\n",
       "    <tr>\n",
       "      <th>9</th>\n",
       "      <td>NaN</td>\n",
       "      <td>NaN</td>\n",
       "      <td>NaN</td>\n",
       "      <td>NaN</td>\n",
       "      <td>NaN</td>\n",
       "      <td>NaN</td>\n",
       "      <td>NaN</td>\n",
       "      <td>NaN</td>\n",
       "      <td>NaN</td>\n",
       "      <td>NaN</td>\n",
       "      <td>NaN</td>\n",
       "      <td>NaN</td>\n",
       "    </tr>\n",
       "    <tr>\n",
       "      <th>10</th>\n",
       "      <td>NaN</td>\n",
       "      <td>NaN</td>\n",
       "      <td>NaN</td>\n",
       "      <td>NaN</td>\n",
       "      <td>NaN</td>\n",
       "      <td>NaN</td>\n",
       "      <td>NaN</td>\n",
       "      <td>NaN</td>\n",
       "      <td>NaN</td>\n",
       "      <td>NaN</td>\n",
       "      <td>NaN</td>\n",
       "      <td>NaN</td>\n",
       "    </tr>\n",
       "    <tr>\n",
       "      <th>11</th>\n",
       "      <td>NaN</td>\n",
       "      <td>NaN</td>\n",
       "      <td>NaN</td>\n",
       "      <td>NaN</td>\n",
       "      <td>NaN</td>\n",
       "      <td>NaN</td>\n",
       "      <td>NaN</td>\n",
       "      <td>NaN</td>\n",
       "      <td>NaN</td>\n",
       "      <td>NaN</td>\n",
       "      <td>NaN</td>\n",
       "      <td>NaN</td>\n",
       "    </tr>\n",
       "    <tr>\n",
       "      <th>12</th>\n",
       "      <td>NaN</td>\n",
       "      <td>NaN</td>\n",
       "      <td>NaN</td>\n",
       "      <td>NaN</td>\n",
       "      <td>NaN</td>\n",
       "      <td>NaN</td>\n",
       "      <td>NaN</td>\n",
       "      <td>NaN</td>\n",
       "      <td>NaN</td>\n",
       "      <td>NaN</td>\n",
       "      <td>NaN</td>\n",
       "      <td>NaN</td>\n",
       "    </tr>\n",
       "    <tr>\n",
       "      <th>13</th>\n",
       "      <td>1.0</td>\n",
       "      <td>1.0</td>\n",
       "      <td>1.0</td>\n",
       "      <td>2.0</td>\n",
       "      <td>1.0</td>\n",
       "      <td>2.0</td>\n",
       "      <td>5.0</td>\n",
       "      <td>2.0</td>\n",
       "      <td>1.0</td>\n",
       "      <td>7.0</td>\n",
       "      <td>3.0</td>\n",
       "      <td>NaN</td>\n",
       "    </tr>\n",
       "    <tr>\n",
       "      <th>14</th>\n",
       "      <td>NaN</td>\n",
       "      <td>NaN</td>\n",
       "      <td>NaN</td>\n",
       "      <td>NaN</td>\n",
       "      <td>NaN</td>\n",
       "      <td>NaN</td>\n",
       "      <td>NaN</td>\n",
       "      <td>NaN</td>\n",
       "      <td>NaN</td>\n",
       "      <td>NaN</td>\n",
       "      <td>NaN</td>\n",
       "      <td>NaN</td>\n",
       "    </tr>\n",
       "  </tbody>\n",
       "</table>\n",
       "</div>"
      ],
      "text/plain": [
       "    PC05  PC06  PC07  PC08  mod_edu  MNEA  PC19  PC20  PC21  PC26  \\\n",
       "0    NaN   NaN   NaN   NaN      NaN   NaN   NaN   NaN   NaN   NaN   \n",
       "1    NaN   NaN   NaN   NaN      NaN   NaN   NaN   NaN   NaN   NaN   \n",
       "2    NaN   NaN   NaN   NaN      NaN   NaN   NaN   NaN   NaN   NaN   \n",
       "3    NaN   NaN   NaN   NaN      NaN   NaN   NaN   NaN   NaN   NaN   \n",
       "4    NaN   NaN   NaN   NaN      NaN   NaN   NaN   NaN   NaN   NaN   \n",
       "5    1.0   1.0   1.0   2.0      1.0   1.0   7.0   2.0   1.0   7.0   \n",
       "6    NaN   NaN   NaN   NaN      NaN   NaN   NaN   NaN   NaN   NaN   \n",
       "7    NaN   NaN   NaN   NaN      NaN   NaN   NaN   NaN   NaN   NaN   \n",
       "8    NaN   NaN   NaN   NaN      NaN   NaN   NaN   NaN   NaN   NaN   \n",
       "9    NaN   NaN   NaN   NaN      NaN   NaN   NaN   NaN   NaN   NaN   \n",
       "10   NaN   NaN   NaN   NaN      NaN   NaN   NaN   NaN   NaN   NaN   \n",
       "11   NaN   NaN   NaN   NaN      NaN   NaN   NaN   NaN   NaN   NaN   \n",
       "12   NaN   NaN   NaN   NaN      NaN   NaN   NaN   NaN   NaN   NaN   \n",
       "13   1.0   1.0   1.0   2.0      1.0   2.0   5.0   2.0   1.0   7.0   \n",
       "14   NaN   NaN   NaN   NaN      NaN   NaN   NaN   NaN   NaN   NaN   \n",
       "\n",
       "    Estado_ocup  cat_ocup  \n",
       "0           NaN       NaN  \n",
       "1           NaN       NaN  \n",
       "2           NaN       NaN  \n",
       "3           NaN       NaN  \n",
       "4           NaN       NaN  \n",
       "5           3.0       NaN  \n",
       "6           NaN       NaN  \n",
       "7           NaN       NaN  \n",
       "8           NaN       NaN  \n",
       "9           NaN       NaN  \n",
       "10          NaN       NaN  \n",
       "11          NaN       NaN  \n",
       "12          NaN       NaN  \n",
       "13          3.0       NaN  \n",
       "14          NaN       NaN  "
      ]
     },
     "execution_count": 5,
     "metadata": {},
     "output_type": "execute_result"
    }
   ],
   "source": [
    "df.iloc[:15, 23:]"
   ]
  },
  {
   "cell_type": "markdown",
   "metadata": {},
   "source": [
    "Visualicemos la lista total de columnas, el número de observaciones completadas en cada una, y el tipo de información que contienen. \"int64\" indica números enteros, mientras que \"float64\" indica números con decimales (aunque a efectos prácticos, en todo este dataset sus valores pueden considerarse enteros).\n",
    "\n",
    "Esto termina de confirmar que se usaron códigos numéricos para todas las columnas, por lo que vamos a irlos reemplazando manualmente con las categorías presentes en el Manual de Uso."
   ]
  },
  {
   "cell_type": "code",
   "execution_count": 6,
   "metadata": {},
   "outputs": [
    {
     "name": "stdout",
     "output_type": "stream",
     "text": [
      "<class 'pandas.core.frame.DataFrame'>\n",
      "RangeIndex: 82327 entries, 0 to 82326\n",
      "Data columns (total 35 columns):\n",
      " #   Column                     Non-Null Count  Dtype  \n",
      "---  ------                     --------------  -----  \n",
      " 0   ID                         82327 non-null  int64  \n",
      " 1   pondera                    82327 non-null  int64  \n",
      " 2   personas_hogar             82327 non-null  int64  \n",
      " 3   hogar_dificultad           82327 non-null  int64  \n",
      " 4   personas_dificultad_hogar  21820 non-null  float64\n",
      " 5   tipo_hogar                 82327 non-null  int64  \n",
      " 6   pa01                       82327 non-null  int64  \n",
      " 7   pa03                       82327 non-null  int64  \n",
      " 8   pa04                       82327 non-null  int64  \n",
      " 9   edad_grandes_grupos        82327 non-null  int64  \n",
      " 10  edad_agrupada              82327 non-null  int64  \n",
      " 11  imputadoB                  82327 non-null  int64  \n",
      " 12  imputadoC                  82327 non-null  int64  \n",
      " 13  imputadoD                  82327 non-null  int64  \n",
      " 14  dificultad_6ymas           75647 non-null  float64\n",
      " 15  dificultad_total           82327 non-null  int64  \n",
      " 16  dificultades               7800 non-null   float64\n",
      " 17  tipo_dificultad            7800 non-null   float64\n",
      " 18  certificado                82327 non-null  int64  \n",
      " 19  PC01                       7800 non-null   float64\n",
      " 20  edad_inicio                6395 non-null   float64\n",
      " 21  pc03                       7800 non-null   float64\n",
      " 22  pc04                       7800 non-null   float64\n",
      " 23  PC05                       7800 non-null   float64\n",
      " 24  PC06                       5009 non-null   float64\n",
      " 25  PC07                       7315 non-null   float64\n",
      " 26  PC08                       7800 non-null   float64\n",
      " 27  mod_edu                    7254 non-null   float64\n",
      " 28  MNEA                       7254 non-null   float64\n",
      " 29  PC19                       6710 non-null   float64\n",
      " 30  PC20                       7315 non-null   float64\n",
      " 31  PC21                       7315 non-null   float64\n",
      " 32  PC26                       4763 non-null   float64\n",
      " 33  Estado_ocup                7315 non-null   float64\n",
      " 34  cat_ocup                   2303 non-null   float64\n",
      "dtypes: float64(20), int64(15)\n",
      "memory usage: 22.0 MB\n"
     ]
    }
   ],
   "source": [
    "df.info()"
   ]
  },
  {
   "cell_type": "markdown",
   "metadata": {},
   "source": [
    "También, si fuera necesario, se eliminarán columnas redundantes y se cambiarán los nombres de ciertas columnas para que sean más informativas.\n",
    "\n",
    "Para finalizar con esta sección, visualicemos por cada columna cuántas observaciones no están vacías. Es importante aclarar que el rellenado de las mismas está más allá de los objetivos de esta Notebook, pero si pudiéramos combinar columnas en una sola y con esto consiguiéramos sacarnos de encima columnas muy vacías, esto por supuesto será considerado como un logro adicional."
   ]
  },
  {
   "cell_type": "code",
   "execution_count": 7,
   "metadata": {},
   "outputs": [
    {
     "data": {
      "text/plain": [
       "<matplotlib.axes._subplots.AxesSubplot at 0x7fe3a0946e50>"
      ]
     },
     "execution_count": 7,
     "metadata": {},
     "output_type": "execute_result"
    },
    {
     "data": {
      "image/png": "[encoded data removed]",
      "text/plain": [
       "<Figure size 1728x720 with 3 Axes>"
      ]
     },
     "metadata": {
      "needs_background": "light"
     },
     "output_type": "display_data"
    }
   ],
   "source": [
    "msno.bar(df)"
   ]
  },
  {
   "cell_type": "markdown",
   "metadata": {},
   "source": [
    "- - -\n",
    "\n",
    "## 3. Data Cleaning / Limpieza de Datos\n",
    "\n",
    "### I. \"ID\"\n",
    "\n",
    "Para comenzar, centrémosnos en la columna \"ID\". ¿Cada valor es único y se corresponde con el número total de observaciones?"
   ]
  },
  {
   "cell_type": "code",
   "execution_count": 8,
   "metadata": {},
   "outputs": [
    {
     "data": {
      "text/plain": [
       "82327"
      ]
     },
     "execution_count": 8,
     "metadata": {},
     "output_type": "execute_result"
    }
   ],
   "source": [
    "df[\"ID\"].nunique()"
   ]
  },
  {
   "cell_type": "markdown",
   "metadata": {},
   "source": [
    "Dado que el conteo de valores fue exactamente igual al número de observaciones (82327), entonces vamos a colocar la columna \"ID\" directamente como índice:"
   ]
  },
  {
   "cell_type": "code",
   "execution_count": 9,
   "metadata": {},
   "outputs": [
    {
     "data": {
      "text/html": [
       "<div>\n",
       "<style scoped>\n",
       "    .dataframe tbody tr th:only-of-type {\n",
       "        vertical-align: middle;\n",
       "    }\n",
       "\n",
       "    .dataframe tbody tr th {\n",
       "        vertical-align: top;\n",
       "    }\n",
       "\n",
       "    .dataframe thead th {\n",
       "        text-align: right;\n",
       "    }\n",
       "</style>\n",
       "<table border=\"1\" class=\"dataframe\">\n",
       "  <thead>\n",
       "    <tr style=\"text-align: right;\">\n",
       "      <th></th>\n",
       "      <th>pondera</th>\n",
       "      <th>personas_hogar</th>\n",
       "      <th>hogar_dificultad</th>\n",
       "      <th>personas_dificultad_hogar</th>\n",
       "      <th>tipo_hogar</th>\n",
       "    </tr>\n",
       "    <tr>\n",
       "      <th>ID</th>\n",
       "      <th></th>\n",
       "      <th></th>\n",
       "      <th></th>\n",
       "      <th></th>\n",
       "      <th></th>\n",
       "    </tr>\n",
       "  </thead>\n",
       "  <tbody>\n",
       "    <tr>\n",
       "      <th>1</th>\n",
       "      <td>413</td>\n",
       "      <td>4</td>\n",
       "      <td>0</td>\n",
       "      <td>NaN</td>\n",
       "      <td>2</td>\n",
       "    </tr>\n",
       "    <tr>\n",
       "      <th>2</th>\n",
       "      <td>473</td>\n",
       "      <td>5</td>\n",
       "      <td>0</td>\n",
       "      <td>NaN</td>\n",
       "      <td>2</td>\n",
       "    </tr>\n",
       "    <tr>\n",
       "      <th>3</th>\n",
       "      <td>473</td>\n",
       "      <td>5</td>\n",
       "      <td>0</td>\n",
       "      <td>NaN</td>\n",
       "      <td>2</td>\n",
       "    </tr>\n",
       "    <tr>\n",
       "      <th>4</th>\n",
       "      <td>473</td>\n",
       "      <td>5</td>\n",
       "      <td>0</td>\n",
       "      <td>NaN</td>\n",
       "      <td>2</td>\n",
       "    </tr>\n",
       "    <tr>\n",
       "      <th>5</th>\n",
       "      <td>409</td>\n",
       "      <td>3</td>\n",
       "      <td>1</td>\n",
       "      <td>1.0</td>\n",
       "      <td>3</td>\n",
       "    </tr>\n",
       "    <tr>\n",
       "      <th>6</th>\n",
       "      <td>409</td>\n",
       "      <td>3</td>\n",
       "      <td>1</td>\n",
       "      <td>1.0</td>\n",
       "      <td>3</td>\n",
       "    </tr>\n",
       "    <tr>\n",
       "      <th>7</th>\n",
       "      <td>409</td>\n",
       "      <td>3</td>\n",
       "      <td>1</td>\n",
       "      <td>1.0</td>\n",
       "      <td>3</td>\n",
       "    </tr>\n",
       "    <tr>\n",
       "      <th>8</th>\n",
       "      <td>394</td>\n",
       "      <td>2</td>\n",
       "      <td>0</td>\n",
       "      <td>NaN</td>\n",
       "      <td>2</td>\n",
       "    </tr>\n",
       "    <tr>\n",
       "      <th>9</th>\n",
       "      <td>394</td>\n",
       "      <td>2</td>\n",
       "      <td>0</td>\n",
       "      <td>NaN</td>\n",
       "      <td>2</td>\n",
       "    </tr>\n",
       "    <tr>\n",
       "      <th>10</th>\n",
       "      <td>560</td>\n",
       "      <td>3</td>\n",
       "      <td>0</td>\n",
       "      <td>NaN</td>\n",
       "      <td>2</td>\n",
       "    </tr>\n",
       "    <tr>\n",
       "      <th>11</th>\n",
       "      <td>560</td>\n",
       "      <td>3</td>\n",
       "      <td>0</td>\n",
       "      <td>NaN</td>\n",
       "      <td>2</td>\n",
       "    </tr>\n",
       "    <tr>\n",
       "      <th>12</th>\n",
       "      <td>560</td>\n",
       "      <td>3</td>\n",
       "      <td>0</td>\n",
       "      <td>NaN</td>\n",
       "      <td>2</td>\n",
       "    </tr>\n",
       "    <tr>\n",
       "      <th>13</th>\n",
       "      <td>262</td>\n",
       "      <td>1</td>\n",
       "      <td>0</td>\n",
       "      <td>NaN</td>\n",
       "      <td>1</td>\n",
       "    </tr>\n",
       "    <tr>\n",
       "      <th>14</th>\n",
       "      <td>269</td>\n",
       "      <td>2</td>\n",
       "      <td>1</td>\n",
       "      <td>1.0</td>\n",
       "      <td>3</td>\n",
       "    </tr>\n",
       "    <tr>\n",
       "      <th>15</th>\n",
       "      <td>269</td>\n",
       "      <td>2</td>\n",
       "      <td>1</td>\n",
       "      <td>1.0</td>\n",
       "      <td>3</td>\n",
       "    </tr>\n",
       "  </tbody>\n",
       "</table>\n",
       "</div>"
      ],
      "text/plain": [
       "    pondera  personas_hogar  hogar_dificultad  personas_dificultad_hogar  \\\n",
       "ID                                                                         \n",
       "1       413               4                 0                        NaN   \n",
       "2       473               5                 0                        NaN   \n",
       "3       473               5                 0                        NaN   \n",
       "4       473               5                 0                        NaN   \n",
       "5       409               3                 1                        1.0   \n",
       "6       409               3                 1                        1.0   \n",
       "7       409               3                 1                        1.0   \n",
       "8       394               2                 0                        NaN   \n",
       "9       394               2                 0                        NaN   \n",
       "10      560               3                 0                        NaN   \n",
       "11      560               3                 0                        NaN   \n",
       "12      560               3                 0                        NaN   \n",
       "13      262               1                 0                        NaN   \n",
       "14      269               2                 1                        1.0   \n",
       "15      269               2                 1                        1.0   \n",
       "\n",
       "    tipo_hogar  \n",
       "ID              \n",
       "1            2  \n",
       "2            2  \n",
       "3            2  \n",
       "4            2  \n",
       "5            3  \n",
       "6            3  \n",
       "7            3  \n",
       "8            2  \n",
       "9            2  \n",
       "10           2  \n",
       "11           2  \n",
       "12           2  \n",
       "13           1  \n",
       "14           3  \n",
       "15           3  "
      ]
     },
     "execution_count": 9,
     "metadata": {},
     "output_type": "execute_result"
    }
   ],
   "source": [
    "df.set_index(\"ID\", inplace = True)\n",
    "df.iloc[:15, :5]"
   ]
  },
  {
   "cell_type": "markdown",
   "metadata": {},
   "source": [
    "- - -\n",
    "\n",
    "### II. \"Pondera\" & \"personas_hogar\"\n",
    "\n",
    "No se manipularán los valores de las columna \"Pondera\" y \"personas_hogar\", pero sí vamos a cambiarles el nombre para que sea más claro de qué se tratan:"
   ]
  },
  {
   "cell_type": "code",
   "execution_count": 10,
   "metadata": {},
   "outputs": [],
   "source": [
    "df.rename(columns = {\"pondera\": \"ponderador\",\n",
    "                     \"personas_hogar\": \"nro_personas_hogar\"}, inplace = True)"
   ]
  },
  {
   "cell_type": "markdown",
   "metadata": {},
   "source": [
    "- - -\n",
    "\n",
    "### III. \"hogar_dificultad\" & \"personas_dificultad_hogar\"\n",
    "\n",
    "Examinemos las columnas \"hogar_dificultad\" y \"personas_dificultad_hogar\". La primera hace referencia a si en dicho hogar hay al menos un miembro con discapacidad (0 = No, 1 = Sí), y en ella vemos que figuran 21820 casos confirmados. \n",
    "\n",
    "\"personas_dificultad_hogar\" indica la cantidad de personas discapacitadas en el hogar. Sumar las tres categorías de valores nos da también 21820, un número que ya aparecía en el gráfico de Missingno."
   ]
  },
  {
   "cell_type": "code",
   "execution_count": 11,
   "metadata": {},
   "outputs": [
    {
     "name": "stdout",
     "output_type": "stream",
     "text": [
      "0    60507\n",
      "1    21820\n",
      "Name: hogar_dificultad, dtype: int64 \n",
      "\n",
      "1.0    17039\n",
      "2.0     3916\n",
      "3.0      865\n",
      "Name: personas_dificultad_hogar, dtype: int64\n",
      "Total: 21820\n"
     ]
    }
   ],
   "source": [
    "print(df[\"hogar_dificultad\"].value_counts(), \"\\n\")\n",
    "print(df[\"personas_dificultad_hogar\"].value_counts())\n",
    "print(\"Total:\", df[\"personas_dificultad_hogar\"].value_counts().sum())"
   ]
  },
  {
   "cell_type": "markdown",
   "metadata": {},
   "source": [
    "De este modo, confirmamos que los valores están alineados y podemos prescindir de \"hogar_dificultad\" por ser la menos específica de las columnas.\n",
    "\n",
    "Es cierto que \"personas_dificultad_hogar\" tiene 60507 valores sin completar, pero simplemente podemos llenarlos indicando que los mismos corresponden a hogares sin personas discapacitadas.\n",
    "\n",
    "Removamos, entonces, la columna \"hogar_dificultad\" y adaptemos \"personas_dificultad_hogar\" para que sea más clara. Primeramente, cambiaremos el nombre de la columna a \"nro_discapacitados_en_hogar\", y luego pasaremos a renombrar sus clasificaciones numéricas a las del Manual de Uso.\n",
    "\n",
    "Podrían haberse dejado sus valores tal como están, ya que a fin de cuentas se trata de números enteros, pero desafortunadamente el valor 3 hace referencia a \"tres o más discapacitados\", por lo que debemos aclarar esto. Sin embargo, al agregarle otros caracteres la columna dejará de contener _integers_ (números enteros) y pasará a ser de tipo _string_ (texto); de todas formas, se optará por esta opción, ya que al volverse el valor 3 desconocido en cuanto al número real que representa (podrían haber tres, cuatro, cinco o más personas discapacitadas bajo esa categoría) ya no tiene sentido realizar operaciones matemáticas sobre esta columna."
   ]
  },
  {
   "cell_type": "code",
   "execution_count": 12,
   "metadata": {},
   "outputs": [
    {
     "name": "stdout",
     "output_type": "stream",
     "text": [
      "Sin discapacitados           60507\n",
      "Un discapacitado             17039\n",
      "Dos discapacitados            3916\n",
      "Tres o más discapacitados      865\n",
      "Name: nro_discapacitados_en_hogar, dtype: int64\n",
      "Total: 82327\n"
     ]
    }
   ],
   "source": [
    "df.drop(\"hogar_dificultad\", axis = 1, inplace = True)\n",
    "\n",
    "df.rename(columns = {\"personas_dificultad_hogar\": \"nro_discapacitados_en_hogar\"}, inplace = True)\n",
    "\n",
    "df[\"nro_discapacitados_en_hogar\"].fillna(\"Sin discapacitados\", inplace = True)\n",
    "df[\"nro_discapacitados_en_hogar\"].replace({\n",
    "    1: \"Un discapacitado\",\n",
    "    2: \"Dos discapacitados\",\n",
    "    3: \"Tres o más discapacitados\"}, inplace = True)\n",
    "\n",
    "print(df[\"nro_discapacitados_en_hogar\"].value_counts())\n",
    "print(\"Total:\", df[\"nro_discapacitados_en_hogar\"].value_counts().sum())"
   ]
  },
  {
   "cell_type": "markdown",
   "metadata": {},
   "source": [
    "- - -\n",
    "\n",
    "### IV. \"tipo_hogar\"\n",
    "\n",
    "\"tipo_hogar\" es una columna que especialmente necesita que sus cinco valores numéricos sean reemplazados por las categorías que cada uno representa. "
   ]
  },
  {
   "cell_type": "code",
   "execution_count": 13,
   "metadata": {},
   "outputs": [
    {
     "name": "stdout",
     "output_type": "stream",
     "text": [
      "Familiar - Nuclear                        55050\n",
      "Familiar - Extendido                      20717\n",
      "Unipersonal                                5436\n",
      "Familiar - Compuesto                        779\n",
      "No Familiar - Jefes y otros familiares      345\n",
      "Name: tipo_hogar, dtype: int64\n"
     ]
    }
   ],
   "source": [
    "df[\"tipo_hogar\"].replace({\n",
    "    1: \"Unipersonal\",\n",
    "    2: \"Familiar - Nuclear\",\n",
    "    3: \"Familiar - Extendido\",\n",
    "    4: \"Familiar - Compuesto\",\n",
    "    5: \"No Familiar - Jefes y otros familiares\"\n",
    "}, inplace = True)\n",
    "\n",
    "print(df[\"tipo_hogar\"].value_counts())"
   ]
  },
  {
   "cell_type": "markdown",
   "metadata": {},
   "source": [
    "- - -\n",
    "\n",
    "### V. \"pa03\" & \"pa04\"\n",
    "\n",
    "En cuanto a \"pa03\" y \"pa04\", además de sus clasificaciones, obviamente necesitan un nombre de columna mucho más informativo."
   ]
  },
  {
   "cell_type": "code",
   "execution_count": 14,
   "metadata": {},
   "outputs": [
    {
     "name": "stdout",
     "output_type": "stream",
     "text": [
      "Hijo/hijastro                       31790\n",
      "Jefe                                27147\n",
      "Pareja/cónyuge                      14938\n",
      "Nieto                                3843\n",
      "Otros (familiares/no familiares)     3447\n",
      "Progenitor/suegro                    1162\n",
      "Name: relacion_parentesco, dtype: int64 \n",
      "\n",
      "Mujer    42905\n",
      "Varón    39422\n",
      "Name: sexo, dtype: int64\n"
     ]
    }
   ],
   "source": [
    "df.rename(columns = {\"pa03\": \"relacion_parentesco\",\n",
    "                     \"pa04\": \"sexo\"}, inplace = True)\n",
    "\n",
    "df[\"relacion_parentesco\"].replace({\n",
    "    1: \"Jefe\",\n",
    "    2: \"Pareja/cónyuge\",\n",
    "    3: \"Hijo/hijastro\",\n",
    "    4: \"Nieto\",\n",
    "    5: \"Progenitor/suegro\",\n",
    "    6: \"Otros (familiares/no familiares)\"\n",
    "}, inplace = True)\n",
    "\n",
    "df[\"sexo\"].replace({\n",
    "    1: \"Varón\",\n",
    "    2: \"Mujer\"\n",
    "}, inplace = True)\n",
    "\n",
    "print(df[\"relacion_parentesco\"].value_counts(), \"\\n\")\n",
    "print(df[\"sexo\"].value_counts())"
   ]
  },
  {
   "cell_type": "markdown",
   "metadata": {},
   "source": [
    "- - -\n",
    "\n",
    "### VI. \"pa01\"\n",
    "\n",
    "Para \"pa01\", el Manual de Uso la describe como _\"N° de orden que se asigna a las personas que conforman\n",
    "cada hogar de la vivienda\"_. Vamos a darle entonces un nombre que refleje esto.\n",
    "\n",
    "No hace falta alterar sus valores."
   ]
  },
  {
   "cell_type": "code",
   "execution_count": 15,
   "metadata": {},
   "outputs": [],
   "source": [
    "df.rename(columns = {\"pa01\": \"nro_orden_residente\"}, inplace = True)"
   ]
  },
  {
   "cell_type": "markdown",
   "metadata": {},
   "source": [
    "- - -\n",
    "\n",
    "### VII. \"edad_grandes_grupos\" & \"edad_agrupada\"\n",
    "\n",
    "Veamos ahora qué pasa con las columnas \"edad_grandes_grupos\" y \"edad_agrupada\". Así clasifican los grupos cada una:\n",
    "\n",
    "|\"edad_grandes_grupos\"|\"edad_agrupada\"|\n",
    "|:---:|:---:|\n",
    "|1 = 0 a 14|1 = 0 a 5 años|\n",
    "| |2 = 6 a 13 años|\n",
    "|2 = 15 a 64|3 = 14 a 39 años|\n",
    "| |4 = 40 a 64 años|\n",
    "|3 = 65 y más|5 = 65 años y más|\n",
    "\n",
    "Una es más específica que la otra, por lo que en teoría podríamos deshacernos de la más general. ¿Sería esto prudente? Averigüemos."
   ]
  },
  {
   "cell_type": "code",
   "execution_count": 16,
   "metadata": {},
   "outputs": [
    {
     "name": "stdout",
     "output_type": "stream",
     "text": [
      "2    54381\n",
      "1    17998\n",
      "3     9948\n",
      "Name: edad_grandes_grupos, dtype: int64\n",
      "Total: 82327 \n",
      "\n",
      "3    32870\n",
      "4    22816\n",
      "2    10013\n",
      "5     9948\n",
      "1     6680\n",
      "Name: edad_agrupada, dtype: int64\n",
      "Total: 82327\n"
     ]
    }
   ],
   "source": [
    "print(df[\"edad_grandes_grupos\"].value_counts())\n",
    "print(\"Total:\", df[\"edad_grandes_grupos\"].value_counts().sum(), \"\\n\")\n",
    "\n",
    "print(df[\"edad_agrupada\"].value_counts())\n",
    "print(\"Total:\", df[\"edad_agrupada\"].value_counts().sum())"
   ]
  },
  {
   "cell_type": "markdown",
   "metadata": {},
   "source": [
    "Si sumamos los grupos 1 (0-5 años) y 2 (6-13 años) de \"edad_agrupada\" nos da: "
   ]
  },
  {
   "cell_type": "code",
   "execution_count": 17,
   "metadata": {},
   "outputs": [
    {
     "data": {
      "text/plain": [
       "16693"
      ]
     },
     "execution_count": 17,
     "metadata": {},
     "output_type": "execute_result"
    }
   ],
   "source": [
    "6680 + 10013"
   ]
  },
  {
   "cell_type": "markdown",
   "metadata": {},
   "source": [
    "Para el grupo 1 (0-14 años) de \"edad_grandes_grupos\" el valor es de 17998. La diferencia es..."
   ]
  },
  {
   "cell_type": "code",
   "execution_count": 18,
   "metadata": {},
   "outputs": [
    {
     "data": {
      "text/plain": [
       "1305"
      ]
     },
     "execution_count": 18,
     "metadata": {},
     "output_type": "execute_result"
    }
   ],
   "source": [
    "17998 - 16693"
   ]
  },
  {
   "cell_type": "markdown",
   "metadata": {},
   "source": [
    "Podríamos intuir que esta diferencia de 1305 corresponde a la edad de 14 años. Lo terminaremos de confirmar con las siguientes dos operaciones matemáticas: primero, si sumamos los grupos 3 (14-39 años) y 4 (40-64 años) de \"edad_agrupada\" obtenemos:"
   ]
  },
  {
   "cell_type": "code",
   "execution_count": 19,
   "metadata": {},
   "outputs": [
    {
     "data": {
      "text/plain": [
       "55686"
      ]
     },
     "execution_count": 19,
     "metadata": {},
     "output_type": "execute_result"
    }
   ],
   "source": [
    "32870 + 22816"
   ]
  },
  {
   "cell_type": "markdown",
   "metadata": {},
   "source": [
    "Para el grupo 2 (15-64 años) de \"edad_grandes_grupos\" el valor es de 54381. Si la diferencia entre 55686 y 54381 es de 1305, podemos confirmar que efectivamente ese número corresponde a la edad de 14 años. ¿Es así?"
   ]
  },
  {
   "cell_type": "code",
   "execution_count": 20,
   "metadata": {},
   "outputs": [
    {
     "data": {
      "text/plain": [
       "1305"
      ]
     },
     "execution_count": 20,
     "metadata": {},
     "output_type": "execute_result"
    }
   ],
   "source": [
    "55686 - 54381"
   ]
  },
  {
   "cell_type": "markdown",
   "metadata": {},
   "source": [
    "Quedó confirmado.\n",
    "\n",
    "Finalmente, el grupo 3 (65+ años) de \"edad_grandes_grupos\" y el 5 (65+ años) de \"edad_agrupada\" comparten el mismo valor de 9948. Así corroboramos que podemos deshacernos de una de las columnas. Elegimos, entonces, la que menos información nos provee."
   ]
  },
  {
   "cell_type": "code",
   "execution_count": 21,
   "metadata": {},
   "outputs": [
    {
     "data": {
      "text/html": [
       "<div>\n",
       "<style scoped>\n",
       "    .dataframe tbody tr th:only-of-type {\n",
       "        vertical-align: middle;\n",
       "    }\n",
       "\n",
       "    .dataframe tbody tr th {\n",
       "        vertical-align: top;\n",
       "    }\n",
       "\n",
       "    .dataframe thead th {\n",
       "        text-align: right;\n",
       "    }\n",
       "</style>\n",
       "<table border=\"1\" class=\"dataframe\">\n",
       "  <thead>\n",
       "    <tr style=\"text-align: right;\">\n",
       "      <th></th>\n",
       "      <th>sexo</th>\n",
       "      <th>edad_agrupada</th>\n",
       "      <th>imputadoB</th>\n",
       "    </tr>\n",
       "    <tr>\n",
       "      <th>ID</th>\n",
       "      <th></th>\n",
       "      <th></th>\n",
       "      <th></th>\n",
       "    </tr>\n",
       "  </thead>\n",
       "  <tbody>\n",
       "    <tr>\n",
       "      <th>1</th>\n",
       "      <td>Varón</td>\n",
       "      <td>3</td>\n",
       "      <td>0</td>\n",
       "    </tr>\n",
       "    <tr>\n",
       "      <th>2</th>\n",
       "      <td>Varón</td>\n",
       "      <td>3</td>\n",
       "      <td>1</td>\n",
       "    </tr>\n",
       "    <tr>\n",
       "      <th>3</th>\n",
       "      <td>Varón</td>\n",
       "      <td>3</td>\n",
       "      <td>1</td>\n",
       "    </tr>\n",
       "    <tr>\n",
       "      <th>4</th>\n",
       "      <td>Varón</td>\n",
       "      <td>2</td>\n",
       "      <td>1</td>\n",
       "    </tr>\n",
       "    <tr>\n",
       "      <th>5</th>\n",
       "      <td>Mujer</td>\n",
       "      <td>4</td>\n",
       "      <td>0</td>\n",
       "    </tr>\n",
       "  </tbody>\n",
       "</table>\n",
       "</div>"
      ],
      "text/plain": [
       "     sexo  edad_agrupada  imputadoB\n",
       "ID                                 \n",
       "1   Varón              3          0\n",
       "2   Varón              3          1\n",
       "3   Varón              3          1\n",
       "4   Varón              2          1\n",
       "5   Mujer              4          0"
      ]
     },
     "execution_count": 21,
     "metadata": {},
     "output_type": "execute_result"
    }
   ],
   "source": [
    "df.drop(\"edad_grandes_grupos\", axis = 1, inplace = True)\n",
    "df.iloc[:5, 6:9]"
   ]
  },
  {
   "cell_type": "markdown",
   "metadata": {},
   "source": [
    "Además, vamos a renombrar ahora las categorías de edades, ya que con tantos números hay un riesgo importante de confusión.\n",
    "\n",
    "Por otra parte, \"rango_etario\" es un nombre de columna más claro que \"edad_agrupada\"."
   ]
  },
  {
   "cell_type": "code",
   "execution_count": 22,
   "metadata": {},
   "outputs": [
    {
     "name": "stdout",
     "output_type": "stream",
     "text": [
      "14-39 años    32870\n",
      "40-64 años    22816\n",
      "6-13 años     10013\n",
      "65+ años       9948\n",
      "0-5 años       6680\n",
      "Name: rango_etario, dtype: int64\n",
      "Total: 82327\n"
     ]
    }
   ],
   "source": [
    "df[\"edad_agrupada\"] = df[\"edad_agrupada\"].replace({\n",
    "    1: \"0-5 años\",\n",
    "    2: \"6-13 años\",\n",
    "    3: \"14-39 años\",\n",
    "    4: \"40-64 años\",\n",
    "    5: \"65+ años\"\n",
    "})\n",
    "\n",
    "df.rename(columns = {\"edad_agrupada\": \"rango_etario\"}, inplace = True)\n",
    "\n",
    "print(df[\"rango_etario\"].value_counts())\n",
    "print(\"Total:\", df[\"rango_etario\"].value_counts().sum())"
   ]
  },
  {
   "cell_type": "markdown",
   "metadata": {},
   "source": [
    "- - -\n",
    "\n",
    "### VIII. \"imputado[B-C-D]\"\n",
    "\n",
    "Ahora revisemos el grupo de columnas de \"imputado\":"
   ]
  },
  {
   "cell_type": "code",
   "execution_count": 23,
   "metadata": {},
   "outputs": [
    {
     "name": "stdout",
     "output_type": "stream",
     "text": [
      "0    81690\n",
      "1      637\n",
      "Name: imputadoB, dtype: int64 \n",
      "\n",
      "0    81878\n",
      "1      449\n",
      "Name: imputadoC, dtype: int64 \n",
      "\n",
      "0    81620\n",
      "1      707\n",
      "Name: imputadoD, dtype: int64\n"
     ]
    }
   ],
   "source": [
    "print(df[\"imputadoB\"].value_counts(), \"\\n\")\n",
    "\n",
    "print(df[\"imputadoC\"].value_counts(), \"\\n\")\n",
    "\n",
    "print(df[\"imputadoD\"].value_counts())"
   ]
  },
  {
   "cell_type": "markdown",
   "metadata": {},
   "source": [
    "Teniendo en cuenta que estas columnas describen los *casos a los que se les imputó el módulo (B/C/D)*, vamos a renombrarlas para que esto sea más explícito."
   ]
  },
  {
   "cell_type": "code",
   "execution_count": 24,
   "metadata": {},
   "outputs": [],
   "source": [
    "df.rename(columns = {\"imputadoB\": \"modulob_imputado\",\n",
    "                     \"imputadoC\": \"moduloc_imputado\",\n",
    "                     \"imputadoD\": \"modulod_imputado\"}, inplace = True)"
   ]
  },
  {
   "cell_type": "markdown",
   "metadata": {},
   "source": [
    "Además, notemos que estas columnas, aunque formalmente figuren como \"int64\" (es decir, que contienen números enteros), en realidad son de tipo *booleanas*. Básicamente, esto quiere decir que son columnas binarias donde sus observaciones o son verdaderas o falsas:\n",
    "\n",
    "0 = False / Falso\n",
    "\n",
    "1 = True / Verdadero\n",
    "\n",
    "Nosotros no vamos a forzar tal formato en estas tres columnas, por un problema que será explicado en la sección \"Visualizando Dataset Optimizado\", pero teniendo en cuenta este conocimiento sí vamos a reemplazar sus valores por \"Sí\" o por \"No\":"
   ]
  },
  {
   "cell_type": "code",
   "execution_count": 25,
   "metadata": {},
   "outputs": [],
   "source": [
    "df[\"modulob_imputado\"] = df[\"modulob_imputado\"].replace({\n",
    "    0: \"No\",\n",
    "    1: \"Sí\"\n",
    "})\n",
    "\n",
    "df[\"moduloc_imputado\"] = df[\"moduloc_imputado\"].replace({\n",
    "    0: \"No\",\n",
    "    1: \"Sí\"\n",
    "})\n",
    "\n",
    "df[\"modulod_imputado\"] = df[\"modulod_imputado\"].replace({\n",
    "    0: \"No\",\n",
    "    1: \"Sí\"\n",
    "})"
   ]
  },
  {
   "cell_type": "markdown",
   "metadata": {},
   "source": [
    "Veamos cómo quedaron:"
   ]
  },
  {
   "cell_type": "code",
   "execution_count": 26,
   "metadata": {},
   "outputs": [
    {
     "name": "stdout",
     "output_type": "stream",
     "text": [
      "No    81690\n",
      "Sí      637\n",
      "Name: modulob_imputado, dtype: int64 \n",
      "\n",
      "No    81878\n",
      "Sí      449\n",
      "Name: moduloc_imputado, dtype: int64 \n",
      "\n",
      "No    81620\n",
      "Sí      707\n",
      "Name: modulod_imputado, dtype: int64\n"
     ]
    }
   ],
   "source": [
    "print(df[\"modulob_imputado\"].value_counts(), \"\\n\")\n",
    "\n",
    "print(df[\"moduloc_imputado\"].value_counts(), \"\\n\")\n",
    "\n",
    "print(df[\"modulod_imputado\"].value_counts())"
   ]
  },
  {
   "cell_type": "markdown",
   "metadata": {},
   "source": [
    "- - -\n",
    "\n",
    "### IX. \"dificultades\" & \"tipo_dificultad\"\n",
    "\n",
    "El siguiente es posiblemente el tramo más complejo: se trata de las columnas sobre \"dificultades\". Vamos a comenzar viendo específicamente las columnas \"dificultades\" y \"tipo_dificultad\". Estas son sus categorías, respectivamente:\n",
    "\n",
    "| dificultades |\n",
    "|:---:|\n",
    "|1 = Una dificultad |\n",
    "| 2 = Dos dificultades |\n",
    "| 3 = Tres dificultades o más |\n",
    "| 4 = Sólo certificado de discapacidad |\n",
    "\n",
    "| tipo_dificultad |\n",
    "|:---:|\n",
    "| 1 = Sólo motora |\n",
    "| 2 = Sólo visual |\n",
    "| 3 = Sólo auditiva |\n",
    "| 4 = Sólo mental-cognitiva |\n",
    "| 5 = Sólo del cuidado de sí |\n",
    "| 6 = Sólo del habla y la comunicación |\n",
    "| 7 = Dos dificultades |\n",
    "| 8 = Tres dificultades o más |\n",
    "| 9 = Sólo certificado |\n",
    "\n",
    "Como ambas columnas sólo tienen las referencias numéricas a las clasificaciones, tener en mente qué nos está indicando cada número puede hacerse tedioso, por lo cual antes de proseguir renombraremos los valores de las mismas.\n",
    "\n",
    "Nótese que para \"tipo_dificultad\" los nombres de las clasificaciones serán ligeramente alterados, respecto de los originales del Manual de Uso, para que sean más entendibles. En el futuro repetiremos este proceso con otras columnas si fuera necesario."
   ]
  },
  {
   "cell_type": "code",
   "execution_count": 27,
   "metadata": {},
   "outputs": [],
   "source": [
    "df[\"dificultades\"] = df[\"dificultades\"].replace({\n",
    "    1: \"Una dificultad\",\n",
    "    2: \"Dos dificultades\",\n",
    "    3: \"Tres o más dificultades\",\n",
    "    4: \"Sólo certificado de discapacidad\"\n",
    "})\n",
    "\n",
    "df[\"tipo_dificultad\"] = df[\"tipo_dificultad\"].replace({\n",
    "    1: \"Una dificultad - Motora\",\n",
    "    2: \"Una dificultad - Visual\",\n",
    "    3: \"Una dificultad - Auditiva\",\n",
    "    4: \"Una dificultad - Mental/cognitiva\",\n",
    "    5: \"Una dificultad - Cuidado de sí\",\n",
    "    6: \"Una dificultad - Habla y comunicación\",\n",
    "    7: \"Dos dificultades\",\n",
    "    8: \"Tres o más dificultades\",\n",
    "    9: \"Sólo certificado de discapacidad\"\n",
    "})"
   ]
  },
  {
   "cell_type": "markdown",
   "metadata": {},
   "source": [
    "Sabemos por Missingno que ambas columnas tienen 7800 observaciones -y podremos constatarlo de vuelta en el siguiente *.value_counts()*-, por lo que podemos hipotetizar que sumando las categorías 1 a 6 de \"tipo_dificultad\" nos daría la misma cantidad que \"1 = Una dificultad\" en la columna \"dificultades\". \n",
    "\n",
    "Si fuera así podríamos prescindir de \"dificultades\", ya que sus tres categorías siguientes (\"Dos dificultades\", \"Tres dificultades\" y \"Sólo certificado de discapacidad\") ya están contempladas en \"tipo_dificultad\".\n",
    "\n",
    "Veamos qué pasa:"
   ]
  },
  {
   "cell_type": "code",
   "execution_count": 28,
   "metadata": {},
   "outputs": [
    {
     "name": "stdout",
     "output_type": "stream",
     "text": [
      "Una dificultad                      4580\n",
      "Dos dificultades                    1436\n",
      "Tres o más dificultades              973\n",
      "Sólo certificado de discapacidad     811\n",
      "Name: dificultades, dtype: int64\n",
      "Total: 7800 \n",
      "\n",
      "Una dificultad - Motora                  2021\n",
      "Dos dificultades                         1436\n",
      "Una dificultad - Visual                  1071\n",
      "Tres o más dificultades                   973\n",
      "Sólo certificado de discapacidad          811\n",
      "Una dificultad - Auditiva                 797\n",
      "Una dificultad - Mental/cognitiva         581\n",
      "Una dificultad - Habla y comunicación      71\n",
      "Una dificultad - Cuidado de sí             39\n",
      "Name: tipo_dificultad, dtype: int64\n",
      "Total: 7800\n"
     ]
    }
   ],
   "source": [
    "print(df[\"dificultades\"].value_counts())\n",
    "print(\"Total:\", df[\"dificultades\"].value_counts().sum(), \"\\n\")\n",
    "\n",
    "print(df[\"tipo_dificultad\"].value_counts())\n",
    "print(\"Total:\", df[\"dificultades\"].value_counts().sum())"
   ]
  },
  {
   "cell_type": "markdown",
   "metadata": {},
   "source": [
    "Vemos que la primer categoría de \"dificultades\" (\"Una dificultad\") tiene 4580 observaciones. Por lo tanto, si sumamos las seis categorías de tipo \"Una dificultad\" de \"tipo_dificultad\" y nos da el mismo valor que el de la primer categoría de \"dificultades\", entonces podemos eliminar otra columna más.\n",
    "\n",
    "Lo que sumamos en la siguiente operación sería, entonces:\n",
    "\n",
    "\"Motora\"(2021) + \"Visual\"(1071) + \"Auditiva\"(797) + \"Cognitiva\"(581) + \"Comunicación\"(71) + \"Cuidado de sí\"(39)"
   ]
  },
  {
   "cell_type": "code",
   "execution_count": 29,
   "metadata": {},
   "outputs": [
    {
     "data": {
      "text/plain": [
       "4580"
      ]
     },
     "execution_count": 29,
     "metadata": {},
     "output_type": "execute_result"
    }
   ],
   "source": [
    "2021 + 1071 + 797 + 581 + 39 + 71"
   ]
  },
  {
   "cell_type": "markdown",
   "metadata": {},
   "source": [
    "Queda entonces confirmado que otra columna más es redundante. Como siempre, elegimos la que menos información tiene; en este caso, \"dificultades\". "
   ]
  },
  {
   "cell_type": "code",
   "execution_count": 30,
   "metadata": {},
   "outputs": [
    {
     "data": {
      "text/html": [
       "<div>\n",
       "<style scoped>\n",
       "    .dataframe tbody tr th:only-of-type {\n",
       "        vertical-align: middle;\n",
       "    }\n",
       "\n",
       "    .dataframe tbody tr th {\n",
       "        vertical-align: top;\n",
       "    }\n",
       "\n",
       "    .dataframe thead th {\n",
       "        text-align: right;\n",
       "    }\n",
       "</style>\n",
       "<table border=\"1\" class=\"dataframe\">\n",
       "  <thead>\n",
       "    <tr style=\"text-align: right;\">\n",
       "      <th></th>\n",
       "      <th>modulod_imputado</th>\n",
       "      <th>dificultad_6ymas</th>\n",
       "      <th>dificultad_total</th>\n",
       "      <th>tipo_dificultad</th>\n",
       "      <th>certificado</th>\n",
       "    </tr>\n",
       "    <tr>\n",
       "      <th>ID</th>\n",
       "      <th></th>\n",
       "      <th></th>\n",
       "      <th></th>\n",
       "      <th></th>\n",
       "      <th></th>\n",
       "    </tr>\n",
       "  </thead>\n",
       "  <tbody>\n",
       "    <tr>\n",
       "      <th>1</th>\n",
       "      <td>No</td>\n",
       "      <td>0.0</td>\n",
       "      <td>0</td>\n",
       "      <td>NaN</td>\n",
       "      <td>2</td>\n",
       "    </tr>\n",
       "    <tr>\n",
       "      <th>2</th>\n",
       "      <td>No</td>\n",
       "      <td>0.0</td>\n",
       "      <td>0</td>\n",
       "      <td>NaN</td>\n",
       "      <td>2</td>\n",
       "    </tr>\n",
       "    <tr>\n",
       "      <th>3</th>\n",
       "      <td>No</td>\n",
       "      <td>0.0</td>\n",
       "      <td>0</td>\n",
       "      <td>NaN</td>\n",
       "      <td>2</td>\n",
       "    </tr>\n",
       "    <tr>\n",
       "      <th>4</th>\n",
       "      <td>No</td>\n",
       "      <td>0.0</td>\n",
       "      <td>0</td>\n",
       "      <td>NaN</td>\n",
       "      <td>2</td>\n",
       "    </tr>\n",
       "    <tr>\n",
       "      <th>5</th>\n",
       "      <td>No</td>\n",
       "      <td>0.0</td>\n",
       "      <td>0</td>\n",
       "      <td>NaN</td>\n",
       "      <td>2</td>\n",
       "    </tr>\n",
       "  </tbody>\n",
       "</table>\n",
       "</div>"
      ],
      "text/plain": [
       "   modulod_imputado  dificultad_6ymas  dificultad_total tipo_dificultad  \\\n",
       "ID                                                                        \n",
       "1                No               0.0                 0             NaN   \n",
       "2                No               0.0                 0             NaN   \n",
       "3                No               0.0                 0             NaN   \n",
       "4                No               0.0                 0             NaN   \n",
       "5                No               0.0                 0             NaN   \n",
       "\n",
       "    certificado  \n",
       "ID               \n",
       "1             2  \n",
       "2             2  \n",
       "3             2  \n",
       "4             2  \n",
       "5             2  "
      ]
     },
     "execution_count": 30,
     "metadata": {},
     "output_type": "execute_result"
    }
   ],
   "source": [
    "df.drop(\"dificultades\", axis = 1, inplace = True)\n",
    "df.iloc[:5, 10:15]"
   ]
  },
  {
   "cell_type": "markdown",
   "metadata": {},
   "source": [
    "- - -\n",
    "\n",
    "### X. \"tipo_dificultad\" & \"dificultad_6ymas\"\n",
    "\n",
    "Para el siguiente paso, vamos a comparar \"tipo_dificultad\" con \"dificultad_6ymas\". Empecemos reemplazando las categorías de \"dificultad6ymas\": "
   ]
  },
  {
   "cell_type": "code",
   "execution_count": 31,
   "metadata": {},
   "outputs": [],
   "source": [
    "df[\"dificultad_6ymas\"] = df[\"dificultad_6ymas\"].replace({\n",
    "    0: \"6 años o más sin dificultad\",\n",
    "    1: \"6 años o más con dificultad\"\n",
    "})"
   ]
  },
  {
   "cell_type": "markdown",
   "metadata": {},
   "source": [
    "Por otra parte, y llegados a esta instancia, debemos agregar un dato **fundamental** de \"tipo_dificultad\": según el Manual de Uso, tal columna **sólo cubre los casos de SEIS años de edad o más CON dificultad**. \n",
    "\n",
    "De lo anterior se desprende que debería corresponderse, entonces, con el número de observaciones afirmativas de la columna \"dificultad_6ymas\". Confirmemos si esto es así."
   ]
  },
  {
   "cell_type": "code",
   "execution_count": 32,
   "metadata": {},
   "outputs": [
    {
     "name": "stdout",
     "output_type": "stream",
     "text": [
      "Una dificultad - Motora                  2021\n",
      "Dos dificultades                         1436\n",
      "Una dificultad - Visual                  1071\n",
      "Tres o más dificultades                   973\n",
      "Sólo certificado de discapacidad          811\n",
      "Una dificultad - Auditiva                 797\n",
      "Una dificultad - Mental/cognitiva         581\n",
      "Una dificultad - Habla y comunicación      71\n",
      "Una dificultad - Cuidado de sí             39\n",
      "Name: tipo_dificultad, dtype: int64\n",
      "Total: 7800 \n",
      "\n",
      "6 años o más sin dificultad    67847\n",
      "6 años o más con dificultad     7800\n",
      "Name: dificultad_6ymas, dtype: int64\n"
     ]
    }
   ],
   "source": [
    "print(df[\"tipo_dificultad\"].value_counts())\n",
    "print(\"Total:\", df[\"tipo_dificultad\"].value_counts().sum(), \"\\n\")\n",
    "\n",
    "print(df[\"dificultad_6ymas\"].value_counts())"
   ]
  },
  {
   "cell_type": "markdown",
   "metadata": {},
   "source": [
    "Esta vez no podemos simplemente eliminar \"dificultad_6ymas\", ya que vemos que tiene otras 67847 observaciones que \"tipo_dificultad\" no posee, que hacen referencia a gente mayor de 6 años sin dificultades. Tenemos entonces que pasar primero dichas observaciones a \"tipo_dificultad\" y recién ahí corresponderá deshacernos de \"dificultad_6ymas\". \n",
    "\n",
    "Si la operación fue exitosa, entonces en \"tipo_dificultad\" nos aparecerán 67847 observaciones con la clasificación \"6 años o más sin dificultad\" de \"dificultad_6ymas\". Veamos qué ocurre."
   ]
  },
  {
   "cell_type": "code",
   "execution_count": 33,
   "metadata": {},
   "outputs": [
    {
     "name": "stdout",
     "output_type": "stream",
     "text": [
      "6 años o más sin dificultad              67847\n",
      "Una dificultad - Motora                   2021\n",
      "Dos dificultades                          1436\n",
      "Una dificultad - Visual                   1071\n",
      "Tres o más dificultades                    973\n",
      "Sólo certificado de discapacidad           811\n",
      "Una dificultad - Auditiva                  797\n",
      "Una dificultad - Mental/cognitiva          581\n",
      "Una dificultad - Habla y comunicación       71\n",
      "Una dificultad - Cuidado de sí              39\n",
      "Name: tipo_dificultad, dtype: int64\n",
      "Total: 75647\n"
     ]
    }
   ],
   "source": [
    "df[\"tipo_dificultad\"].mask(df[\"tipo_dificultad\"].isnull(), df[\"dificultad_6ymas\"], inplace=True)\n",
    "\n",
    "print(df[\"tipo_dificultad\"].value_counts())\n",
    "print(\"Total:\", df[\"tipo_dificultad\"].value_counts().sum())"
   ]
  },
  {
   "cell_type": "markdown",
   "metadata": {},
   "source": [
    "Vemos que ahora \"tipo_dificultad\" ya tiene 75647 observaciones, al igual que \"dificultad_6ymas\", por lo cual podemos borrar ésta última."
   ]
  },
  {
   "cell_type": "code",
   "execution_count": 34,
   "metadata": {},
   "outputs": [
    {
     "data": {
      "text/html": [
       "<div>\n",
       "<style scoped>\n",
       "    .dataframe tbody tr th:only-of-type {\n",
       "        vertical-align: middle;\n",
       "    }\n",
       "\n",
       "    .dataframe tbody tr th {\n",
       "        vertical-align: top;\n",
       "    }\n",
       "\n",
       "    .dataframe thead th {\n",
       "        text-align: right;\n",
       "    }\n",
       "</style>\n",
       "<table border=\"1\" class=\"dataframe\">\n",
       "  <thead>\n",
       "    <tr style=\"text-align: right;\">\n",
       "      <th></th>\n",
       "      <th>modulod_imputado</th>\n",
       "      <th>dificultad_total</th>\n",
       "      <th>tipo_dificultad</th>\n",
       "      <th>certificado</th>\n",
       "      <th>PC01</th>\n",
       "    </tr>\n",
       "    <tr>\n",
       "      <th>ID</th>\n",
       "      <th></th>\n",
       "      <th></th>\n",
       "      <th></th>\n",
       "      <th></th>\n",
       "      <th></th>\n",
       "    </tr>\n",
       "  </thead>\n",
       "  <tbody>\n",
       "    <tr>\n",
       "      <th>1</th>\n",
       "      <td>No</td>\n",
       "      <td>0</td>\n",
       "      <td>6 años o más sin dificultad</td>\n",
       "      <td>2</td>\n",
       "      <td>NaN</td>\n",
       "    </tr>\n",
       "    <tr>\n",
       "      <th>2</th>\n",
       "      <td>No</td>\n",
       "      <td>0</td>\n",
       "      <td>6 años o más sin dificultad</td>\n",
       "      <td>2</td>\n",
       "      <td>NaN</td>\n",
       "    </tr>\n",
       "    <tr>\n",
       "      <th>3</th>\n",
       "      <td>No</td>\n",
       "      <td>0</td>\n",
       "      <td>6 años o más sin dificultad</td>\n",
       "      <td>2</td>\n",
       "      <td>NaN</td>\n",
       "    </tr>\n",
       "    <tr>\n",
       "      <th>4</th>\n",
       "      <td>No</td>\n",
       "      <td>0</td>\n",
       "      <td>6 años o más sin dificultad</td>\n",
       "      <td>2</td>\n",
       "      <td>NaN</td>\n",
       "    </tr>\n",
       "    <tr>\n",
       "      <th>5</th>\n",
       "      <td>No</td>\n",
       "      <td>0</td>\n",
       "      <td>6 años o más sin dificultad</td>\n",
       "      <td>2</td>\n",
       "      <td>NaN</td>\n",
       "    </tr>\n",
       "  </tbody>\n",
       "</table>\n",
       "</div>"
      ],
      "text/plain": [
       "   modulod_imputado  dificultad_total              tipo_dificultad  \\\n",
       "ID                                                                   \n",
       "1                No                 0  6 años o más sin dificultad   \n",
       "2                No                 0  6 años o más sin dificultad   \n",
       "3                No                 0  6 años o más sin dificultad   \n",
       "4                No                 0  6 años o más sin dificultad   \n",
       "5                No                 0  6 años o más sin dificultad   \n",
       "\n",
       "    certificado  PC01  \n",
       "ID                     \n",
       "1             2   NaN  \n",
       "2             2   NaN  \n",
       "3             2   NaN  \n",
       "4             2   NaN  \n",
       "5             2   NaN  "
      ]
     },
     "execution_count": 34,
     "metadata": {},
     "output_type": "execute_result"
    }
   ],
   "source": [
    "df.drop(\"dificultad_6ymas\", axis = 1, inplace = True)\n",
    "df.iloc[:5, 10:15]"
   ]
  },
  {
   "cell_type": "markdown",
   "metadata": {},
   "source": [
    "Antes de continuar, y para evitar posteriores confusiones, conviene cambiarle el nombre a \"tipo_dificultad\" para que refleje que sus clasificaciones fueron aplicadas a una población de 6 años o más. \n",
    "\n",
    "Además, como importamos la clasificación de \"6 años o más sin dificultad\", ahora el dato de \"6 años o más\" se volverá redundante, por lo que volveremos a renombrar esa categoría."
   ]
  },
  {
   "cell_type": "code",
   "execution_count": 35,
   "metadata": {},
   "outputs": [],
   "source": [
    "df.rename(columns = {\"tipo_dificultad\": \"6+años_tipo_dificultad\"}, inplace = True)\n",
    "\n",
    "df[\"6+años_tipo_dificultad\"] = df[\"6+años_tipo_dificultad\"].replace({\n",
    "    \"6 años o más sin dificultad\": \"Sin dificultades\"})"
   ]
  },
  {
   "cell_type": "markdown",
   "metadata": {},
   "source": [
    "- - -\n",
    "\n",
    "### XI. \"6+años_tipo_dificultad\" & \"dificultad_total\"\n",
    "\n",
    "Estamos en el último paso de esta sub-sección de columnas referidas a _dificultades_.\n",
    "\n",
    "Vemos que \"6+años_tipo_dificultad\" tiene 75647 observaciones; siendo que el dataset general incluye un total de 82327, entonces todavía nos están faltando completar..."
   ]
  },
  {
   "cell_type": "code",
   "execution_count": 36,
   "metadata": {},
   "outputs": [
    {
     "data": {
      "text/plain": [
       "6680"
      ]
     },
     "execution_count": 36,
     "metadata": {},
     "output_type": "execute_result"
    }
   ],
   "source": [
    "82327 - 75647"
   ]
  },
  {
   "cell_type": "markdown",
   "metadata": {},
   "source": [
    "Las mismas las obtendremos de la columna \"dificultad_total\", la cual sí tiene los 82327 valores requeridos e incluye, por lo tanto, la población total. Recordando que \"6+años_tipo_dificultad\" sólo abarca la población a partir de los 6 años, entonces se deduce que estas observaciones faltantes corresponden a personas con y sin dificultades en el rango etario de 0 a 6 años.\n",
    "\n",
    "Por supuesto, antes de transferir los datos, vamos a renombrar las dos categorías de \"dificultad_total\"."
   ]
  },
  {
   "cell_type": "code",
   "execution_count": 37,
   "metadata": {},
   "outputs": [
    {
     "data": {
      "text/plain": [
       "Menor de 6 años sin dificultad       74383\n",
       "Menor de 6 años con dificultad/es     7944\n",
       "Name: dificultad_total, dtype: int64"
      ]
     },
     "execution_count": 37,
     "metadata": {},
     "output_type": "execute_result"
    }
   ],
   "source": [
    "df[\"dificultad_total\"] = df[\"dificultad_total\"].replace(\n",
    "    {0: \"Menor de 6 años sin dificultad\", \n",
    "     1: \"Menor de 6 años con dificultad/es\"})\n",
    "\n",
    "df[\"dificultad_total\"].value_counts()"
   ]
  },
  {
   "cell_type": "markdown",
   "metadata": {},
   "source": [
    "Nótese que esta operación reemplazó **todos** los valores de la columna con esas dos definiciones. Esto es, por supuesto, absolutamente erróneo; pero dado que esta columna va a desaparecer, y sólo serán transferidas las observaciones que se correspondan con los 6680 campos faltantes en \"tipo_dificultad\", entonces no será un problema en absoluto. Al contrario, la operación incluso aportará información adicional que no figura en el dataset: nos permitirá saber cuántas personas menores de 6 años son sanas y cuántas tienen dificultades."
   ]
  },
  {
   "cell_type": "code",
   "execution_count": 38,
   "metadata": {},
   "outputs": [
    {
     "name": "stdout",
     "output_type": "stream",
     "text": [
      "Sin dificultades                         67847\n",
      "Menor de 6 años sin dificultad            6536\n",
      "Una dificultad - Motora                   2021\n",
      "Dos dificultades                          1436\n",
      "Una dificultad - Visual                   1071\n",
      "Tres o más dificultades                    973\n",
      "Sólo certificado de discapacidad           811\n",
      "Una dificultad - Auditiva                  797\n",
      "Una dificultad - Mental/cognitiva          581\n",
      "Menor de 6 años con dificultad/es          144\n",
      "Una dificultad - Habla y comunicación       71\n",
      "Una dificultad - Cuidado de sí              39\n",
      "Name: 6+años_tipo_dificultad, dtype: int64\n",
      "Total: 82327\n"
     ]
    }
   ],
   "source": [
    "df[\"6+años_tipo_dificultad\"].mask(df[\"6+años_tipo_dificultad\"].isnull(), df[\"dificultad_total\"], inplace=True)\n",
    "\n",
    "print(df[\"6+años_tipo_dificultad\"].value_counts())\n",
    "print(\"Total:\", df[\"6+años_tipo_dificultad\"].value_counts().sum())"
   ]
  },
  {
   "cell_type": "markdown",
   "metadata": {},
   "source": [
    "Gracias a la operación ahora sabemos que hay 6536 menores de 6 años sin dificultad, y 144 con dificultades. Obviamente, no podremos ahondar más porque el dataset no profundizó en esta subpoblación menor de 6 años, pero el hecho de que ahora sepamos esto, y sin siquiera haber tenido la intención, es por demás interesante.\n",
    "\n",
    "Naturalmente, el grupo de los 6536 menores de 6 años sin dificultad es redundante; no nos aporta nada esa división entre las personas sanas, por lo que añadiremos esas observaciones a la clasificación más general de \"Sin dificultades\". Si la operación salió bien, el grupo de \"Sin dificultad\" debería darnos un total general de:"
   ]
  },
  {
   "cell_type": "code",
   "execution_count": 39,
   "metadata": {},
   "outputs": [
    {
     "data": {
      "text/plain": [
       "74383"
      ]
     },
     "execution_count": 39,
     "metadata": {},
     "output_type": "execute_result"
    }
   ],
   "source": [
    "67847 + 6536"
   ]
  },
  {
   "cell_type": "code",
   "execution_count": 40,
   "metadata": {},
   "outputs": [
    {
     "data": {
      "text/plain": [
       "Sin dificultades                         74383\n",
       "Una dificultad - Motora                   2021\n",
       "Dos dificultades                          1436\n",
       "Una dificultad - Visual                   1071\n",
       "Tres o más dificultades                    973\n",
       "Sólo certificado de discapacidad           811\n",
       "Una dificultad - Auditiva                  797\n",
       "Una dificultad - Mental/cognitiva          581\n",
       "Menor de 6 años con dificultad/es          144\n",
       "Una dificultad - Habla y comunicación       71\n",
       "Una dificultad - Cuidado de sí              39\n",
       "Name: 6+años_tipo_dificultad, dtype: int64"
      ]
     },
     "execution_count": 40,
     "metadata": {},
     "output_type": "execute_result"
    }
   ],
   "source": [
    "df[\"6+años_tipo_dificultad\"] = df[\"6+años_tipo_dificultad\"].replace(\n",
    "    {\"Menor de 6 años sin dificultad\": \"Sin dificultades\"})\n",
    "\n",
    "df[\"6+años_tipo_dificultad\"].value_counts()"
   ]
  },
  {
   "cell_type": "markdown",
   "metadata": {},
   "source": [
    "Ambas categorías fueron exitosamente sumadas.\n",
    "\n",
    "Hecho todo esto, ahora \"6+años_tipo_dificultad\" no sólo engloba la información de todas las columnas de dificultad previas, sino que ya tiene completas sus 82327 observaciones. Por lo tanto, borremos \"dificultad_total\" y demos por finalizada esta complicada sub-sección."
   ]
  },
  {
   "cell_type": "code",
   "execution_count": 41,
   "metadata": {},
   "outputs": [
    {
     "data": {
      "text/html": [
       "<div>\n",
       "<style scoped>\n",
       "    .dataframe tbody tr th:only-of-type {\n",
       "        vertical-align: middle;\n",
       "    }\n",
       "\n",
       "    .dataframe tbody tr th {\n",
       "        vertical-align: top;\n",
       "    }\n",
       "\n",
       "    .dataframe thead th {\n",
       "        text-align: right;\n",
       "    }\n",
       "</style>\n",
       "<table border=\"1\" class=\"dataframe\">\n",
       "  <thead>\n",
       "    <tr style=\"text-align: right;\">\n",
       "      <th></th>\n",
       "      <th>modulod_imputado</th>\n",
       "      <th>6+años_tipo_dificultad</th>\n",
       "      <th>certificado</th>\n",
       "      <th>PC01</th>\n",
       "      <th>edad_inicio</th>\n",
       "    </tr>\n",
       "    <tr>\n",
       "      <th>ID</th>\n",
       "      <th></th>\n",
       "      <th></th>\n",
       "      <th></th>\n",
       "      <th></th>\n",
       "      <th></th>\n",
       "    </tr>\n",
       "  </thead>\n",
       "  <tbody>\n",
       "    <tr>\n",
       "      <th>1</th>\n",
       "      <td>No</td>\n",
       "      <td>Sin dificultades</td>\n",
       "      <td>2</td>\n",
       "      <td>NaN</td>\n",
       "      <td>NaN</td>\n",
       "    </tr>\n",
       "    <tr>\n",
       "      <th>2</th>\n",
       "      <td>No</td>\n",
       "      <td>Sin dificultades</td>\n",
       "      <td>2</td>\n",
       "      <td>NaN</td>\n",
       "      <td>NaN</td>\n",
       "    </tr>\n",
       "    <tr>\n",
       "      <th>3</th>\n",
       "      <td>No</td>\n",
       "      <td>Sin dificultades</td>\n",
       "      <td>2</td>\n",
       "      <td>NaN</td>\n",
       "      <td>NaN</td>\n",
       "    </tr>\n",
       "    <tr>\n",
       "      <th>4</th>\n",
       "      <td>No</td>\n",
       "      <td>Sin dificultades</td>\n",
       "      <td>2</td>\n",
       "      <td>NaN</td>\n",
       "      <td>NaN</td>\n",
       "    </tr>\n",
       "    <tr>\n",
       "      <th>5</th>\n",
       "      <td>No</td>\n",
       "      <td>Sin dificultades</td>\n",
       "      <td>2</td>\n",
       "      <td>NaN</td>\n",
       "      <td>NaN</td>\n",
       "    </tr>\n",
       "  </tbody>\n",
       "</table>\n",
       "</div>"
      ],
      "text/plain": [
       "   modulod_imputado 6+años_tipo_dificultad  certificado  PC01  edad_inicio\n",
       "ID                                                                        \n",
       "1                No       Sin dificultades            2   NaN          NaN\n",
       "2                No       Sin dificultades            2   NaN          NaN\n",
       "3                No       Sin dificultades            2   NaN          NaN\n",
       "4                No       Sin dificultades            2   NaN          NaN\n",
       "5                No       Sin dificultades            2   NaN          NaN"
      ]
     },
     "execution_count": 41,
     "metadata": {},
     "output_type": "execute_result"
    }
   ],
   "source": [
    "df.drop(\"dificultad_total\", axis = 1, inplace = True)\n",
    "df.iloc[:5, 10:15]"
   ]
  },
  {
   "cell_type": "markdown",
   "metadata": {},
   "source": [
    "- - -\n",
    "\n",
    "### Gráfico de Progreso I\n",
    "\n",
    "Veamos un pantallazo general de cómo se vienen implementando todos estos cambios en el dataset:"
   ]
  },
  {
   "cell_type": "code",
   "execution_count": 42,
   "metadata": {},
   "outputs": [
    {
     "data": {
      "text/plain": [
       "<matplotlib.axes._subplots.AxesSubplot at 0x7fe39cda26d0>"
      ]
     },
     "execution_count": 42,
     "metadata": {},
     "output_type": "execute_result"
    },
    {
     "data": {
      "image/png": "[encoded data removed]",
      "text/plain": [
       "<Figure size 1728x720 with 3 Axes>"
      ]
     },
     "metadata": {
      "needs_background": "light"
     },
     "output_type": "display_data"
    }
   ],
   "source": [
    "msno.bar(df)"
   ]
  },
  {
   "cell_type": "markdown",
   "metadata": {},
   "source": [
    "- - -\n",
    "\n",
    "### XII. \"certificado\"\n",
    "\n",
    "Afortunadamente, la columna \"certificado\" nos permitirá un respiro, y sólo hay que hacer cambio de nombre y completar las clasificaciones:"
   ]
  },
  {
   "cell_type": "code",
   "execution_count": 43,
   "metadata": {},
   "outputs": [
    {
     "data": {
      "text/plain": [
       "No              79526\n",
       "Sí - Vigente     2738\n",
       "Ignorado           63\n",
       "Name: tenencia_certificado_discapacidad, dtype: int64"
      ]
     },
     "execution_count": 43,
     "metadata": {},
     "output_type": "execute_result"
    }
   ],
   "source": [
    "df.rename(columns = {\"certificado\": \"tenencia_certificado_discapacidad\"}, inplace = True)\n",
    "\n",
    "df[\"tenencia_certificado_discapacidad\"] = df[\"tenencia_certificado_discapacidad\"].replace(\n",
    "    {1: \"Sí - Vigente\", \n",
    "     2: \"No\",\n",
    "     9: \"Ignorado\"})\n",
    "\n",
    "df[\"tenencia_certificado_discapacidad\"].value_counts()"
   ]
  },
  {
   "cell_type": "markdown",
   "metadata": {},
   "source": [
    "La columna quedó así lista. Sin embargo, puede notarse que desafortunadamente la categoría \"No\" es muy inespecífica: dado que las 82327 observaciones están completas, esto quiere decir que los \"No\" también están abarcando a gente sin dificultades, y salvo que se tratara de un caso de corrupción (es decir, tener dicho certificado siendo una persona sana), entonces sería deseable poder incorporar una nueva categoría \"No aplica - Persona sana\", para así poder determinar los casos de personas con dificultades que no tienen certificado.\n",
    "\n",
    "¿Cómo podríamos obtener esta cifra? Tomando la cantidad de observaciones \"No\" de \"tenencia_certificado_discapacidad\" y restándole las de personas sanas (la cual ya determinamos en la columna \"6+años_tipo_dificultad\", que nos dio un valor de 74383. "
   ]
  },
  {
   "cell_type": "code",
   "execution_count": 44,
   "metadata": {},
   "outputs": [
    {
     "data": {
      "text/plain": [
       "5143"
      ]
     },
     "execution_count": 44,
     "metadata": {},
     "output_type": "execute_result"
    }
   ],
   "source": [
    "79526 - 74383"
   ]
  },
  {
   "cell_type": "markdown",
   "metadata": {},
   "source": [
    "Probemos si tiene sentido este valor. Si le sumamos las categorías de \"Sí - Vigente\" e \"Ignorado\" de la columna \"tenencia_certificado_discapacidad\", nos da el siguiente valor:"
   ]
  },
  {
   "cell_type": "code",
   "execution_count": 45,
   "metadata": {},
   "outputs": [
    {
     "data": {
      "text/plain": [
       "7944"
      ]
     },
     "execution_count": 45,
     "metadata": {},
     "output_type": "execute_result"
    }
   ],
   "source": [
    "5143 + 2738 + 63"
   ]
  },
  {
   "cell_type": "markdown",
   "metadata": {},
   "source": [
    "Ahora bien, volvamos a la columna \"6+años_tipo_dificultad\", cuyos valores eran los siguientes:"
   ]
  },
  {
   "cell_type": "code",
   "execution_count": 46,
   "metadata": {},
   "outputs": [
    {
     "data": {
      "text/plain": [
       "Sin dificultades                         74383\n",
       "Una dificultad - Motora                   2021\n",
       "Dos dificultades                          1436\n",
       "Una dificultad - Visual                   1071\n",
       "Tres o más dificultades                    973\n",
       "Sólo certificado de discapacidad           811\n",
       "Una dificultad - Auditiva                  797\n",
       "Una dificultad - Mental/cognitiva          581\n",
       "Menor de 6 años con dificultad/es          144\n",
       "Una dificultad - Habla y comunicación       71\n",
       "Una dificultad - Cuidado de sí              39\n",
       "Name: 6+años_tipo_dificultad, dtype: int64"
      ]
     },
     "execution_count": 46,
     "metadata": {},
     "output_type": "execute_result"
    }
   ],
   "source": [
    "df[\"6+años_tipo_dificultad\"].value_counts()"
   ]
  },
  {
   "cell_type": "markdown",
   "metadata": {},
   "source": [
    "Si sumamos todas las categorías nos dará, obviamente, el número de observaciones totales (82327), pero si le restamos las observaciones de personas sanas obtenemos un total de:"
   ]
  },
  {
   "cell_type": "code",
   "execution_count": 47,
   "metadata": {},
   "outputs": [
    {
     "data": {
      "text/plain": [
       "7944"
      ]
     },
     "execution_count": 47,
     "metadata": {},
     "output_type": "execute_result"
    }
   ],
   "source": [
    "df[\"6+años_tipo_dificultad\"].value_counts().sum() - 74383"
   ]
  },
  {
   "cell_type": "markdown",
   "metadata": {},
   "source": [
    "Vemos así que hay coincidencia, por lo cual podríamos generar esta categoría adicional. Ejecutemos los comandos correspondientes y veamos cuál es el resultado:"
   ]
  },
  {
   "cell_type": "code",
   "execution_count": 48,
   "metadata": {},
   "outputs": [
    {
     "data": {
      "text/plain": [
       "No aplica       74351\n",
       "No               5175\n",
       "Sí - Vigente     2738\n",
       "Ignorado           63\n",
       "Name: tenencia_cert_especifico, dtype: int64"
      ]
     },
     "execution_count": 48,
     "metadata": {},
     "output_type": "execute_result"
    }
   ],
   "source": [
    "df[\"tenencia_cert_especifico\"] = \\\n",
    "df[\"tenencia_certificado_discapacidad\"].mask(df[\"tenencia_certificado_discapacidad\"] == \"No\", \\\n",
    "                                         df[\"6+años_tipo_dificultad\"])\n",
    "\n",
    "df[\"tenencia_cert_especifico\"] = df[\"tenencia_cert_especifico\"].replace(\n",
    "    {\"Sin dificultades\": \"No aplica\", \n",
    "     \"Una dificultad - Motora\": \"No\",\n",
    "     \"Dos dificultades\": \"No\",\n",
    "     \"Una dificultad - Visual\": \"No\",\n",
    "     \"Una dificultad - Auditiva\": \"No\",\n",
    "     \"Tres o más dificultades\": \"No\",\n",
    "     \"Una dificultad - Mental/cognitiva\": \"No\",\n",
    "     \"Menor de 6 años con dificultad/es\": \"No\",\n",
    "     \"Una dificultad - Habla y comunicación\": \"No\",\n",
    "     \"Una dificultad - Cuidado de sí\": \"No\"})\n",
    "\n",
    "df[\"tenencia_cert_especifico\"].value_counts()"
   ]
  },
  {
   "cell_type": "markdown",
   "metadata": {},
   "source": [
    "Vemos que hubo una discrepancia: obtuvimos 5175 \"No\" en vez de los 5143 esperados. Se trata de una diferencia de:"
   ]
  },
  {
   "cell_type": "code",
   "execution_count": 49,
   "metadata": {},
   "outputs": [
    {
     "data": {
      "text/plain": [
       "32"
      ]
     },
     "execution_count": 49,
     "metadata": {},
     "output_type": "execute_result"
    }
   ],
   "source": [
    "5175 - 5143"
   ]
  },
  {
   "cell_type": "markdown",
   "metadata": {},
   "source": [
    "Hay 32 observaciones problemáticas, que no nos están permitiendo llegar al resultado esperado, a pesar de que cuidadosamente trazamos un razonamiento que es correcto. ¿Hay un error en el dataset?\n",
    "\n",
    "Tras un par de horas de pruebas, vemos cuál es el problema: hay observaciones donde las personas no tienen dificultades, pero sin embargo en la columna \"tenencia_certificado_discapacidad\" figura como \"Ignorado\":"
   ]
  },
  {
   "cell_type": "code",
   "execution_count": 50,
   "metadata": {},
   "outputs": [
    {
     "data": {
      "text/html": [
       "<div>\n",
       "<style scoped>\n",
       "    .dataframe tbody tr th:only-of-type {\n",
       "        vertical-align: middle;\n",
       "    }\n",
       "\n",
       "    .dataframe tbody tr th {\n",
       "        vertical-align: top;\n",
       "    }\n",
       "\n",
       "    .dataframe thead th {\n",
       "        text-align: right;\n",
       "    }\n",
       "</style>\n",
       "<table border=\"1\" class=\"dataframe\">\n",
       "  <thead>\n",
       "    <tr style=\"text-align: right;\">\n",
       "      <th></th>\n",
       "      <th>6+años_tipo_dificultad</th>\n",
       "      <th>tenencia_certificado_discapacidad</th>\n",
       "    </tr>\n",
       "    <tr>\n",
       "      <th>ID</th>\n",
       "      <th></th>\n",
       "      <th></th>\n",
       "    </tr>\n",
       "  </thead>\n",
       "  <tbody>\n",
       "    <tr>\n",
       "      <th>18678</th>\n",
       "      <td>Sin dificultades</td>\n",
       "      <td>Ignorado</td>\n",
       "    </tr>\n",
       "    <tr>\n",
       "      <th>18994</th>\n",
       "      <td>Sin dificultades</td>\n",
       "      <td>Ignorado</td>\n",
       "    </tr>\n",
       "    <tr>\n",
       "      <th>21816</th>\n",
       "      <td>Sin dificultades</td>\n",
       "      <td>Ignorado</td>\n",
       "    </tr>\n",
       "    <tr>\n",
       "      <th>26059</th>\n",
       "      <td>Sin dificultades</td>\n",
       "      <td>Ignorado</td>\n",
       "    </tr>\n",
       "    <tr>\n",
       "      <th>27912</th>\n",
       "      <td>Sin dificultades</td>\n",
       "      <td>Ignorado</td>\n",
       "    </tr>\n",
       "    <tr>\n",
       "      <th>31591</th>\n",
       "      <td>Sin dificultades</td>\n",
       "      <td>Ignorado</td>\n",
       "    </tr>\n",
       "    <tr>\n",
       "      <th>31592</th>\n",
       "      <td>Sin dificultades</td>\n",
       "      <td>Ignorado</td>\n",
       "    </tr>\n",
       "    <tr>\n",
       "      <th>34513</th>\n",
       "      <td>Sin dificultades</td>\n",
       "      <td>Ignorado</td>\n",
       "    </tr>\n",
       "    <tr>\n",
       "      <th>39154</th>\n",
       "      <td>Sin dificultades</td>\n",
       "      <td>Ignorado</td>\n",
       "    </tr>\n",
       "    <tr>\n",
       "      <th>39650</th>\n",
       "      <td>Sin dificultades</td>\n",
       "      <td>Ignorado</td>\n",
       "    </tr>\n",
       "    <tr>\n",
       "      <th>40274</th>\n",
       "      <td>Sin dificultades</td>\n",
       "      <td>Ignorado</td>\n",
       "    </tr>\n",
       "    <tr>\n",
       "      <th>40397</th>\n",
       "      <td>Sin dificultades</td>\n",
       "      <td>Ignorado</td>\n",
       "    </tr>\n",
       "    <tr>\n",
       "      <th>42701</th>\n",
       "      <td>Sin dificultades</td>\n",
       "      <td>Ignorado</td>\n",
       "    </tr>\n",
       "    <tr>\n",
       "      <th>42762</th>\n",
       "      <td>Sin dificultades</td>\n",
       "      <td>Ignorado</td>\n",
       "    </tr>\n",
       "    <tr>\n",
       "      <th>42779</th>\n",
       "      <td>Sin dificultades</td>\n",
       "      <td>Ignorado</td>\n",
       "    </tr>\n",
       "    <tr>\n",
       "      <th>45355</th>\n",
       "      <td>Sin dificultades</td>\n",
       "      <td>Ignorado</td>\n",
       "    </tr>\n",
       "    <tr>\n",
       "      <th>48818</th>\n",
       "      <td>Sin dificultades</td>\n",
       "      <td>Ignorado</td>\n",
       "    </tr>\n",
       "    <tr>\n",
       "      <th>54772</th>\n",
       "      <td>Sin dificultades</td>\n",
       "      <td>Ignorado</td>\n",
       "    </tr>\n",
       "    <tr>\n",
       "      <th>56037</th>\n",
       "      <td>Sin dificultades</td>\n",
       "      <td>Ignorado</td>\n",
       "    </tr>\n",
       "    <tr>\n",
       "      <th>60381</th>\n",
       "      <td>Sin dificultades</td>\n",
       "      <td>Ignorado</td>\n",
       "    </tr>\n",
       "    <tr>\n",
       "      <th>63333</th>\n",
       "      <td>Sin dificultades</td>\n",
       "      <td>Ignorado</td>\n",
       "    </tr>\n",
       "    <tr>\n",
       "      <th>64167</th>\n",
       "      <td>Sin dificultades</td>\n",
       "      <td>Ignorado</td>\n",
       "    </tr>\n",
       "    <tr>\n",
       "      <th>64168</th>\n",
       "      <td>Sin dificultades</td>\n",
       "      <td>Ignorado</td>\n",
       "    </tr>\n",
       "    <tr>\n",
       "      <th>64460</th>\n",
       "      <td>Sin dificultades</td>\n",
       "      <td>Ignorado</td>\n",
       "    </tr>\n",
       "    <tr>\n",
       "      <th>66689</th>\n",
       "      <td>Sin dificultades</td>\n",
       "      <td>Ignorado</td>\n",
       "    </tr>\n",
       "    <tr>\n",
       "      <th>67936</th>\n",
       "      <td>Sin dificultades</td>\n",
       "      <td>Ignorado</td>\n",
       "    </tr>\n",
       "    <tr>\n",
       "      <th>69133</th>\n",
       "      <td>Sin dificultades</td>\n",
       "      <td>Ignorado</td>\n",
       "    </tr>\n",
       "    <tr>\n",
       "      <th>69343</th>\n",
       "      <td>Sin dificultades</td>\n",
       "      <td>Ignorado</td>\n",
       "    </tr>\n",
       "    <tr>\n",
       "      <th>69427</th>\n",
       "      <td>Sin dificultades</td>\n",
       "      <td>Ignorado</td>\n",
       "    </tr>\n",
       "    <tr>\n",
       "      <th>72597</th>\n",
       "      <td>Sin dificultades</td>\n",
       "      <td>Ignorado</td>\n",
       "    </tr>\n",
       "    <tr>\n",
       "      <th>75755</th>\n",
       "      <td>Sin dificultades</td>\n",
       "      <td>Ignorado</td>\n",
       "    </tr>\n",
       "    <tr>\n",
       "      <th>80300</th>\n",
       "      <td>Sin dificultades</td>\n",
       "      <td>Ignorado</td>\n",
       "    </tr>\n",
       "  </tbody>\n",
       "</table>\n",
       "</div>"
      ],
      "text/plain": [
       "      6+años_tipo_dificultad tenencia_certificado_discapacidad\n",
       "ID                                                            \n",
       "18678       Sin dificultades                          Ignorado\n",
       "18994       Sin dificultades                          Ignorado\n",
       "21816       Sin dificultades                          Ignorado\n",
       "26059       Sin dificultades                          Ignorado\n",
       "27912       Sin dificultades                          Ignorado\n",
       "31591       Sin dificultades                          Ignorado\n",
       "31592       Sin dificultades                          Ignorado\n",
       "34513       Sin dificultades                          Ignorado\n",
       "39154       Sin dificultades                          Ignorado\n",
       "39650       Sin dificultades                          Ignorado\n",
       "40274       Sin dificultades                          Ignorado\n",
       "40397       Sin dificultades                          Ignorado\n",
       "42701       Sin dificultades                          Ignorado\n",
       "42762       Sin dificultades                          Ignorado\n",
       "42779       Sin dificultades                          Ignorado\n",
       "45355       Sin dificultades                          Ignorado\n",
       "48818       Sin dificultades                          Ignorado\n",
       "54772       Sin dificultades                          Ignorado\n",
       "56037       Sin dificultades                          Ignorado\n",
       "60381       Sin dificultades                          Ignorado\n",
       "63333       Sin dificultades                          Ignorado\n",
       "64167       Sin dificultades                          Ignorado\n",
       "64168       Sin dificultades                          Ignorado\n",
       "64460       Sin dificultades                          Ignorado\n",
       "66689       Sin dificultades                          Ignorado\n",
       "67936       Sin dificultades                          Ignorado\n",
       "69133       Sin dificultades                          Ignorado\n",
       "69343       Sin dificultades                          Ignorado\n",
       "69427       Sin dificultades                          Ignorado\n",
       "72597       Sin dificultades                          Ignorado\n",
       "75755       Sin dificultades                          Ignorado\n",
       "80300       Sin dificultades                          Ignorado"
      ]
     },
     "execution_count": 50,
     "metadata": {},
     "output_type": "execute_result"
    }
   ],
   "source": [
    "mask = (df[\"tenencia_certificado_discapacidad\"] == \"Ignorado\") & \\\n",
    "       (df[\"6+años_tipo_dificultad\"] == \"Sin dificultades\")\n",
    "\n",
    "df[mask].iloc[:, 11:13]"
   ]
  },
  {
   "cell_type": "markdown",
   "metadata": {},
   "source": [
    "Por lo tanto, no resulta seguro computar esta cuarta categoría de \"No aplica - Persona sana\". Estos cálculos fueron hechos en una columna copia de \"tenencia_certificado_discapacidad\", por lo que será borrada y se conservará la original. Sin embargo, se consideró interesante resaltar esta discrepancia, que sin duda requirió un análisis minucioso para ser encontrada, por lo que se la explicó en detalle en caso de que se quiera indagar más."
   ]
  },
  {
   "cell_type": "code",
   "execution_count": 51,
   "metadata": {},
   "outputs": [
    {
     "data": {
      "text/plain": [
       "No              79526\n",
       "Sí - Vigente     2738\n",
       "Ignorado           63\n",
       "Name: tenencia_certificado_discapacidad, dtype: int64"
      ]
     },
     "execution_count": 51,
     "metadata": {},
     "output_type": "execute_result"
    }
   ],
   "source": [
    "df.drop(\"tenencia_cert_especifico\", axis = 1, inplace = True)\n",
    "\n",
    "df[\"tenencia_certificado_discapacidad\"].value_counts() # Columna original"
   ]
  },
  {
   "cell_type": "markdown",
   "metadata": {},
   "source": [
    "Si por alguna razón se quisiera conservar esta columna alternativa de \"tenencia_certificado_discapacidad\", simplemente agréguese un signo \"#\" al inicio de la primer línea de código anterior, de modo que quede así...\n",
    "\n",
    "    #df.drop(\"tenencia_cert_especifico\", axis = 1, inplace = True) \n",
    "\n",
    "...y a continuación ejecútese esta Notebook desde el principio yendo a **Kernel > Restart and Run All**. \n",
    "\n",
    "Esto mantendrá dicha columna en el dataset final."
   ]
  },
  {
   "cell_type": "markdown",
   "metadata": {},
   "source": [
    "- - -\n",
    "\n",
    "### XIII. \"PC01\" & \"edad_inicio\"\n",
    "\n",
    "Veamos el caso de las columnas \"PC01\" (\"Comienzo de la dificultad\") y \"edad_inicio\" (\"Edad de Inicio de la Dificultad\"). Renombrémoslas y detallemos sus clasificaciones, como siempre, para que sea más fácil interpretar la información.\n",
    "\n",
    "Nótese que estas columnas, al igual que la gran mayoría de las siguientes, ya sólo contemplan una subpoblación de 6 años o mayores."
   ]
  },
  {
   "cell_type": "code",
   "execution_count": 52,
   "metadata": {},
   "outputs": [
    {
     "name": "stdout",
     "output_type": "stream",
     "text": [
      "Después del nacimiento    6395\n",
      "Desde el nacimiento       1298\n",
      "Ignorado                   107\n",
      "Name: 6+años_comienzo_de_dificultad, dtype: int64\n",
      "Total: 7800 \n",
      "\n",
      "40-64 años         3420\n",
      "15-39 años         1427\n",
      "1-14 años           906\n",
      "65+ años            340\n",
      "Ignorado            208\n",
      "Menos de un año      94\n",
      "Name: 6+años_edad_inicio_dificultad, dtype: int64\n",
      "Total: 6395\n"
     ]
    }
   ],
   "source": [
    "df.rename(columns = {\"PC01\": \"6+años_comienzo_de_dificultad\",\n",
    "                     \"edad_inicio\": \"6+años_edad_inicio_dificultad\"}, inplace = True)\n",
    "\n",
    "df[\"6+años_comienzo_de_dificultad\"] = df[\"6+años_comienzo_de_dificultad\"].replace(\n",
    "    {1: \"Desde el nacimiento\", \n",
    "     2: \"Después del nacimiento\",\n",
    "     9: \"Ignorado\"})\n",
    "\n",
    "df[\"6+años_edad_inicio_dificultad\"] = df[\"6+años_edad_inicio_dificultad\"].replace(\n",
    "    {0: \"Menos de un año\", \n",
    "     1: \"1-14 años\",\n",
    "     2: \"15-39 años\",\n",
    "     3: \"40-64 años\",\n",
    "     4: \"65+ años\",\n",
    "     999: \"Ignorado\"})\n",
    "\n",
    "print(df[\"6+años_comienzo_de_dificultad\"].value_counts())\n",
    "print(\"Total:\", df[\"6+años_comienzo_de_dificultad\"].value_counts().sum(), \"\\n\")\n",
    "\n",
    "print(df[\"6+años_edad_inicio_dificultad\"].value_counts())\n",
    "print(\"Total:\", df[\"6+años_edad_inicio_dificultad\"].value_counts().sum())"
   ]
  },
  {
   "cell_type": "markdown",
   "metadata": {},
   "source": [
    "Podemos notar que ambas columnas pueden ser combinadas en una sola, ya que la categoría \"Después del nacimiento\" engloba la totalidad de las observaciones de la columna \"6+años_edad_inicio_dificultad\" (ambas hacen referencia a 6395 observaciones).\n",
    "\n",
    "Sin embargo, debemos notar que si no tenemos cuidado combinaremos accidentalmente las clasificaciones \"Ignorado\" de ambas columnas. La diferencia del \"Ignorado\" de \"6+años_edad_inicio_dificultad\" es que, recordemos, estaría incluido dentro de los ignorados **después del nacimiento**."
   ]
  },
  {
   "cell_type": "code",
   "execution_count": 53,
   "metadata": {},
   "outputs": [],
   "source": [
    "df[\"6+años_edad_inicio_dificultad\"] = df[\"6+años_edad_inicio_dificultad\"].replace(\n",
    "    {\"Ignorado\": \"Después del nacimiento - Sin especificar\"})"
   ]
  },
  {
   "cell_type": "markdown",
   "metadata": {},
   "source": [
    "Y ahora sí, procedamos al reemplazo de las observaciones \"Después del nacimiento\" en \"6+años_comienzo_de_dificultad\". Veamos cómo quedó organizada esta columna."
   ]
  },
  {
   "cell_type": "code",
   "execution_count": 54,
   "metadata": {},
   "outputs": [
    {
     "name": "stdout",
     "output_type": "stream",
     "text": [
      "40-64 años                                  3420\n",
      "15-39 años                                  1427\n",
      "Desde el nacimiento                         1298\n",
      "1-14 años                                    906\n",
      "65+ años                                     340\n",
      "Después del nacimiento - Sin especificar     208\n",
      "Ignorado                                     107\n",
      "Menos de un año                               94\n",
      "Name: 6+años_comienzo_de_dificultad, dtype: int64\n",
      "Total: 7800\n"
     ]
    }
   ],
   "source": [
    "df[\"6+años_comienzo_de_dificultad\"].mask(df[\"6+años_comienzo_de_dificultad\"] == \"Después del nacimiento\", \\\n",
    "                                         df[\"6+años_edad_inicio_dificultad\"], inplace=True)\n",
    "\n",
    "print(df[\"6+años_comienzo_de_dificultad\"].value_counts())\n",
    "print(\"Total:\", df[\"6+años_comienzo_de_dificultad\"].value_counts().sum())"
   ]
  },
  {
   "cell_type": "markdown",
   "metadata": {},
   "source": [
    "VIendo que está todo en orden, procedamos a borrar \"6+años_edad_inicio_dificultad\"."
   ]
  },
  {
   "cell_type": "code",
   "execution_count": 55,
   "metadata": {},
   "outputs": [],
   "source": [
    "df.drop(\"6+años_edad_inicio_dificultad\", axis = 1, inplace = True)"
   ]
  },
  {
   "cell_type": "markdown",
   "metadata": {},
   "source": [
    "- - -\n",
    "\n",
    "### XIV. \"PC03\"\n",
    "\n",
    "La siguiente columna, \"pc03\", se refiere a las causas de la discapacidad. Vamos a completar sus categorías, según el Manual de Uso, y a cambiar su nombre a uno definitivamente más intuitivo. También dejaremos en claro que sólo cubre una subpoblación de 6 años o más:"
   ]
  },
  {
   "cell_type": "code",
   "execution_count": 56,
   "metadata": {},
   "outputs": [
    {
     "data": {
      "text/plain": [
       "Enfermedad/síndrome                                            3583\n",
       "Accidente (tránsito, doméstico, laboral, deportivo, etc.)      1337\n",
       "Problemas asociados a la vejez                                 1030\n",
       "Otra causa sin especificar                                     1006\n",
       "Problemas en el parto / enfermedad materna durante embarazo     506\n",
       "Ignorado                                                        338\n",
       "Name: 6+años_causas_discapacidad, dtype: int64"
      ]
     },
     "execution_count": 56,
     "metadata": {},
     "output_type": "execute_result"
    }
   ],
   "source": [
    "df.rename(columns = {\"pc03\": \"6+años_causas_discapacidad\"}, inplace = True)\n",
    "\n",
    "df[\"6+años_causas_discapacidad\"] = df[\"6+años_causas_discapacidad\"].replace(\n",
    "    {1: \"Accidente (tránsito, doméstico, laboral, deportivo, etc.)\", \n",
    "     2: \"Problemas en el parto / enfermedad materna durante embarazo\",\n",
    "     3: \"Problemas asociados a la vejez\",\n",
    "     4: \"Enfermedad/síndrome\",\n",
    "     5: \"Otra causa sin especificar\",\n",
    "     9: \"Ignorado\"})\n",
    "\n",
    "df[\"6+años_causas_discapacidad\"].value_counts()"
   ]
  },
  {
   "cell_type": "markdown",
   "metadata": {},
   "source": [
    "- - -\n",
    "\n",
    "### XV. \"PC04\"\n",
    "\n",
    "Exactamente el mismo tratamiento recibirá \"pc04\", referida a la cobertura de salud. También se trata de una subpoblación de 6 años o más con discapacidad."
   ]
  },
  {
   "cell_type": "code",
   "execution_count": 57,
   "metadata": {},
   "outputs": [
    {
     "data": {
      "text/plain": [
       "Obra social / PAMI                                            4646\n",
       "No tiene obra social, prepaga o plan estatal                  1634\n",
       "Programas o planes estatales de salud                          850\n",
       "Prepaga por obra social o sólo por contratación voluntaria     670\n",
       "Name: 6+años_cobertura_salud, dtype: int64"
      ]
     },
     "execution_count": 57,
     "metadata": {},
     "output_type": "execute_result"
    }
   ],
   "source": [
    "df.rename(columns = {\"pc04\": \"6+años_cobertura_salud\"}, inplace = True)\n",
    "\n",
    "df[\"6+años_cobertura_salud\"] = df[\"6+años_cobertura_salud\"].replace(\n",
    "    {1: \"Obra social / PAMI\", \n",
    "     2: \"Prepaga por obra social o sólo por contratación voluntaria\",\n",
    "     3: \"Programas o planes estatales de salud\",\n",
    "     4: \"No tiene obra social, prepaga o plan estatal\"})\n",
    "\n",
    "df[\"6+años_cobertura_salud\"].value_counts()"
   ]
  },
  {
   "cell_type": "markdown",
   "metadata": {},
   "source": [
    "- - -\n",
    "\n",
    "### XVI. \"PC05\" & \"PC06\"\n",
    "\n",
    "¿Qué ocurre con las columnas \"PC05\" (\"Recibe jubilación o pensión\") y \"PC06\" (\"Tipo de beneficio que recibe\")? Sus clasificaciones dan a pensar que repiten información. Veamos sus categorías:\n",
    "\n",
    "| \"PC05\" (\"Recibe jubilación o pensión\") |\n",
    "|:---:|\n",
    "| 1 = Recibe jubilación o pensión |\n",
    "| 2 = No recibe jubilación o pensión |\n",
    "\n",
    "| \"PC06\" (\"Tipo de beneficio que recibe\") |\n",
    "|:---:|\n",
    "| 1 = Solo jubilación |\n",
    "| 2 = Solo pensión por fallecimiento del titular |\n",
    "| 3 = Jubilación y pensión |\n",
    "| 4 = Solo pensión por invalidez/discapacidad | \n",
    "| 5 = Solo pensión de otro tipo |"
   ]
  },
  {
   "cell_type": "code",
   "execution_count": 58,
   "metadata": {},
   "outputs": [
    {
     "name": "stdout",
     "output_type": "stream",
     "text": [
      "1.0    5009\n",
      "2.0    2791\n",
      "Name: PC05, dtype: int64\n",
      "Total: 7800 \n",
      "\n",
      "1.0    2402\n",
      "4.0    1545\n",
      "3.0     599\n",
      "5.0     297\n",
      "2.0     166\n",
      "Name: PC06, dtype: int64\n",
      "Total: 5009\n"
     ]
    }
   ],
   "source": [
    "print(df[\"PC05\"].value_counts())\n",
    "print(\"Total:\", df[\"PC05\"].value_counts().sum(), \"\\n\")\n",
    "\n",
    "print(df[\"PC06\"].value_counts())\n",
    "print(\"Total:\", df[\"PC06\"].value_counts().sum())"
   ]
  },
  {
   "cell_type": "markdown",
   "metadata": {},
   "source": [
    "Efectivamente, la clasificación 1 de \"PC05\" (\"Recibe jubilación o pensión\") engloba el conteo total de observaciones de \"PC06\". Por lo tanto, procederemos a combinarlas y eliminaremos a \"PC06\" una vez que todo esté listo."
   ]
  },
  {
   "cell_type": "code",
   "execution_count": 59,
   "metadata": {},
   "outputs": [
    {
     "name": "stdout",
     "output_type": "stream",
     "text": [
      "No recibe jubilación o pensión                2791\n",
      "Sólo jubilación                               2402\n",
      "Sólo pensión por invalidez/discapacidad       1545\n",
      "Jubilación y pensión                           599\n",
      "Sólo pensión de otro tipo                      297\n",
      "Sólo pensión por fallecimiento del titular     166\n",
      "Name: 6+años_jubilacion/pension, dtype: int64\n",
      "Total: 7800\n"
     ]
    }
   ],
   "source": [
    "df[\"PC06\"] = df[\"PC06\"].replace(\n",
    "    {1: \"Sólo jubilación\", \n",
    "     2: \"Sólo pensión por fallecimiento del titular\",\n",
    "     3: \"Jubilación y pensión\",\n",
    "     4: \"Sólo pensión por invalidez/discapacidad\",\n",
    "     5: \"Sólo pensión de otro tipo\"})\n",
    "\n",
    "df[\"PC05\"] = df[\"PC05\"].replace({2: \"No recibe jubilación o pensión\"})\n",
    "\n",
    "df[\"PC05\"].mask(df[\"PC05\"] == 1, df[\"PC06\"], inplace=True)\n",
    "\n",
    "df.rename(columns = {\"PC05\": \"6+años_jubilacion/pension\"}, inplace = True)\n",
    "\n",
    "df.drop(\"PC06\", axis = 1, inplace = True)\n",
    "\n",
    "print(df[\"6+años_jubilacion/pension\"].value_counts())\n",
    "print(\"Total:\", df[\"6+años_jubilacion/pension\"].value_counts().sum())"
   ]
  },
  {
   "cell_type": "markdown",
   "metadata": {},
   "source": [
    "- - -\n",
    "\n",
    "### XVII. \"PC07\"\n",
    "\n",
    "Veamos la columna \"PC07\" (\"Sabe leer o escribir\"): "
   ]
  },
  {
   "cell_type": "code",
   "execution_count": 60,
   "metadata": {},
   "outputs": [
    {
     "name": "stdout",
     "output_type": "stream",
     "text": [
      "1.0    6597\n",
      "2.0     718\n",
      "Name: PC07, dtype: int64\n",
      "Total: 7315\n"
     ]
    }
   ],
   "source": [
    "print(df[\"PC07\"].value_counts())\n",
    "print(\"Total:\", df[\"PC07\"].value_counts().sum())"
   ]
  },
  {
   "cell_type": "markdown",
   "metadata": {},
   "source": [
    "Esta columna tiene la particularidad de ser la primera que sólo considera una subpoblación de 14 años o más.\n",
    "\n",
    "Teniendo esta información, procedamos a editarla."
   ]
  },
  {
   "cell_type": "code",
   "execution_count": 61,
   "metadata": {},
   "outputs": [
    {
     "name": "stdout",
     "output_type": "stream",
     "text": [
      "No    6597\n",
      "Sí     718\n",
      "Name: 14+años_analfabetismo, dtype: int64\n",
      "Total: 7315\n"
     ]
    }
   ],
   "source": [
    "df.rename(columns = {\"PC07\": \"14+años_analfabetismo\"}, inplace = True)\n",
    "\n",
    "df[\"14+años_analfabetismo\"] = df[\"14+años_analfabetismo\"].replace({1: \"No\", 2: \"Sí\"})\n",
    "\n",
    "print(df[\"14+años_analfabetismo\"].value_counts())\n",
    "print(\"Total:\", df[\"14+años_analfabetismo\"].value_counts().sum())"
   ]
  },
  {
   "cell_type": "markdown",
   "metadata": {},
   "source": [
    "La inversión de valores, por si no quedara claro, se debe a que el nombre original del Manual de Uso era \"Sabe leer o escribir\", y nosotros lo cambiamos a \"analfabetismo\" (es decir, **no** sabe leer o escribir).\n",
    "\n",
    "- - -\n",
    "\n",
    "### Gráfico de Progreso II\n",
    "\n",
    "Habiendo procesado aproximadamente dos tercios del total de columnas, es un momento oportuno para visualizar nuestro progreso actual:"
   ]
  },
  {
   "cell_type": "code",
   "execution_count": 62,
   "metadata": {},
   "outputs": [
    {
     "data": {
      "text/plain": [
       "<matplotlib.axes._subplots.AxesSubplot at 0x7fe3a00c1970>"
      ]
     },
     "execution_count": 62,
     "metadata": {},
     "output_type": "execute_result"
    },
    {
     "data": {
      "image/png": "[encoded data removed]",
      "text/plain": [
       "<Figure size 1728x720 with 3 Axes>"
      ]
     },
     "metadata": {
      "needs_background": "light"
     },
     "output_type": "display_data"
    }
   ],
   "source": [
    "msno.bar(df)"
   ]
  },
  {
   "cell_type": "markdown",
   "metadata": {},
   "source": [
    "- - -\n",
    "\n",
    "### XVIII. \"PC08\" & \"MNEA\"\n",
    "\n",
    "Las siguientes columnas vuelven a tomar la subpoblación de personas de 6 años o más.\n",
    "\n",
    "| \"PC08\" (\"Asiste a Establecimiento Educativo\") |\n",
    "|:---:|\n",
    "| 1 = Sí, cursa |\n",
    "| 2 = No está cursando, pero cursó |\n",
    "| 3 = Nunca cursó |\n",
    "\n",
    "| \"MNEA\" (\"Máximo Nivel Educativo Alcanzado\") |\n",
    "|:---:|\n",
    "| 1 = Primario completo |\n",
    "| 2 = Secundario incompleto |\n",
    "| 3 = Educación integral |\n",
    "| 4 = Secundario completo | \n",
    "| 5 = Superior no universitario, universitario o posgrado incompleto o completo |\n",
    "| 6 = Sin especificar / Ignorado |\n",
    "\n",
    "Procedamos a editarlas para que reflejen la información con más claridad:"
   ]
  },
  {
   "cell_type": "code",
   "execution_count": 63,
   "metadata": {},
   "outputs": [],
   "source": [
    "df[\"PC08\"] = df[\"PC08\"].replace({\n",
    "     1: \"Está cursando\",\n",
    "     2: \"No está cursando, pero cursó\",\n",
    "     3: \"Nunca cursó\"})\n",
    "\n",
    "df[\"MNEA\"] = df[\"MNEA\"].replace({\n",
    "    1: \"Primario completo\",\n",
    "    2: \"Secundario incompleto\",\n",
    "    3: \"Educación integral\",\n",
    "    4: \"Secundario completo\",\n",
    "    5: \"Superior no universitario, universitario o posgrado incompleto o completo\",\n",
    "    6: \"Sin especificar / Ignorado\"})\n",
    "\n",
    "df.rename(columns = {\n",
    "    \"PC08\": \"6+años_asistencia_educacion\",\n",
    "    \"MNEA\": \"6+años_maxima_educacion_alcanzada\"}, inplace = True)"
   ]
  },
  {
   "cell_type": "markdown",
   "metadata": {},
   "source": [
    "Y ahora veamos los resultados:"
   ]
  },
  {
   "cell_type": "code",
   "execution_count": 64,
   "metadata": {},
   "outputs": [
    {
     "name": "stdout",
     "output_type": "stream",
     "text": [
      "No está cursando, pero cursó    6164\n",
      "Está cursando                   1090\n",
      "Nunca cursó                      546\n",
      "Name: 6+años_asistencia_educacion, dtype: int64\n",
      "Total: 7800 \n",
      "\n",
      "Primario completo                                                            3540\n",
      "Secundario incompleto                                                        1446\n",
      "Secundario completo                                                           993\n",
      "Superior no universitario, universitario o posgrado incompleto o completo     982\n",
      "Sin especificar / Ignorado                                                    197\n",
      "Educación integral                                                             96\n",
      "Name: 6+años_maxima_educacion_alcanzada, dtype: int64\n",
      "Total: 7254\n"
     ]
    }
   ],
   "source": [
    "print(df[\"6+años_asistencia_educacion\"].value_counts())\n",
    "print(\"Total:\", df[\"6+años_asistencia_educacion\"].value_counts().sum(), \"\\n\")\n",
    "\n",
    "print(df[\"6+años_maxima_educacion_alcanzada\"].value_counts())\n",
    "print(\"Total:\", df[\"6+años_maxima_educacion_alcanzada\"].value_counts().sum())"
   ]
  },
  {
   "cell_type": "markdown",
   "metadata": {},
   "source": [
    "El caso de estas columnas es bastante particular: si bien las clasificaciones \"No está cursando, pero cursó\" y \"Sí, cursa\" de la columna \"6+años_asistencia_educacion\" engloban el total de observaciones de \"6+años_maxima_educacion_alcanzada\"..."
   ]
  },
  {
   "cell_type": "code",
   "execution_count": 65,
   "metadata": {},
   "outputs": [
    {
     "data": {
      "text/plain": [
       "7254"
      ]
     },
     "execution_count": 65,
     "metadata": {},
     "output_type": "execute_result"
    }
   ],
   "source": [
    "6164 + 1090"
   ]
  },
  {
   "cell_type": "markdown",
   "metadata": {},
   "source": [
    "... la realidad es que si combináramos ambas columnas perderíamos información. Una nos indica si la persona está cursando o no, mientras que la otra nos informa sobre el nivel de educación que alcanzó. Así, para este caso es mejor dejarlas tal como están."
   ]
  },
  {
   "cell_type": "markdown",
   "metadata": {},
   "source": [
    "- - -\n",
    "\n",
    "### XIX. \"mod_edu\" & \"6+años_asistencia_educacion\"\n",
    "\n",
    "Vamos a revisar ahora la columna \"mod_edu\" (\"Modalidad educativa de asistencia actual y pasada\"), empezando por editarla para un mejor vislumbramiento de datos.\n",
    "\n",
    "Esta columna también abarca una subpoblación de 6 años o más."
   ]
  },
  {
   "cell_type": "code",
   "execution_count": 66,
   "metadata": {},
   "outputs": [],
   "source": [
    "df[\"mod_edu\"] = df[\"mod_edu\"].replace({\n",
    "    1: \"Sólo común\",\n",
    "    2: \"Sólo especial\",\n",
    "    3: \"Común y especial\",\n",
    "    9: \"Ignorado\"})\n",
    "\n",
    "df.rename(columns = {\n",
    "    \"mod_edu\": \"6+años_modalidad_educativa_actual/pasada\"}, inplace = True)"
   ]
  },
  {
   "cell_type": "markdown",
   "metadata": {},
   "source": [
    "Sería interesante comparar esta columna con \"6+años_asistencia_educacion\", que nos informaba en líneas generales si la persona cursa estudios o no."
   ]
  },
  {
   "cell_type": "code",
   "execution_count": 67,
   "metadata": {},
   "outputs": [
    {
     "name": "stdout",
     "output_type": "stream",
     "text": [
      "No está cursando, pero cursó    6164\n",
      "Está cursando                   1090\n",
      "Nunca cursó                      546\n",
      "Name: 6+años_asistencia_educacion, dtype: int64\n",
      "Total: 7800 \n",
      "\n",
      "Sólo común          6510\n",
      "Sólo especial        478\n",
      "Común y especial     186\n",
      "Ignorado              80\n",
      "Name: 6+años_modalidad_educativa_actual/pasada, dtype: int64\n",
      "Total: 7254\n"
     ]
    }
   ],
   "source": [
    "print(df[\"6+años_asistencia_educacion\"].value_counts())\n",
    "print(\"Total:\", df[\"6+años_asistencia_educacion\"].value_counts().sum(), \"\\n\")\n",
    "\n",
    "print(df[\"6+años_modalidad_educativa_actual/pasada\"].value_counts())\n",
    "print(\"Total:\", df[\"6+años_modalidad_educativa_actual/pasada\"].value_counts().sum())"
   ]
  },
  {
   "cell_type": "markdown",
   "metadata": {},
   "source": [
    "Vemos que al igual que en la comparación de columnas anterior, la suma de las clasificaciones \"No está cursando, pero cursó\" y \"Sí, cursa\" de la columna \"6+años_asistencia_educacion\" engloban el total de observaciones de \"6+años_modalidad_educativa_actual_y_pasada\"..."
   ]
  },
  {
   "cell_type": "code",
   "execution_count": 68,
   "metadata": {},
   "outputs": [
    {
     "data": {
      "text/plain": [
       "7254"
      ]
     },
     "execution_count": 68,
     "metadata": {},
     "output_type": "execute_result"
    }
   ],
   "source": [
    "6164 + 1090"
   ]
  },
  {
   "cell_type": "markdown",
   "metadata": {},
   "source": [
    "... pero al igual que en el caso anterior, nos conviene no combinar las dos columnas, para así preservar mayor cantidad de información."
   ]
  },
  {
   "cell_type": "markdown",
   "metadata": {},
   "source": [
    "- - -\n",
    "\n",
    "### XX. \"PC19\" & \"6+años_asistencia_educacion\"\n",
    "\n",
    "La columna \"PC19\" (\"Principal motivo de no cursar actualmente/nunca cursó\") se caracteriza por tener un elevado número de clasificaciones en el Manual de Uso, todas ellas cubriendo una subpoblación de 6 años o más. Ubiquémoslas en el dataset para ver de cuáles se trata:"
   ]
  },
  {
   "cell_type": "code",
   "execution_count": 69,
   "metadata": {},
   "outputs": [],
   "source": [
    "df[\"PC19\"] = df[\"PC19\"].replace({\n",
    "    1: \"Problemas de accesibilidad en la vía pública y transportes\",\n",
    "    2: \"No consiguió vacante en la escuela pública\",\n",
    "    3: \"Ausencia de escuelas especiales donde vive\",\n",
    "    4: \"Escuela sin docentes/profesionales/apoyo especializados\",\n",
    "    5: \"No accedió a escolaridad debido a su discapacidad\",\n",
    "    6: \"No posee suficientes recursos económicos\",\n",
    "    7: \"Terminó sus estudios / no quiere seguir estudiando\",\n",
    "    8: \"Otro motivo sin especificar\"})\n",
    "\n",
    "df.rename(columns = {\n",
    "    \"PC19\": \"6+años_principal_motivo_no_cursa/nunca_curso\"}, inplace = True)"
   ]
  },
  {
   "cell_type": "markdown",
   "metadata": {},
   "source": [
    "¿Qué pasa si usamos por tercera vez la columna \"6+años_asistencia_educacion\" para ver si hay coincidencias en el número de observaciones?"
   ]
  },
  {
   "cell_type": "code",
   "execution_count": 70,
   "metadata": {},
   "outputs": [
    {
     "name": "stdout",
     "output_type": "stream",
     "text": [
      "No está cursando, pero cursó    6164\n",
      "Está cursando                   1090\n",
      "Nunca cursó                      546\n",
      "Name: 6+años_asistencia_educacion, dtype: int64\n",
      "Total: 7800 \n",
      "\n",
      "Terminó sus estudios / no quiere seguir estudiando            2788\n",
      "Otro motivo sin especificar                                   2171\n",
      "No posee suficientes recursos económicos                      1191\n",
      "No accedió a escolaridad debido a su discapacidad              311\n",
      "Problemas de accesibilidad en la vía pública y transportes     177\n",
      "Ausencia de escuelas especiales donde vive                      31\n",
      "Escuela sin docentes/profesionales/apoyo especializados         27\n",
      "No consiguió vacante en la escuela pública                      14\n",
      "Name: 6+años_principal_motivo_no_cursa/nunca_curso, dtype: int64\n",
      "Total: 6710\n"
     ]
    }
   ],
   "source": [
    "print(df[\"6+años_asistencia_educacion\"].value_counts())\n",
    "print(\"Total:\", df[\"6+años_asistencia_educacion\"].value_counts().sum(), \"\\n\")\n",
    "\n",
    "print(df[\"6+años_principal_motivo_no_cursa/nunca_curso\"].value_counts())\n",
    "print(\"Total:\", df[\"6+años_principal_motivo_no_cursa/nunca_curso\"].value_counts().sum())"
   ]
  },
  {
   "cell_type": "markdown",
   "metadata": {},
   "source": [
    "Si sumamos las observaciones \"Nunca cursó\" (546) y \"No está cursando, pero cursó\" (6164) de \"6+años_asistencia_educacion\" obtenemos:"
   ]
  },
  {
   "cell_type": "code",
   "execution_count": 71,
   "metadata": {},
   "outputs": [
    {
     "data": {
      "text/plain": [
       "6710"
      ]
     },
     "execution_count": 71,
     "metadata": {},
     "output_type": "execute_result"
    }
   ],
   "source": [
    "546 + 6164"
   ]
  },
  {
   "cell_type": "markdown",
   "metadata": {},
   "source": [
    "Vemos que efectivamente coinciden con el número total de observaciones de \"6+años_principal_motivo_no_cursa/nunca_curso\", pero al igual que en las dos comparaciones anteriores, de todos modos no integraremos esta última columna a la anterior, con la finalidad de conservar información.\n",
    "\n",
    "Queda así finalizada esta compleja subsección de columnas relacionadas con el nivel educativo."
   ]
  },
  {
   "cell_type": "markdown",
   "metadata": {},
   "source": [
    "- - -\n",
    "\n",
    "**IMPORTANTE:** A partir de este punto, todas las columnas engloban una **subpoblación de 14 años o más**. Como se irá apreciando a medida que se revise cada columna individual, realmente no tiene ninguna lógica tener en cuenta a aquellos casos por debajo de esa edad.\n",
    "\n",
    "- - -\n",
    "\n",
    "### XXI. \"PC20\" & \"PC21\"\n",
    "\n",
    "Ya estamos en la recta final. Ahora es el turno de \"PC20\" (\"Convive en pareja\") y \"PC21\"(\"Estado civil legal\"). \"PC20\" tiene sólo dos tipos de valor, en relación a si la persona vive en pareja (\"1\") o no (\"2\").\n",
    "\n",
    "Por su parte, \"PC21\" contiene seis categorías distintas.\n",
    "\n",
    "Ubiquémoslas."
   ]
  },
  {
   "cell_type": "code",
   "execution_count": 72,
   "metadata": {},
   "outputs": [],
   "source": [
    "df[\"PC20\"] = df[\"PC20\"].replace({\n",
    "    1: \"Sí\",\n",
    "    2: \"No\"})\n",
    "\n",
    "df[\"PC21\"] = df[\"PC21\"].replace({\n",
    "    1: \"Soltero/a\",\n",
    "    2: \"Casado/a\",\n",
    "    3: \"Unión civil o convivencial legal\",\n",
    "    4: \"Divorciado/a\",\n",
    "    5: \"Separado/a legalmente\",\n",
    "    6: \"Viudo/a\"})\n",
    "\n",
    "df.rename(columns = {\n",
    "    \"PC20\": \"14+años_convive_en_pareja\",\n",
    "    \"PC21\": \"14+años_estado_civil_legal\"}, inplace = True)"
   ]
  },
  {
   "cell_type": "markdown",
   "metadata": {},
   "source": [
    "En este caso, veamos si las categorías \"Casado/a\" y \"En unión civil o convivencial legal\" de \"14+años_estado_civil_legal\" se corresponden con la cantidad de \"Sí\" de \"14+años_convive_en_pareja\"."
   ]
  },
  {
   "cell_type": "code",
   "execution_count": 73,
   "metadata": {},
   "outputs": [
    {
     "name": "stdout",
     "output_type": "stream",
     "text": [
      "No    4166\n",
      "Sí    3149\n",
      "Name: 14+años_convive_en_pareja, dtype: int64\n",
      "Total: 7315 \n",
      "\n",
      "Soltero/a                           2663\n",
      "Casado/a                            2470\n",
      "Viudo/a                             1313\n",
      "Divorciado/a                         374\n",
      "Unión civil o convivencial legal     303\n",
      "Separado/a legalmente                192\n",
      "Name: 14+años_estado_civil_legal, dtype: int64\n",
      "Total: 7315\n"
     ]
    }
   ],
   "source": [
    "print(df[\"14+años_convive_en_pareja\"].value_counts())\n",
    "print(\"Total:\", df[\"14+años_convive_en_pareja\"].value_counts().sum(), \"\\n\")\n",
    "\n",
    "print(df[\"14+años_estado_civil_legal\"].value_counts())\n",
    "print(\"Total:\", df[\"14+años_estado_civil_legal\"].value_counts().sum())"
   ]
  },
  {
   "cell_type": "markdown",
   "metadata": {},
   "source": [
    "La suma de \"Casado/a\" y \"En unión civil o convivencial legal\" de \"14+años_estado_civil_legal\" nos da:"
   ]
  },
  {
   "cell_type": "code",
   "execution_count": 74,
   "metadata": {},
   "outputs": [
    {
     "data": {
      "text/plain": [
       "2773"
      ]
     },
     "execution_count": 74,
     "metadata": {},
     "output_type": "execute_result"
    }
   ],
   "source": [
    "2470 + 303"
   ]
  },
  {
   "cell_type": "markdown",
   "metadata": {},
   "source": [
    "Definitivamente no hay coincidencia. \n",
    "\n",
    "Se probaron otras variaciones de sumas entre clasificaciones, y no se obtuvieron valores que encajen. Es evidente que aunque están informando sobre la misma temática (status conyugal de los encuestados), ambas columnas reflejan aspectos diferentes.\n",
    "\n",
    "Hay varias posibilidades para que los números no sean similares; no necesariamente tiene que tratarse de errores en la toma. Por ejemplo, siendo que \"14+años_convive_en_pareja\" se refiere, valga la redundancia, a la convivencia en pareja, podría ser que la persona esté en una relación de noviazgo pero que no esté conviviendo con su otro significativo; o bien que ambas personas estén separadas legalmente pero por cuestiones económicas se vean forzadas a seguir conviviendo bajo el mismo techo; o bien que legalmente la persona figure como viudo/a pero que haya encontrado otra pareja y ya esté conviviendo con ella, etc.\n",
    "\n",
    "En síntesis, ambas columnas ofrecen información separadamente, por lo que se decidió conservarlas a las dos. "
   ]
  },
  {
   "cell_type": "markdown",
   "metadata": {},
   "source": [
    "- - -\n",
    "\n",
    "### XXII. \"Estado_ocup\" & \"cat_ocup\"\n",
    "\n",
    "Pasemos al último grupo por revisar, compuesto por tres columnas.\n",
    "\n",
    "Comenzaremos por \"Estado_ocup\" y \"cat_ocup\", a las cuales les reemplazaremos sus categorías por las del Manual de Uso y les daremos nombres más descriptivos, como siempre."
   ]
  },
  {
   "cell_type": "code",
   "execution_count": 75,
   "metadata": {},
   "outputs": [
    {
     "name": "stdout",
     "output_type": "stream",
     "text": [
      "Inactivo      4763\n",
      "Ocupado       2303\n",
      "Desocupado     249\n",
      "Name: 14+años_status_laboral, dtype: int64\n",
      "Total: 7315 \n",
      "\n",
      "Ocupado - Obrero / empleado      1076\n",
      "Ocupado - Cuenta propia           988\n",
      "Ocupado - Trabajador familiar     159\n",
      "Ocupado - Patrón                   80\n",
      "Name: 14+años_categoria_laboral, dtype: int64\n",
      "Total: 2303\n"
     ]
    }
   ],
   "source": [
    "df[\"Estado_ocup\"] = df[\"Estado_ocup\"].replace(\n",
    "    {1: \"Ocupado\",\n",
    "     2: \"Desocupado\",\n",
    "     3: \"Inactivo\"})\n",
    "\n",
    "df[\"cat_ocup\"] = df[\"cat_ocup\"].replace(\n",
    "    {1: \"Ocupado - Patrón\",\n",
    "     2: \"Ocupado - Cuenta propia\",\n",
    "     3: \"Ocupado - Obrero / empleado\",\n",
    "     4: \"Ocupado - Trabajador familiar\"})\n",
    "\n",
    "df.rename(columns = {\n",
    "    \"Estado_ocup\": \"14+años_status_laboral\",\n",
    "    \"cat_ocup\": \"14+años_categoria_laboral\"}, inplace = True)\n",
    "\n",
    "print(df[\"14+años_status_laboral\"].value_counts())\n",
    "print(\"Total:\", df[\"14+años_status_laboral\"].value_counts().sum(), \"\\n\")\n",
    "\n",
    "print(df[\"14+años_categoria_laboral\"].value_counts())\n",
    "print(\"Total:\", df[\"14+años_categoria_laboral\"].value_counts().sum())"
   ]
  },
  {
   "cell_type": "markdown",
   "metadata": {},
   "source": [
    "Es posible combinar estas columnas, ya que la categoría \"Ocupado\" de \"14+años_status_laboral\" engloba el número exacto de observaciones en \"14+años_categoria_laboral\", que es 2303.\n",
    "\n",
    "Por tratarse de un procedimiento familiar a esta altura, se sobreentiende que tras combinarlas nos desharemos de \"14+años_categoria_laboral\", por tratarse de la columna con menor información.\n",
    "\n",
    "A los fines de ser breves, realizaremos ambos procedimientos en una misma celda."
   ]
  },
  {
   "cell_type": "code",
   "execution_count": 76,
   "metadata": {},
   "outputs": [
    {
     "name": "stdout",
     "output_type": "stream",
     "text": [
      "Inactivo                         4763\n",
      "Ocupado - Obrero / empleado      1076\n",
      "Ocupado - Cuenta propia           988\n",
      "Desocupado                        249\n",
      "Ocupado - Trabajador familiar     159\n",
      "Ocupado - Patrón                   80\n",
      "Name: 14+años_status_laboral, dtype: int64\n",
      "Total: 7315\n"
     ]
    }
   ],
   "source": [
    "df[\"14+años_status_laboral\"].mask(df[\"14+años_status_laboral\"] == \"Ocupado\",\\\n",
    "                                  df[\"14+años_categoria_laboral\"], inplace=True)\n",
    "\n",
    "df.drop(\"14+años_categoria_laboral\", axis = 1, inplace = True)\n",
    "\n",
    "print(df[\"14+años_status_laboral\"].value_counts())\n",
    "print(\"Total:\", df[\"14+años_status_laboral\"].value_counts().sum())"
   ]
  },
  {
   "cell_type": "markdown",
   "metadata": {},
   "source": [
    "- - - \n",
    "\n",
    "### XXIII. \"PC26\" y \"14+años_status_laboral\"\n",
    "\n",
    "\"PC26\" (\"Motivo principal por el que no buscó trabajo\") es la última columna del dataset."
   ]
  },
  {
   "cell_type": "code",
   "execution_count": 77,
   "metadata": {},
   "outputs": [],
   "source": [
    "df[\"PC26\"] = df[\"PC26\"].replace(\n",
    "    {1: \"Inactivo - Buscó mucho tiempo y no consiguió / desistió\",\n",
    "     2: \"Inactivo - Desconfía de su capacidad de obtener trabajo\",\n",
    "     3: \"Inactivo - Problemas de accesibilidad en la vía pública\",\n",
    "     4: \"Inactivo - Es estudiante\",\n",
    "     5: \"Inactivo - Dedicado al cuidado del hogar\",\n",
    "     6: \"Inactivo - No quiere perder pensión por dificultad/invalidez\",\n",
    "     7: \"Inactivo - Jubilado / pensionado\",\n",
    "     8: \"Inactivo - No quiere / no necesita trabajar\",\n",
    "     9: \"Inactivo - Otro motivo sin especificar\"})\n",
    "\n",
    "df.rename(columns = {\"PC26\": \"14+años_motivo_no_busco_trabajo\"}, inplace = True)"
   ]
  },
  {
   "cell_type": "markdown",
   "metadata": {},
   "source": [
    "¿Podría ser integrada a \"14+años_status_laboral\"? Averigüemos:"
   ]
  },
  {
   "cell_type": "code",
   "execution_count": 78,
   "metadata": {},
   "outputs": [
    {
     "name": "stdout",
     "output_type": "stream",
     "text": [
      "Inactivo                         4763\n",
      "Ocupado - Obrero / empleado      1076\n",
      "Ocupado - Cuenta propia           988\n",
      "Desocupado                        249\n",
      "Ocupado - Trabajador familiar     159\n",
      "Ocupado - Patrón                   80\n",
      "Name: 14+años_status_laboral, dtype: int64\n",
      "Total: 7315 \n",
      "\n",
      "Inactivo - Jubilado / pensionado                                2317\n",
      "Inactivo - Otro motivo sin especificar                           774\n",
      "Inactivo - No quiere / no necesita trabajar                      387\n",
      "Inactivo - Desconfía de su capacidad de obtener trabajo          366\n",
      "Inactivo - Dedicado al cuidado del hogar                         331\n",
      "Inactivo - Es estudiante                                         246\n",
      "Inactivo - No quiere perder pensión por dificultad/invalidez     238\n",
      "Inactivo - Buscó mucho tiempo y no consiguió / desistió           55\n",
      "Inactivo - Problemas de accesibilidad en la vía pública           49\n",
      "Name: 14+años_motivo_no_busco_trabajo, dtype: int64\n",
      "Total: 4763\n"
     ]
    }
   ],
   "source": [
    "print(df[\"14+años_status_laboral\"].value_counts())\n",
    "print(\"Total:\", df[\"14+años_status_laboral\"].value_counts().sum(), \"\\n\")\n",
    "\n",
    "print(df[\"14+años_motivo_no_busco_trabajo\"].value_counts())\n",
    "print(\"Total:\", df[\"14+años_motivo_no_busco_trabajo\"].value_counts().sum())"
   ]
  },
  {
   "cell_type": "markdown",
   "metadata": {},
   "source": [
    "¡Enhorabuena! Con 4763 observaciones (similar al número de la categoría \"Inactivo\" de \"14+años_status_laboral\") vemos que también pueden combinarse. Hagámoslo y procuremos que sólo quede la columna \"14+años_status_laboral\".\n",
    "\n",
    "Este es el resultado:"
   ]
  },
  {
   "cell_type": "code",
   "execution_count": 79,
   "metadata": {},
   "outputs": [
    {
     "name": "stdout",
     "output_type": "stream",
     "text": [
      "Inactivo - Jubilado / pensionado                                2317\n",
      "Ocupado - Obrero / empleado                                     1076\n",
      "Ocupado - Cuenta propia                                          988\n",
      "Inactivo - Otro motivo sin especificar                           774\n",
      "Inactivo - No quiere / no necesita trabajar                      387\n",
      "Inactivo - Desconfía de su capacidad de obtener trabajo          366\n",
      "Inactivo - Dedicado al cuidado del hogar                         331\n",
      "Desocupado                                                       249\n",
      "Inactivo - Es estudiante                                         246\n",
      "Inactivo - No quiere perder pensión por dificultad/invalidez     238\n",
      "Ocupado - Trabajador familiar                                    159\n",
      "Ocupado - Patrón                                                  80\n",
      "Inactivo - Buscó mucho tiempo y no consiguió / desistió           55\n",
      "Inactivo - Problemas de accesibilidad en la vía pública           49\n",
      "Name: 14+años_status_laboral, dtype: int64\n",
      "Total: 7315\n"
     ]
    }
   ],
   "source": [
    "df[\"14+años_status_laboral\"].mask(df[\"14+años_status_laboral\"] == \"Inactivo\",\\\n",
    "                                  df[\"14+años_motivo_no_busco_trabajo\"], inplace=True)\n",
    "\n",
    "df.drop(\"14+años_motivo_no_busco_trabajo\", axis = 1, inplace = True)\n",
    "\n",
    "print(df[\"14+años_status_laboral\"].value_counts())\n",
    "print(\"Total:\", df[\"14+años_status_laboral\"].value_counts().sum())"
   ]
  },
  {
   "cell_type": "markdown",
   "metadata": {},
   "source": [
    "- - -\n",
    "\n",
    "## 4. Visualizando Dataset Optimizado\n",
    "\n",
    "Habiendo terminado todos los pasos del proceso de Limpieza de Datos / Data Cleaning, repitamos todos los pasos de la Sección 2 (*Análisis Exploratorio de Datos*), para poder visualizar las diferencias.\n",
    "\n",
    "Comencemos por *.shape*. El número original de columnas era 35. Logramos acotar el dataset para que queden..."
   ]
  },
  {
   "cell_type": "code",
   "execution_count": 80,
   "metadata": {},
   "outputs": [
    {
     "data": {
      "text/plain": [
       "25"
      ]
     },
     "execution_count": 80,
     "metadata": {},
     "output_type": "execute_result"
    }
   ],
   "source": [
    "df.shape[1]"
   ]
  },
  {
   "cell_type": "markdown",
   "metadata": {},
   "source": [
    "Veamos cuáles son las columnas que quedaron, y el tipo de información que albergan. Téngase en cuenta que todas aquellas a las que les reemplazamos sus valores numéricos por las categorías del Manual de Uso serán consideradas de tipo \"object\".\n",
    "\n",
    "Además, y sólo como curiosidad, la idea original era transformar \"14+años_analfabetismo\", \"14+años_convive_en_pareja\" y las tres columnas \"modulo_imputado\" en *booleanas*. Este tipo de columnas son aquellas de tipo binario, donde o son \"False / Falso\" o \"True / Verdadero\", y estas cinco en especial tienen valores \"Sí\" o \"No\", por lo cual eran candidatas perfectas. Sin embargo, por poseer valores \"NaN\" (observaciones vacías), un efecto indeseado era que dichos campos eran también rellenados, por lo que la información quedaba corrompida."
   ]
  },
  {
   "cell_type": "code",
   "execution_count": 81,
   "metadata": {},
   "outputs": [
    {
     "name": "stdout",
     "output_type": "stream",
     "text": [
      "<class 'pandas.core.frame.DataFrame'>\n",
      "Int64Index: 82327 entries, 1 to 82327\n",
      "Data columns (total 25 columns):\n",
      " #   Column                                        Non-Null Count  Dtype \n",
      "---  ------                                        --------------  ----- \n",
      " 0   ponderador                                    82327 non-null  int64 \n",
      " 1   nro_personas_hogar                            82327 non-null  int64 \n",
      " 2   nro_discapacitados_en_hogar                   82327 non-null  object\n",
      " 3   tipo_hogar                                    82327 non-null  object\n",
      " 4   nro_orden_residente                           82327 non-null  int64 \n",
      " 5   relacion_parentesco                           82327 non-null  object\n",
      " 6   sexo                                          82327 non-null  object\n",
      " 7   rango_etario                                  82327 non-null  object\n",
      " 8   modulob_imputado                              82327 non-null  object\n",
      " 9   moduloc_imputado                              82327 non-null  object\n",
      " 10  modulod_imputado                              82327 non-null  object\n",
      " 11  6+años_tipo_dificultad                        82327 non-null  object\n",
      " 12  tenencia_certificado_discapacidad             82327 non-null  object\n",
      " 13  6+años_comienzo_de_dificultad                 7800 non-null   object\n",
      " 14  6+años_causas_discapacidad                    7800 non-null   object\n",
      " 15  6+años_cobertura_salud                        7800 non-null   object\n",
      " 16  6+años_jubilacion/pension                     7800 non-null   object\n",
      " 17  14+años_analfabetismo                         7315 non-null   object\n",
      " 18  6+años_asistencia_educacion                   7800 non-null   object\n",
      " 19  6+años_modalidad_educativa_actual/pasada      7254 non-null   object\n",
      " 20  6+años_maxima_educacion_alcanzada             7254 non-null   object\n",
      " 21  6+años_principal_motivo_no_cursa/nunca_curso  6710 non-null   object\n",
      " 22  14+años_convive_en_pareja                     7315 non-null   object\n",
      " 23  14+años_estado_civil_legal                    7315 non-null   object\n",
      " 24  14+años_status_laboral                        7315 non-null   object\n",
      "dtypes: int64(3), object(22)\n",
      "memory usage: 16.3+ MB\n"
     ]
    }
   ],
   "source": [
    "df.info()"
   ]
  },
  {
   "cell_type": "markdown",
   "metadata": {},
   "source": [
    "Por otra parte, aunque se indicó al final del Análisis Exploratorio que el rellenado de las observaciones vacías quedaba por fuera de los objetivos de esta Notebook, aún así podemos apreciar un avance importante en este sentido, ya que al haber combinado muchas columnas ahora hay una mayor cantidad de ellas que están completas."
   ]
  },
  {
   "cell_type": "code",
   "execution_count": 82,
   "metadata": {},
   "outputs": [
    {
     "data": {
      "text/plain": [
       "<matplotlib.axes._subplots.AxesSubplot at 0x7fe3a01cb6a0>"
      ]
     },
     "execution_count": 82,
     "metadata": {},
     "output_type": "execute_result"
    },
    {
     "data": {
      "image/png": "[encoded data removed]",
      "text/plain": [
       "<Figure size 1728x720 with 3 Axes>"
      ]
     },
     "metadata": {
      "needs_background": "light"
     },
     "output_type": "display_data"
    }
   ],
   "source": [
    "msno.bar(df)"
   ]
  },
  {
   "cell_type": "markdown",
   "metadata": {},
   "source": [
    "Finalmente, visualicemos como muestra las 15 primeras columnas del dataset, para ver cómo afectaron los cambios a cada observación.\n",
    "\n",
    "Podrá notarse que, a pesar de que los nombres más largos de las nuevas columnas hacen al dataset más ancho, aún así por ser más descriptivos ahora podemos entender mejor qué nos están informando:"
   ]
  },
  {
   "cell_type": "code",
   "execution_count": 83,
   "metadata": {},
   "outputs": [
    {
     "data": {
      "text/html": [
       "<div>\n",
       "<style scoped>\n",
       "    .dataframe tbody tr th:only-of-type {\n",
       "        vertical-align: middle;\n",
       "    }\n",
       "\n",
       "    .dataframe tbody tr th {\n",
       "        vertical-align: top;\n",
       "    }\n",
       "\n",
       "    .dataframe thead th {\n",
       "        text-align: right;\n",
       "    }\n",
       "</style>\n",
       "<table border=\"1\" class=\"dataframe\">\n",
       "  <thead>\n",
       "    <tr style=\"text-align: right;\">\n",
       "      <th></th>\n",
       "      <th>ponderador</th>\n",
       "      <th>nro_personas_hogar</th>\n",
       "      <th>nro_discapacitados_en_hogar</th>\n",
       "      <th>tipo_hogar</th>\n",
       "      <th>nro_orden_residente</th>\n",
       "      <th>relacion_parentesco</th>\n",
       "      <th>sexo</th>\n",
       "      <th>rango_etario</th>\n",
       "    </tr>\n",
       "    <tr>\n",
       "      <th>ID</th>\n",
       "      <th></th>\n",
       "      <th></th>\n",
       "      <th></th>\n",
       "      <th></th>\n",
       "      <th></th>\n",
       "      <th></th>\n",
       "      <th></th>\n",
       "      <th></th>\n",
       "    </tr>\n",
       "  </thead>\n",
       "  <tbody>\n",
       "    <tr>\n",
       "      <th>1</th>\n",
       "      <td>413</td>\n",
       "      <td>4</td>\n",
       "      <td>Sin discapacitados</td>\n",
       "      <td>Familiar - Nuclear</td>\n",
       "      <td>1</td>\n",
       "      <td>Jefe</td>\n",
       "      <td>Varón</td>\n",
       "      <td>14-39 años</td>\n",
       "    </tr>\n",
       "    <tr>\n",
       "      <th>2</th>\n",
       "      <td>473</td>\n",
       "      <td>5</td>\n",
       "      <td>Sin discapacitados</td>\n",
       "      <td>Familiar - Nuclear</td>\n",
       "      <td>3</td>\n",
       "      <td>Hijo/hijastro</td>\n",
       "      <td>Varón</td>\n",
       "      <td>14-39 años</td>\n",
       "    </tr>\n",
       "    <tr>\n",
       "      <th>3</th>\n",
       "      <td>473</td>\n",
       "      <td>5</td>\n",
       "      <td>Sin discapacitados</td>\n",
       "      <td>Familiar - Nuclear</td>\n",
       "      <td>4</td>\n",
       "      <td>Hijo/hijastro</td>\n",
       "      <td>Varón</td>\n",
       "      <td>14-39 años</td>\n",
       "    </tr>\n",
       "    <tr>\n",
       "      <th>4</th>\n",
       "      <td>473</td>\n",
       "      <td>5</td>\n",
       "      <td>Sin discapacitados</td>\n",
       "      <td>Familiar - Nuclear</td>\n",
       "      <td>5</td>\n",
       "      <td>Hijo/hijastro</td>\n",
       "      <td>Varón</td>\n",
       "      <td>6-13 años</td>\n",
       "    </tr>\n",
       "    <tr>\n",
       "      <th>5</th>\n",
       "      <td>409</td>\n",
       "      <td>3</td>\n",
       "      <td>Un discapacitado</td>\n",
       "      <td>Familiar - Extendido</td>\n",
       "      <td>1</td>\n",
       "      <td>Jefe</td>\n",
       "      <td>Mujer</td>\n",
       "      <td>40-64 años</td>\n",
       "    </tr>\n",
       "    <tr>\n",
       "      <th>6</th>\n",
       "      <td>409</td>\n",
       "      <td>3</td>\n",
       "      <td>Un discapacitado</td>\n",
       "      <td>Familiar - Extendido</td>\n",
       "      <td>2</td>\n",
       "      <td>Progenitor/suegro</td>\n",
       "      <td>Mujer</td>\n",
       "      <td>65+ años</td>\n",
       "    </tr>\n",
       "    <tr>\n",
       "      <th>7</th>\n",
       "      <td>409</td>\n",
       "      <td>3</td>\n",
       "      <td>Un discapacitado</td>\n",
       "      <td>Familiar - Extendido</td>\n",
       "      <td>3</td>\n",
       "      <td>Otros (familiares/no familiares)</td>\n",
       "      <td>Mujer</td>\n",
       "      <td>14-39 años</td>\n",
       "    </tr>\n",
       "    <tr>\n",
       "      <th>8</th>\n",
       "      <td>394</td>\n",
       "      <td>2</td>\n",
       "      <td>Sin discapacitados</td>\n",
       "      <td>Familiar - Nuclear</td>\n",
       "      <td>1</td>\n",
       "      <td>Jefe</td>\n",
       "      <td>Varón</td>\n",
       "      <td>65+ años</td>\n",
       "    </tr>\n",
       "    <tr>\n",
       "      <th>9</th>\n",
       "      <td>394</td>\n",
       "      <td>2</td>\n",
       "      <td>Sin discapacitados</td>\n",
       "      <td>Familiar - Nuclear</td>\n",
       "      <td>2</td>\n",
       "      <td>Pareja/cónyuge</td>\n",
       "      <td>Mujer</td>\n",
       "      <td>65+ años</td>\n",
       "    </tr>\n",
       "    <tr>\n",
       "      <th>10</th>\n",
       "      <td>560</td>\n",
       "      <td>3</td>\n",
       "      <td>Sin discapacitados</td>\n",
       "      <td>Familiar - Nuclear</td>\n",
       "      <td>1</td>\n",
       "      <td>Jefe</td>\n",
       "      <td>Varón</td>\n",
       "      <td>40-64 años</td>\n",
       "    </tr>\n",
       "    <tr>\n",
       "      <th>11</th>\n",
       "      <td>560</td>\n",
       "      <td>3</td>\n",
       "      <td>Sin discapacitados</td>\n",
       "      <td>Familiar - Nuclear</td>\n",
       "      <td>2</td>\n",
       "      <td>Pareja/cónyuge</td>\n",
       "      <td>Mujer</td>\n",
       "      <td>14-39 años</td>\n",
       "    </tr>\n",
       "    <tr>\n",
       "      <th>12</th>\n",
       "      <td>560</td>\n",
       "      <td>3</td>\n",
       "      <td>Sin discapacitados</td>\n",
       "      <td>Familiar - Nuclear</td>\n",
       "      <td>3</td>\n",
       "      <td>Hijo/hijastro</td>\n",
       "      <td>Varón</td>\n",
       "      <td>0-5 años</td>\n",
       "    </tr>\n",
       "    <tr>\n",
       "      <th>13</th>\n",
       "      <td>262</td>\n",
       "      <td>1</td>\n",
       "      <td>Sin discapacitados</td>\n",
       "      <td>Unipersonal</td>\n",
       "      <td>1</td>\n",
       "      <td>Jefe</td>\n",
       "      <td>Varón</td>\n",
       "      <td>14-39 años</td>\n",
       "    </tr>\n",
       "    <tr>\n",
       "      <th>14</th>\n",
       "      <td>269</td>\n",
       "      <td>2</td>\n",
       "      <td>Un discapacitado</td>\n",
       "      <td>Familiar - Extendido</td>\n",
       "      <td>1</td>\n",
       "      <td>Jefe</td>\n",
       "      <td>Varón</td>\n",
       "      <td>40-64 años</td>\n",
       "    </tr>\n",
       "    <tr>\n",
       "      <th>15</th>\n",
       "      <td>269</td>\n",
       "      <td>2</td>\n",
       "      <td>Un discapacitado</td>\n",
       "      <td>Familiar - Extendido</td>\n",
       "      <td>2</td>\n",
       "      <td>Otros (familiares/no familiares)</td>\n",
       "      <td>Mujer</td>\n",
       "      <td>40-64 años</td>\n",
       "    </tr>\n",
       "  </tbody>\n",
       "</table>\n",
       "</div>"
      ],
      "text/plain": [
       "    ponderador  nro_personas_hogar nro_discapacitados_en_hogar  \\\n",
       "ID                                                               \n",
       "1          413                   4          Sin discapacitados   \n",
       "2          473                   5          Sin discapacitados   \n",
       "3          473                   5          Sin discapacitados   \n",
       "4          473                   5          Sin discapacitados   \n",
       "5          409                   3            Un discapacitado   \n",
       "6          409                   3            Un discapacitado   \n",
       "7          409                   3            Un discapacitado   \n",
       "8          394                   2          Sin discapacitados   \n",
       "9          394                   2          Sin discapacitados   \n",
       "10         560                   3          Sin discapacitados   \n",
       "11         560                   3          Sin discapacitados   \n",
       "12         560                   3          Sin discapacitados   \n",
       "13         262                   1          Sin discapacitados   \n",
       "14         269                   2            Un discapacitado   \n",
       "15         269                   2            Un discapacitado   \n",
       "\n",
       "              tipo_hogar  nro_orden_residente  \\\n",
       "ID                                              \n",
       "1     Familiar - Nuclear                    1   \n",
       "2     Familiar - Nuclear                    3   \n",
       "3     Familiar - Nuclear                    4   \n",
       "4     Familiar - Nuclear                    5   \n",
       "5   Familiar - Extendido                    1   \n",
       "6   Familiar - Extendido                    2   \n",
       "7   Familiar - Extendido                    3   \n",
       "8     Familiar - Nuclear                    1   \n",
       "9     Familiar - Nuclear                    2   \n",
       "10    Familiar - Nuclear                    1   \n",
       "11    Familiar - Nuclear                    2   \n",
       "12    Familiar - Nuclear                    3   \n",
       "13           Unipersonal                    1   \n",
       "14  Familiar - Extendido                    1   \n",
       "15  Familiar - Extendido                    2   \n",
       "\n",
       "                 relacion_parentesco   sexo rango_etario  \n",
       "ID                                                        \n",
       "1                               Jefe  Varón   14-39 años  \n",
       "2                      Hijo/hijastro  Varón   14-39 años  \n",
       "3                      Hijo/hijastro  Varón   14-39 años  \n",
       "4                      Hijo/hijastro  Varón    6-13 años  \n",
       "5                               Jefe  Mujer   40-64 años  \n",
       "6                  Progenitor/suegro  Mujer     65+ años  \n",
       "7   Otros (familiares/no familiares)  Mujer   14-39 años  \n",
       "8                               Jefe  Varón     65+ años  \n",
       "9                     Pareja/cónyuge  Mujer     65+ años  \n",
       "10                              Jefe  Varón   40-64 años  \n",
       "11                    Pareja/cónyuge  Mujer   14-39 años  \n",
       "12                     Hijo/hijastro  Varón     0-5 años  \n",
       "13                              Jefe  Varón   14-39 años  \n",
       "14                              Jefe  Varón   40-64 años  \n",
       "15  Otros (familiares/no familiares)  Mujer   40-64 años  "
      ]
     },
     "execution_count": 83,
     "metadata": {},
     "output_type": "execute_result"
    }
   ],
   "source": [
    "df.iloc[:15, :8]"
   ]
  },
  {
   "cell_type": "code",
   "execution_count": 84,
   "metadata": {},
   "outputs": [
    {
     "data": {
      "text/html": [
       "<div>\n",
       "<style scoped>\n",
       "    .dataframe tbody tr th:only-of-type {\n",
       "        vertical-align: middle;\n",
       "    }\n",
       "\n",
       "    .dataframe tbody tr th {\n",
       "        vertical-align: top;\n",
       "    }\n",
       "\n",
       "    .dataframe thead th {\n",
       "        text-align: right;\n",
       "    }\n",
       "</style>\n",
       "<table border=\"1\" class=\"dataframe\">\n",
       "  <thead>\n",
       "    <tr style=\"text-align: right;\">\n",
       "      <th></th>\n",
       "      <th>modulob_imputado</th>\n",
       "      <th>moduloc_imputado</th>\n",
       "      <th>modulod_imputado</th>\n",
       "      <th>6+años_tipo_dificultad</th>\n",
       "      <th>tenencia_certificado_discapacidad</th>\n",
       "      <th>6+años_comienzo_de_dificultad</th>\n",
       "    </tr>\n",
       "    <tr>\n",
       "      <th>ID</th>\n",
       "      <th></th>\n",
       "      <th></th>\n",
       "      <th></th>\n",
       "      <th></th>\n",
       "      <th></th>\n",
       "      <th></th>\n",
       "    </tr>\n",
       "  </thead>\n",
       "  <tbody>\n",
       "    <tr>\n",
       "      <th>1</th>\n",
       "      <td>No</td>\n",
       "      <td>No</td>\n",
       "      <td>No</td>\n",
       "      <td>Sin dificultades</td>\n",
       "      <td>No</td>\n",
       "      <td>NaN</td>\n",
       "    </tr>\n",
       "    <tr>\n",
       "      <th>2</th>\n",
       "      <td>Sí</td>\n",
       "      <td>No</td>\n",
       "      <td>No</td>\n",
       "      <td>Sin dificultades</td>\n",
       "      <td>No</td>\n",
       "      <td>NaN</td>\n",
       "    </tr>\n",
       "    <tr>\n",
       "      <th>3</th>\n",
       "      <td>Sí</td>\n",
       "      <td>No</td>\n",
       "      <td>No</td>\n",
       "      <td>Sin dificultades</td>\n",
       "      <td>No</td>\n",
       "      <td>NaN</td>\n",
       "    </tr>\n",
       "    <tr>\n",
       "      <th>4</th>\n",
       "      <td>Sí</td>\n",
       "      <td>No</td>\n",
       "      <td>No</td>\n",
       "      <td>Sin dificultades</td>\n",
       "      <td>No</td>\n",
       "      <td>NaN</td>\n",
       "    </tr>\n",
       "    <tr>\n",
       "      <th>5</th>\n",
       "      <td>No</td>\n",
       "      <td>No</td>\n",
       "      <td>No</td>\n",
       "      <td>Sin dificultades</td>\n",
       "      <td>No</td>\n",
       "      <td>NaN</td>\n",
       "    </tr>\n",
       "    <tr>\n",
       "      <th>6</th>\n",
       "      <td>No</td>\n",
       "      <td>No</td>\n",
       "      <td>No</td>\n",
       "      <td>Una dificultad - Motora</td>\n",
       "      <td>No</td>\n",
       "      <td>40-64 años</td>\n",
       "    </tr>\n",
       "    <tr>\n",
       "      <th>7</th>\n",
       "      <td>No</td>\n",
       "      <td>No</td>\n",
       "      <td>No</td>\n",
       "      <td>Sin dificultades</td>\n",
       "      <td>No</td>\n",
       "      <td>NaN</td>\n",
       "    </tr>\n",
       "    <tr>\n",
       "      <th>8</th>\n",
       "      <td>No</td>\n",
       "      <td>No</td>\n",
       "      <td>No</td>\n",
       "      <td>Sin dificultades</td>\n",
       "      <td>No</td>\n",
       "      <td>NaN</td>\n",
       "    </tr>\n",
       "    <tr>\n",
       "      <th>9</th>\n",
       "      <td>No</td>\n",
       "      <td>No</td>\n",
       "      <td>No</td>\n",
       "      <td>Sin dificultades</td>\n",
       "      <td>No</td>\n",
       "      <td>NaN</td>\n",
       "    </tr>\n",
       "    <tr>\n",
       "      <th>10</th>\n",
       "      <td>No</td>\n",
       "      <td>No</td>\n",
       "      <td>No</td>\n",
       "      <td>Sin dificultades</td>\n",
       "      <td>No</td>\n",
       "      <td>NaN</td>\n",
       "    </tr>\n",
       "    <tr>\n",
       "      <th>11</th>\n",
       "      <td>No</td>\n",
       "      <td>No</td>\n",
       "      <td>No</td>\n",
       "      <td>Sin dificultades</td>\n",
       "      <td>No</td>\n",
       "      <td>NaN</td>\n",
       "    </tr>\n",
       "    <tr>\n",
       "      <th>12</th>\n",
       "      <td>No</td>\n",
       "      <td>No</td>\n",
       "      <td>No</td>\n",
       "      <td>Sin dificultades</td>\n",
       "      <td>No</td>\n",
       "      <td>NaN</td>\n",
       "    </tr>\n",
       "    <tr>\n",
       "      <th>13</th>\n",
       "      <td>No</td>\n",
       "      <td>No</td>\n",
       "      <td>No</td>\n",
       "      <td>Sin dificultades</td>\n",
       "      <td>No</td>\n",
       "      <td>NaN</td>\n",
       "    </tr>\n",
       "    <tr>\n",
       "      <th>14</th>\n",
       "      <td>No</td>\n",
       "      <td>No</td>\n",
       "      <td>No</td>\n",
       "      <td>Sólo certificado de discapacidad</td>\n",
       "      <td>Sí - Vigente</td>\n",
       "      <td>40-64 años</td>\n",
       "    </tr>\n",
       "    <tr>\n",
       "      <th>15</th>\n",
       "      <td>No</td>\n",
       "      <td>No</td>\n",
       "      <td>No</td>\n",
       "      <td>Sin dificultades</td>\n",
       "      <td>No</td>\n",
       "      <td>NaN</td>\n",
       "    </tr>\n",
       "  </tbody>\n",
       "</table>\n",
       "</div>"
      ],
      "text/plain": [
       "   modulob_imputado moduloc_imputado modulod_imputado  \\\n",
       "ID                                                      \n",
       "1                No               No               No   \n",
       "2                Sí               No               No   \n",
       "3                Sí               No               No   \n",
       "4                Sí               No               No   \n",
       "5                No               No               No   \n",
       "6                No               No               No   \n",
       "7                No               No               No   \n",
       "8                No               No               No   \n",
       "9                No               No               No   \n",
       "10               No               No               No   \n",
       "11               No               No               No   \n",
       "12               No               No               No   \n",
       "13               No               No               No   \n",
       "14               No               No               No   \n",
       "15               No               No               No   \n",
       "\n",
       "              6+años_tipo_dificultad tenencia_certificado_discapacidad  \\\n",
       "ID                                                                       \n",
       "1                   Sin dificultades                                No   \n",
       "2                   Sin dificultades                                No   \n",
       "3                   Sin dificultades                                No   \n",
       "4                   Sin dificultades                                No   \n",
       "5                   Sin dificultades                                No   \n",
       "6            Una dificultad - Motora                                No   \n",
       "7                   Sin dificultades                                No   \n",
       "8                   Sin dificultades                                No   \n",
       "9                   Sin dificultades                                No   \n",
       "10                  Sin dificultades                                No   \n",
       "11                  Sin dificultades                                No   \n",
       "12                  Sin dificultades                                No   \n",
       "13                  Sin dificultades                                No   \n",
       "14  Sólo certificado de discapacidad                      Sí - Vigente   \n",
       "15                  Sin dificultades                                No   \n",
       "\n",
       "   6+años_comienzo_de_dificultad  \n",
       "ID                                \n",
       "1                            NaN  \n",
       "2                            NaN  \n",
       "3                            NaN  \n",
       "4                            NaN  \n",
       "5                            NaN  \n",
       "6                     40-64 años  \n",
       "7                            NaN  \n",
       "8                            NaN  \n",
       "9                            NaN  \n",
       "10                           NaN  \n",
       "11                           NaN  \n",
       "12                           NaN  \n",
       "13                           NaN  \n",
       "14                    40-64 años  \n",
       "15                           NaN  "
      ]
     },
     "execution_count": 84,
     "metadata": {},
     "output_type": "execute_result"
    }
   ],
   "source": [
    "df.iloc[:15, 8:14]"
   ]
  },
  {
   "cell_type": "code",
   "execution_count": 85,
   "metadata": {},
   "outputs": [
    {
     "data": {
      "text/html": [
       "<div>\n",
       "<style scoped>\n",
       "    .dataframe tbody tr th:only-of-type {\n",
       "        vertical-align: middle;\n",
       "    }\n",
       "\n",
       "    .dataframe tbody tr th {\n",
       "        vertical-align: top;\n",
       "    }\n",
       "\n",
       "    .dataframe thead th {\n",
       "        text-align: right;\n",
       "    }\n",
       "</style>\n",
       "<table border=\"1\" class=\"dataframe\">\n",
       "  <thead>\n",
       "    <tr style=\"text-align: right;\">\n",
       "      <th></th>\n",
       "      <th>6+años_causas_discapacidad</th>\n",
       "      <th>6+años_cobertura_salud</th>\n",
       "      <th>6+años_jubilacion/pension</th>\n",
       "      <th>14+años_analfabetismo</th>\n",
       "      <th>6+años_asistencia_educacion</th>\n",
       "    </tr>\n",
       "    <tr>\n",
       "      <th>ID</th>\n",
       "      <th></th>\n",
       "      <th></th>\n",
       "      <th></th>\n",
       "      <th></th>\n",
       "      <th></th>\n",
       "    </tr>\n",
       "  </thead>\n",
       "  <tbody>\n",
       "    <tr>\n",
       "      <th>1</th>\n",
       "      <td>NaN</td>\n",
       "      <td>NaN</td>\n",
       "      <td>NaN</td>\n",
       "      <td>NaN</td>\n",
       "      <td>NaN</td>\n",
       "    </tr>\n",
       "    <tr>\n",
       "      <th>2</th>\n",
       "      <td>NaN</td>\n",
       "      <td>NaN</td>\n",
       "      <td>NaN</td>\n",
       "      <td>NaN</td>\n",
       "      <td>NaN</td>\n",
       "    </tr>\n",
       "    <tr>\n",
       "      <th>3</th>\n",
       "      <td>NaN</td>\n",
       "      <td>NaN</td>\n",
       "      <td>NaN</td>\n",
       "      <td>NaN</td>\n",
       "      <td>NaN</td>\n",
       "    </tr>\n",
       "    <tr>\n",
       "      <th>4</th>\n",
       "      <td>NaN</td>\n",
       "      <td>NaN</td>\n",
       "      <td>NaN</td>\n",
       "      <td>NaN</td>\n",
       "      <td>NaN</td>\n",
       "    </tr>\n",
       "    <tr>\n",
       "      <th>5</th>\n",
       "      <td>NaN</td>\n",
       "      <td>NaN</td>\n",
       "      <td>NaN</td>\n",
       "      <td>NaN</td>\n",
       "      <td>NaN</td>\n",
       "    </tr>\n",
       "    <tr>\n",
       "      <th>6</th>\n",
       "      <td>Enfermedad/síndrome</td>\n",
       "      <td>Obra social / PAMI</td>\n",
       "      <td>Sólo jubilación</td>\n",
       "      <td>No</td>\n",
       "      <td>No está cursando, pero cursó</td>\n",
       "    </tr>\n",
       "    <tr>\n",
       "      <th>7</th>\n",
       "      <td>NaN</td>\n",
       "      <td>NaN</td>\n",
       "      <td>NaN</td>\n",
       "      <td>NaN</td>\n",
       "      <td>NaN</td>\n",
       "    </tr>\n",
       "    <tr>\n",
       "      <th>8</th>\n",
       "      <td>NaN</td>\n",
       "      <td>NaN</td>\n",
       "      <td>NaN</td>\n",
       "      <td>NaN</td>\n",
       "      <td>NaN</td>\n",
       "    </tr>\n",
       "    <tr>\n",
       "      <th>9</th>\n",
       "      <td>NaN</td>\n",
       "      <td>NaN</td>\n",
       "      <td>NaN</td>\n",
       "      <td>NaN</td>\n",
       "      <td>NaN</td>\n",
       "    </tr>\n",
       "    <tr>\n",
       "      <th>10</th>\n",
       "      <td>NaN</td>\n",
       "      <td>NaN</td>\n",
       "      <td>NaN</td>\n",
       "      <td>NaN</td>\n",
       "      <td>NaN</td>\n",
       "    </tr>\n",
       "    <tr>\n",
       "      <th>11</th>\n",
       "      <td>NaN</td>\n",
       "      <td>NaN</td>\n",
       "      <td>NaN</td>\n",
       "      <td>NaN</td>\n",
       "      <td>NaN</td>\n",
       "    </tr>\n",
       "    <tr>\n",
       "      <th>12</th>\n",
       "      <td>NaN</td>\n",
       "      <td>NaN</td>\n",
       "      <td>NaN</td>\n",
       "      <td>NaN</td>\n",
       "      <td>NaN</td>\n",
       "    </tr>\n",
       "    <tr>\n",
       "      <th>13</th>\n",
       "      <td>NaN</td>\n",
       "      <td>NaN</td>\n",
       "      <td>NaN</td>\n",
       "      <td>NaN</td>\n",
       "      <td>NaN</td>\n",
       "    </tr>\n",
       "    <tr>\n",
       "      <th>14</th>\n",
       "      <td>Enfermedad/síndrome</td>\n",
       "      <td>Obra social / PAMI</td>\n",
       "      <td>Sólo jubilación</td>\n",
       "      <td>No</td>\n",
       "      <td>No está cursando, pero cursó</td>\n",
       "    </tr>\n",
       "    <tr>\n",
       "      <th>15</th>\n",
       "      <td>NaN</td>\n",
       "      <td>NaN</td>\n",
       "      <td>NaN</td>\n",
       "      <td>NaN</td>\n",
       "      <td>NaN</td>\n",
       "    </tr>\n",
       "  </tbody>\n",
       "</table>\n",
       "</div>"
      ],
      "text/plain": [
       "   6+años_causas_discapacidad 6+años_cobertura_salud  \\\n",
       "ID                                                     \n",
       "1                         NaN                    NaN   \n",
       "2                         NaN                    NaN   \n",
       "3                         NaN                    NaN   \n",
       "4                         NaN                    NaN   \n",
       "5                         NaN                    NaN   \n",
       "6         Enfermedad/síndrome     Obra social / PAMI   \n",
       "7                         NaN                    NaN   \n",
       "8                         NaN                    NaN   \n",
       "9                         NaN                    NaN   \n",
       "10                        NaN                    NaN   \n",
       "11                        NaN                    NaN   \n",
       "12                        NaN                    NaN   \n",
       "13                        NaN                    NaN   \n",
       "14        Enfermedad/síndrome     Obra social / PAMI   \n",
       "15                        NaN                    NaN   \n",
       "\n",
       "   6+años_jubilacion/pension 14+años_analfabetismo  \\\n",
       "ID                                                   \n",
       "1                        NaN                   NaN   \n",
       "2                        NaN                   NaN   \n",
       "3                        NaN                   NaN   \n",
       "4                        NaN                   NaN   \n",
       "5                        NaN                   NaN   \n",
       "6            Sólo jubilación                    No   \n",
       "7                        NaN                   NaN   \n",
       "8                        NaN                   NaN   \n",
       "9                        NaN                   NaN   \n",
       "10                       NaN                   NaN   \n",
       "11                       NaN                   NaN   \n",
       "12                       NaN                   NaN   \n",
       "13                       NaN                   NaN   \n",
       "14           Sólo jubilación                    No   \n",
       "15                       NaN                   NaN   \n",
       "\n",
       "     6+años_asistencia_educacion  \n",
       "ID                                \n",
       "1                            NaN  \n",
       "2                            NaN  \n",
       "3                            NaN  \n",
       "4                            NaN  \n",
       "5                            NaN  \n",
       "6   No está cursando, pero cursó  \n",
       "7                            NaN  \n",
       "8                            NaN  \n",
       "9                            NaN  \n",
       "10                           NaN  \n",
       "11                           NaN  \n",
       "12                           NaN  \n",
       "13                           NaN  \n",
       "14  No está cursando, pero cursó  \n",
       "15                           NaN  "
      ]
     },
     "execution_count": 85,
     "metadata": {},
     "output_type": "execute_result"
    }
   ],
   "source": [
    "df.iloc[:15, 14:19]"
   ]
  },
  {
   "cell_type": "code",
   "execution_count": 86,
   "metadata": {},
   "outputs": [
    {
     "data": {
      "text/html": [
       "<div>\n",
       "<style scoped>\n",
       "    .dataframe tbody tr th:only-of-type {\n",
       "        vertical-align: middle;\n",
       "    }\n",
       "\n",
       "    .dataframe tbody tr th {\n",
       "        vertical-align: top;\n",
       "    }\n",
       "\n",
       "    .dataframe thead th {\n",
       "        text-align: right;\n",
       "    }\n",
       "</style>\n",
       "<table border=\"1\" class=\"dataframe\">\n",
       "  <thead>\n",
       "    <tr style=\"text-align: right;\">\n",
       "      <th></th>\n",
       "      <th>6+años_modalidad_educativa_actual/pasada</th>\n",
       "      <th>6+años_maxima_educacion_alcanzada</th>\n",
       "      <th>6+años_principal_motivo_no_cursa/nunca_curso</th>\n",
       "    </tr>\n",
       "    <tr>\n",
       "      <th>ID</th>\n",
       "      <th></th>\n",
       "      <th></th>\n",
       "      <th></th>\n",
       "    </tr>\n",
       "  </thead>\n",
       "  <tbody>\n",
       "    <tr>\n",
       "      <th>1</th>\n",
       "      <td>NaN</td>\n",
       "      <td>NaN</td>\n",
       "      <td>NaN</td>\n",
       "    </tr>\n",
       "    <tr>\n",
       "      <th>2</th>\n",
       "      <td>NaN</td>\n",
       "      <td>NaN</td>\n",
       "      <td>NaN</td>\n",
       "    </tr>\n",
       "    <tr>\n",
       "      <th>3</th>\n",
       "      <td>NaN</td>\n",
       "      <td>NaN</td>\n",
       "      <td>NaN</td>\n",
       "    </tr>\n",
       "    <tr>\n",
       "      <th>4</th>\n",
       "      <td>NaN</td>\n",
       "      <td>NaN</td>\n",
       "      <td>NaN</td>\n",
       "    </tr>\n",
       "    <tr>\n",
       "      <th>5</th>\n",
       "      <td>NaN</td>\n",
       "      <td>NaN</td>\n",
       "      <td>NaN</td>\n",
       "    </tr>\n",
       "    <tr>\n",
       "      <th>6</th>\n",
       "      <td>Sólo común</td>\n",
       "      <td>Primario completo</td>\n",
       "      <td>Terminó sus estudios / no quiere seguir estudi...</td>\n",
       "    </tr>\n",
       "    <tr>\n",
       "      <th>7</th>\n",
       "      <td>NaN</td>\n",
       "      <td>NaN</td>\n",
       "      <td>NaN</td>\n",
       "    </tr>\n",
       "    <tr>\n",
       "      <th>8</th>\n",
       "      <td>NaN</td>\n",
       "      <td>NaN</td>\n",
       "      <td>NaN</td>\n",
       "    </tr>\n",
       "    <tr>\n",
       "      <th>9</th>\n",
       "      <td>NaN</td>\n",
       "      <td>NaN</td>\n",
       "      <td>NaN</td>\n",
       "    </tr>\n",
       "    <tr>\n",
       "      <th>10</th>\n",
       "      <td>NaN</td>\n",
       "      <td>NaN</td>\n",
       "      <td>NaN</td>\n",
       "    </tr>\n",
       "    <tr>\n",
       "      <th>11</th>\n",
       "      <td>NaN</td>\n",
       "      <td>NaN</td>\n",
       "      <td>NaN</td>\n",
       "    </tr>\n",
       "    <tr>\n",
       "      <th>12</th>\n",
       "      <td>NaN</td>\n",
       "      <td>NaN</td>\n",
       "      <td>NaN</td>\n",
       "    </tr>\n",
       "    <tr>\n",
       "      <th>13</th>\n",
       "      <td>NaN</td>\n",
       "      <td>NaN</td>\n",
       "      <td>NaN</td>\n",
       "    </tr>\n",
       "    <tr>\n",
       "      <th>14</th>\n",
       "      <td>Sólo común</td>\n",
       "      <td>Secundario incompleto</td>\n",
       "      <td>No accedió a escolaridad debido a su discapacidad</td>\n",
       "    </tr>\n",
       "    <tr>\n",
       "      <th>15</th>\n",
       "      <td>NaN</td>\n",
       "      <td>NaN</td>\n",
       "      <td>NaN</td>\n",
       "    </tr>\n",
       "  </tbody>\n",
       "</table>\n",
       "</div>"
      ],
      "text/plain": [
       "   6+años_modalidad_educativa_actual/pasada 6+años_maxima_educacion_alcanzada  \\\n",
       "ID                                                                              \n",
       "1                                       NaN                               NaN   \n",
       "2                                       NaN                               NaN   \n",
       "3                                       NaN                               NaN   \n",
       "4                                       NaN                               NaN   \n",
       "5                                       NaN                               NaN   \n",
       "6                                Sólo común                 Primario completo   \n",
       "7                                       NaN                               NaN   \n",
       "8                                       NaN                               NaN   \n",
       "9                                       NaN                               NaN   \n",
       "10                                      NaN                               NaN   \n",
       "11                                      NaN                               NaN   \n",
       "12                                      NaN                               NaN   \n",
       "13                                      NaN                               NaN   \n",
       "14                               Sólo común             Secundario incompleto   \n",
       "15                                      NaN                               NaN   \n",
       "\n",
       "         6+años_principal_motivo_no_cursa/nunca_curso  \n",
       "ID                                                     \n",
       "1                                                 NaN  \n",
       "2                                                 NaN  \n",
       "3                                                 NaN  \n",
       "4                                                 NaN  \n",
       "5                                                 NaN  \n",
       "6   Terminó sus estudios / no quiere seguir estudi...  \n",
       "7                                                 NaN  \n",
       "8                                                 NaN  \n",
       "9                                                 NaN  \n",
       "10                                                NaN  \n",
       "11                                                NaN  \n",
       "12                                                NaN  \n",
       "13                                                NaN  \n",
       "14  No accedió a escolaridad debido a su discapacidad  \n",
       "15                                                NaN  "
      ]
     },
     "execution_count": 86,
     "metadata": {},
     "output_type": "execute_result"
    }
   ],
   "source": [
    "df.iloc[:15, 19:22]"
   ]
  },
  {
   "cell_type": "code",
   "execution_count": 87,
   "metadata": {},
   "outputs": [
    {
     "data": {
      "text/html": [
       "<div>\n",
       "<style scoped>\n",
       "    .dataframe tbody tr th:only-of-type {\n",
       "        vertical-align: middle;\n",
       "    }\n",
       "\n",
       "    .dataframe tbody tr th {\n",
       "        vertical-align: top;\n",
       "    }\n",
       "\n",
       "    .dataframe thead th {\n",
       "        text-align: right;\n",
       "    }\n",
       "</style>\n",
       "<table border=\"1\" class=\"dataframe\">\n",
       "  <thead>\n",
       "    <tr style=\"text-align: right;\">\n",
       "      <th></th>\n",
       "      <th>14+años_convive_en_pareja</th>\n",
       "      <th>14+años_estado_civil_legal</th>\n",
       "      <th>14+años_status_laboral</th>\n",
       "    </tr>\n",
       "    <tr>\n",
       "      <th>ID</th>\n",
       "      <th></th>\n",
       "      <th></th>\n",
       "      <th></th>\n",
       "    </tr>\n",
       "  </thead>\n",
       "  <tbody>\n",
       "    <tr>\n",
       "      <th>1</th>\n",
       "      <td>NaN</td>\n",
       "      <td>NaN</td>\n",
       "      <td>NaN</td>\n",
       "    </tr>\n",
       "    <tr>\n",
       "      <th>2</th>\n",
       "      <td>NaN</td>\n",
       "      <td>NaN</td>\n",
       "      <td>NaN</td>\n",
       "    </tr>\n",
       "    <tr>\n",
       "      <th>3</th>\n",
       "      <td>NaN</td>\n",
       "      <td>NaN</td>\n",
       "      <td>NaN</td>\n",
       "    </tr>\n",
       "    <tr>\n",
       "      <th>4</th>\n",
       "      <td>NaN</td>\n",
       "      <td>NaN</td>\n",
       "      <td>NaN</td>\n",
       "    </tr>\n",
       "    <tr>\n",
       "      <th>5</th>\n",
       "      <td>NaN</td>\n",
       "      <td>NaN</td>\n",
       "      <td>NaN</td>\n",
       "    </tr>\n",
       "    <tr>\n",
       "      <th>6</th>\n",
       "      <td>No</td>\n",
       "      <td>Soltero/a</td>\n",
       "      <td>Inactivo - Jubilado / pensionado</td>\n",
       "    </tr>\n",
       "    <tr>\n",
       "      <th>7</th>\n",
       "      <td>NaN</td>\n",
       "      <td>NaN</td>\n",
       "      <td>NaN</td>\n",
       "    </tr>\n",
       "    <tr>\n",
       "      <th>8</th>\n",
       "      <td>NaN</td>\n",
       "      <td>NaN</td>\n",
       "      <td>NaN</td>\n",
       "    </tr>\n",
       "    <tr>\n",
       "      <th>9</th>\n",
       "      <td>NaN</td>\n",
       "      <td>NaN</td>\n",
       "      <td>NaN</td>\n",
       "    </tr>\n",
       "    <tr>\n",
       "      <th>10</th>\n",
       "      <td>NaN</td>\n",
       "      <td>NaN</td>\n",
       "      <td>NaN</td>\n",
       "    </tr>\n",
       "    <tr>\n",
       "      <th>11</th>\n",
       "      <td>NaN</td>\n",
       "      <td>NaN</td>\n",
       "      <td>NaN</td>\n",
       "    </tr>\n",
       "    <tr>\n",
       "      <th>12</th>\n",
       "      <td>NaN</td>\n",
       "      <td>NaN</td>\n",
       "      <td>NaN</td>\n",
       "    </tr>\n",
       "    <tr>\n",
       "      <th>13</th>\n",
       "      <td>NaN</td>\n",
       "      <td>NaN</td>\n",
       "      <td>NaN</td>\n",
       "    </tr>\n",
       "    <tr>\n",
       "      <th>14</th>\n",
       "      <td>No</td>\n",
       "      <td>Soltero/a</td>\n",
       "      <td>Inactivo - Jubilado / pensionado</td>\n",
       "    </tr>\n",
       "    <tr>\n",
       "      <th>15</th>\n",
       "      <td>NaN</td>\n",
       "      <td>NaN</td>\n",
       "      <td>NaN</td>\n",
       "    </tr>\n",
       "  </tbody>\n",
       "</table>\n",
       "</div>"
      ],
      "text/plain": [
       "   14+años_convive_en_pareja 14+años_estado_civil_legal  \\\n",
       "ID                                                        \n",
       "1                        NaN                        NaN   \n",
       "2                        NaN                        NaN   \n",
       "3                        NaN                        NaN   \n",
       "4                        NaN                        NaN   \n",
       "5                        NaN                        NaN   \n",
       "6                         No                  Soltero/a   \n",
       "7                        NaN                        NaN   \n",
       "8                        NaN                        NaN   \n",
       "9                        NaN                        NaN   \n",
       "10                       NaN                        NaN   \n",
       "11                       NaN                        NaN   \n",
       "12                       NaN                        NaN   \n",
       "13                       NaN                        NaN   \n",
       "14                        No                  Soltero/a   \n",
       "15                       NaN                        NaN   \n",
       "\n",
       "              14+años_status_laboral  \n",
       "ID                                    \n",
       "1                                NaN  \n",
       "2                                NaN  \n",
       "3                                NaN  \n",
       "4                                NaN  \n",
       "5                                NaN  \n",
       "6   Inactivo - Jubilado / pensionado  \n",
       "7                                NaN  \n",
       "8                                NaN  \n",
       "9                                NaN  \n",
       "10                               NaN  \n",
       "11                               NaN  \n",
       "12                               NaN  \n",
       "13                               NaN  \n",
       "14  Inactivo - Jubilado / pensionado  \n",
       "15                               NaN  "
      ]
     },
     "execution_count": 87,
     "metadata": {},
     "output_type": "execute_result"
    }
   ],
   "source": [
    "df.iloc[:15, 22:]"
   ]
  },
  {
   "cell_type": "markdown",
   "metadata": {},
   "source": [
    "- - -\n",
    "\n",
    "## 5. Guardando los cambios\n",
    "\n",
    "Como broche final, guardemos este dataset mejorado en un nuevo archivo CSV."
   ]
  },
  {
   "cell_type": "code",
   "execution_count": 88,
   "metadata": {},
   "outputs": [],
   "source": [
    "df.to_csv(\"estudio_discapacidad_2018_mejorado.csv\", encoding = \"utf-8\")"
   ]
  }
 ],
 "metadata": {
  "kernelspec": {
   "display_name": "Python 3",
   "language": "python",
   "name": "python3"
  },
  "language_info": {
   "codemirror_mode": {
    "name": "ipython",
    "version": 3
   },
   "file_extension": ".py",
   "mimetype": "text/x-python",
   "name": "python",
   "nbconvert_exporter": "python",
   "pygments_lexer": "ipython3",
   "version": "3.8.3"
  }
 },
 "nbformat": 4,
 "nbformat_minor": 4
}
